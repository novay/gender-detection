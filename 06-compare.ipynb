{
 "cells": [
  {
   "attachments": {},
   "cell_type": "markdown",
   "metadata": {},
   "source": [
    "## **Comparing the performance of 13 Classifiers based on F1-score**<br/>\n",
    "**Highlights:**\n",
    "1. Correlation analysis using Pearson coefficient for continuous features and Cramer's V for categorical features\n",
    "2. Data visualization using Seaborn FacetGrid plots\n",
    "3. Results for each ML algorithm are presented after performing 5-fold cross validation based on F1-score"
   ]
  },
  {
   "cell_type": "code",
   "execution_count": 28,
   "metadata": {},
   "outputs": [],
   "source": [
    "import os, random\n",
    "\n",
    "import numpy as np\n",
    "from scipy.stats import chi2_contingency\n",
    "import pandas as pd\n",
    "\n",
    "import seaborn as sns\n",
    "import matplotlib.pyplot as plt\n",
    "%matplotlib inline\n",
    "\n",
    "import tensorflow as tf\n",
    "from tensorflow import keras\n",
    "\n",
    "## Set fixed ranom seeds to get reproducible results\n",
    "seed_val = 0\n",
    "os.environ['PYTHONHASHSEED'] = str(seed_val)\n",
    "random.seed(seed_val)\n",
    "np.random.seed(seed_val)\n",
    "tf.random.set_seed(seed_val)"
   ]
  },
  {
   "attachments": {},
   "cell_type": "markdown",
   "metadata": {},
   "source": [
    "#### **1. Import and Clean Data**"
   ]
  },
  {
   "cell_type": "code",
   "execution_count": 36,
   "metadata": {},
   "outputs": [
    {
     "name": "stdout",
     "output_type": "stream",
     "text": [
      "<class 'pandas.core.frame.DataFrame'>\n",
      "RangeIndex: 624241 entries, 0 to 624240\n",
      "Data columns (total 2 columns):\n",
      " #   Column  Non-Null Count   Dtype \n",
      "---  ------  --------------   ----- \n",
      " 0   name    624241 non-null  object\n",
      " 1   gender  624241 non-null  int64 \n",
      "dtypes: int64(1), object(1)\n",
      "memory usage: 9.5+ MB\n"
     ]
    }
   ],
   "source": [
    "df = pd.read_csv('./data/contoh.csv')\n",
    "map = {\"m\" : 1, \"f\" : 0}\n",
    "df[\"gender\"] = df[\"gender\"].map(map)\n",
    "df.info()"
   ]
  },
  {
   "cell_type": "code",
   "execution_count": 37,
   "metadata": {},
   "outputs": [
    {
     "data": {
      "text/html": [
       "<div>\n",
       "<style scoped>\n",
       "    .dataframe tbody tr th:only-of-type {\n",
       "        vertical-align: middle;\n",
       "    }\n",
       "\n",
       "    .dataframe tbody tr th {\n",
       "        vertical-align: top;\n",
       "    }\n",
       "\n",
       "    .dataframe thead th {\n",
       "        text-align: right;\n",
       "    }\n",
       "</style>\n",
       "<table border=\"1\" class=\"dataframe\">\n",
       "  <thead>\n",
       "    <tr style=\"text-align: right;\">\n",
       "      <th></th>\n",
       "      <th>name</th>\n",
       "      <th>gender</th>\n",
       "    </tr>\n",
       "  </thead>\n",
       "  <tbody>\n",
       "    <tr>\n",
       "      <th>47058</th>\n",
       "      <td>aji raja hakim</td>\n",
       "      <td>1</td>\n",
       "    </tr>\n",
       "    <tr>\n",
       "      <th>129766</th>\n",
       "      <td>chayra mikayla utomo</td>\n",
       "      <td>0</td>\n",
       "    </tr>\n",
       "    <tr>\n",
       "      <th>303189</th>\n",
       "      <td>lisnawati mustamin</td>\n",
       "      <td>0</td>\n",
       "    </tr>\n",
       "    <tr>\n",
       "      <th>67052</th>\n",
       "      <td>ana supriati</td>\n",
       "      <td>0</td>\n",
       "    </tr>\n",
       "    <tr>\n",
       "      <th>261776</th>\n",
       "      <td>iwang</td>\n",
       "      <td>1</td>\n",
       "    </tr>\n",
       "  </tbody>\n",
       "</table>\n",
       "</div>"
      ],
      "text/plain": [
       "                        name  gender\n",
       "47058         aji raja hakim       1\n",
       "129766  chayra mikayla utomo       0\n",
       "303189    lisnawati mustamin       0\n",
       "67052           ana supriati       0\n",
       "261776                 iwang       1"
      ]
     },
     "execution_count": 37,
     "metadata": {},
     "output_type": "execute_result"
    }
   ],
   "source": [
    "df.sample(5)"
   ]
  },
  {
   "attachments": {},
   "cell_type": "markdown",
   "metadata": {},
   "source": [
    "##### **1.1. Missing values**"
   ]
  },
  {
   "cell_type": "code",
   "execution_count": 38,
   "metadata": {},
   "outputs": [
    {
     "data": {
      "text/plain": [
       "name      0\n",
       "gender    0\n",
       "dtype: int64"
      ]
     },
     "execution_count": 38,
     "metadata": {},
     "output_type": "execute_result"
    }
   ],
   "source": [
    "df.isnull().sum()"
   ]
  },
  {
   "attachments": {},
   "cell_type": "markdown",
   "metadata": {},
   "source": [
    "The dataset has no missing values."
   ]
  },
  {
   "attachments": {},
   "cell_type": "markdown",
   "metadata": {},
   "source": [
    "##### **1.2. Type casting from `object` to `Categorical` and deleting features**"
   ]
  },
  {
   "attachments": {},
   "cell_type": "markdown",
   "metadata": {},
   "source": [
    "Finding categorical features and converting their pandas dtype to `categorical` will ease visualization"
   ]
  },
  {
   "cell_type": "code",
   "execution_count": 39,
   "metadata": {},
   "outputs": [],
   "source": [
    "def summarize_categoricals(df, show_levels=False):\n",
    "    \"\"\"\n",
    "        Display uniqueness in each column\n",
    "    \"\"\"\n",
    "    data = [[df[c].unique(), len(df[c].unique()), df[c].isnull().sum()] for c in df.columns]\n",
    "    df_temp = pd.DataFrame(data, index=df.columns,\n",
    "                           columns=['Levels', 'No. of Levels',\n",
    "                                    'No. of Missing Values'])\n",
    "    return df_temp.iloc[:, 0 if show_levels else 1:]\n",
    "\n",
    "\n",
    "def return_categoricals(df, threshold=5):\n",
    "    \"\"\"\n",
    "        Returns a list of columns that have less than or equal to\n",
    "        `threshold` number of unique categorical levels\n",
    "    \"\"\"\n",
    "    return list(filter(lambda c: c if len(df[c].unique()) <= threshold else None,\n",
    "                       df.columns))\n",
    "\n",
    "\n",
    "def to_categorical(columns, df):\n",
    "    \"\"\"\n",
    "        Converts the columns passed in `columns` to categorical datatype\n",
    "    \"\"\"\n",
    "    for col in columns:\n",
    "        df[col] = df[col].astype('category')\n",
    "    return df"
   ]
  },
  {
   "cell_type": "code",
   "execution_count": 40,
   "metadata": {},
   "outputs": [
    {
     "data": {
      "text/html": [
       "<div>\n",
       "<style scoped>\n",
       "    .dataframe tbody tr th:only-of-type {\n",
       "        vertical-align: middle;\n",
       "    }\n",
       "\n",
       "    .dataframe tbody tr th {\n",
       "        vertical-align: top;\n",
       "    }\n",
       "\n",
       "    .dataframe thead th {\n",
       "        text-align: right;\n",
       "    }\n",
       "</style>\n",
       "<table border=\"1\" class=\"dataframe\">\n",
       "  <thead>\n",
       "    <tr style=\"text-align: right;\">\n",
       "      <th></th>\n",
       "      <th>Levels</th>\n",
       "      <th>No. of Levels</th>\n",
       "      <th>No. of Missing Values</th>\n",
       "    </tr>\n",
       "  </thead>\n",
       "  <tbody>\n",
       "    <tr>\n",
       "      <th>name</th>\n",
       "      <td>[a'adila yasmin humairah, a'aliyah ananda rusd...</td>\n",
       "      <td>621535</td>\n",
       "      <td>0</td>\n",
       "    </tr>\n",
       "    <tr>\n",
       "      <th>gender</th>\n",
       "      <td>[0, 1]</td>\n",
       "      <td>2</td>\n",
       "      <td>0</td>\n",
       "    </tr>\n",
       "  </tbody>\n",
       "</table>\n",
       "</div>"
      ],
      "text/plain": [
       "                                                   Levels  No. of Levels   \n",
       "name    [a'adila yasmin humairah, a'aliyah ananda rusd...         621535  \\\n",
       "gender                                             [0, 1]              2   \n",
       "\n",
       "        No. of Missing Values  \n",
       "name                        0  \n",
       "gender                      0  "
      ]
     },
     "execution_count": 40,
     "metadata": {},
     "output_type": "execute_result"
    }
   ],
   "source": [
    "summarize_categoricals(df, show_levels=True)"
   ]
  },
  {
   "cell_type": "code",
   "execution_count": 41,
   "metadata": {},
   "outputs": [
    {
     "name": "stdout",
     "output_type": "stream",
     "text": [
      "<class 'pandas.core.frame.DataFrame'>\n",
      "RangeIndex: 624241 entries, 0 to 624240\n",
      "Data columns (total 2 columns):\n",
      " #   Column  Non-Null Count   Dtype   \n",
      "---  ------  --------------   -----   \n",
      " 0   name    624241 non-null  object  \n",
      " 1   gender  624241 non-null  category\n",
      "dtypes: category(1), object(1)\n",
      "memory usage: 5.4+ MB\n"
     ]
    }
   ],
   "source": [
    "to_cast = return_categoricals(df, threshold=5)\n",
    "df = to_categorical(to_cast, df)\n",
    "\n",
    "df.info()"
   ]
  },
  {
   "cell_type": "code",
   "execution_count": 43,
   "metadata": {},
   "outputs": [
    {
     "data": {
      "text/plain": [
       "0               a'adila yasmin humairah\n",
       "1                 a'aliyah ananda rusdi\n",
       "2                                  a'am\n",
       "3                         a'an darmawan\n",
       "4             a'an dwi handika ramadhan\n",
       "                      ...              \n",
       "624236                  zysheila rizqia\n",
       "624237                     zyva izabell\n",
       "624238             zyva zhafira mandanu\n",
       "624239    zyvanya dayang putri az-zahra\n",
       "624240                zyvha eleora finn\n",
       "Name: name, Length: 624241, dtype: object"
      ]
     },
     "execution_count": 43,
     "metadata": {},
     "output_type": "execute_result"
    }
   ],
   "source": [
    "df['name']"
   ]
  },
  {
   "attachments": {},
   "cell_type": "markdown",
   "metadata": {},
   "source": [
    "#### **2. Correlations in the Data**"
   ]
  },
  {
   "cell_type": "code",
   "execution_count": 44,
   "metadata": {},
   "outputs": [
    {
     "data": {
      "text/html": [
       "<div>\n",
       "<style scoped>\n",
       "    .dataframe tbody tr th:only-of-type {\n",
       "        vertical-align: middle;\n",
       "    }\n",
       "\n",
       "    .dataframe tbody tr th {\n",
       "        vertical-align: top;\n",
       "    }\n",
       "\n",
       "    .dataframe thead th {\n",
       "        text-align: right;\n",
       "    }\n",
       "</style>\n",
       "<table border=\"1\" class=\"dataframe\">\n",
       "  <thead>\n",
       "    <tr style=\"text-align: right;\">\n",
       "      <th></th>\n",
       "      <th>count</th>\n",
       "      <th>unique</th>\n",
       "      <th>top</th>\n",
       "      <th>freq</th>\n",
       "    </tr>\n",
       "  </thead>\n",
       "  <tbody>\n",
       "    <tr>\n",
       "      <th>name</th>\n",
       "      <td>624241</td>\n",
       "      <td>621535</td>\n",
       "      <td>fitri jaya</td>\n",
       "      <td>3</td>\n",
       "    </tr>\n",
       "    <tr>\n",
       "      <th>gender</th>\n",
       "      <td>624241</td>\n",
       "      <td>2</td>\n",
       "      <td>1</td>\n",
       "      <td>322538</td>\n",
       "    </tr>\n",
       "  </tbody>\n",
       "</table>\n",
       "</div>"
      ],
      "text/plain": [
       "         count  unique         top    freq\n",
       "name    624241  621535  fitri jaya       3\n",
       "gender  624241       2           1  322538"
      ]
     },
     "execution_count": 44,
     "metadata": {},
     "output_type": "execute_result"
    }
   ],
   "source": [
    "df.describe().T"
   ]
  },
  {
   "cell_type": "markdown",
   "metadata": {},
   "source": [
    "##### **2.1. Correlation between Quantitative variables**"
   ]
  },
  {
   "cell_type": "code",
   "execution_count": null,
   "metadata": {},
   "outputs": [],
   "source": [
    "# fig, ax = plt.subplots(figsize=(10, 8))\n",
    "# sns.heatmap(data=df.astype({'gender': 'int64'}).corr(),\n",
    "#             annot=True, cmap='coolwarm', cbar_kws={'aspect': 50},\n",
    "#             square=True, ax=ax)\n",
    "# plt.xticks(rotation=30, ha='right');\n",
    "# plt.tight_layout()"
   ]
  },
  {
   "attachments": {},
   "cell_type": "markdown",
   "metadata": {},
   "source": [
    "##### **2.2. Correlation between Qualitative/ Categorical variables**"
   ]
  },
  {
   "cell_type": "code",
   "execution_count": 50,
   "metadata": {},
   "outputs": [
    {
     "data": {
      "image/png": "[encoded data removed]",
      "text/plain": [
       "<Figure size 1000x500 with 3 Axes>"
      ]
     },
     "metadata": {},
     "output_type": "display_data"
    }
   ],
   "source": [
    "fig, axs = plt.subplots(nrows=1, ncols=3, figsize=(10, 5))\n",
    "titles = list(df.select_dtypes(include='category'))\n",
    "\n",
    "ax_title_pairs = zip(axs.flat, titles)\n",
    "\n",
    "for ax, title in ax_title_pairs:\n",
    "    sns.countplot(x=title, data=df, palette='Pastel2', ax=ax)\n",
    "    ax.set_title(title)\n",
    "    ax.set_xlabel('')\n",
    "\n",
    "plt.tight_layout()"
   ]
  },
  {
   "attachments": {},
   "cell_type": "markdown",
   "metadata": {},
   "source": [
    "#### **3. Data Visualization**"
   ]
  },
  {
   "attachments": {},
   "cell_type": "markdown",
   "metadata": {},
   "source": [
    "##### **3.1. Frequency distribution: Categorical Variables**"
   ]
  },
  {
   "cell_type": "code",
   "execution_count": null,
   "metadata": {},
   "outputs": [],
   "source": [
    "df_grouped = df.groupby(by='gender')\n",
    "fig, axs = plt.subplots(nrows=3, ncols=3, figsize=(15, 8))\n",
    "titles = list(df.select_dtypes(exclude='category'))\n",
    "\n",
    "ax_title_pairs = zip(axs.flat, titles)\n",
    "\n",
    "for ax, title in ax_title_pairs:\n",
    "    sns.distplot(df_grouped.get_group(0)[title], bins=10, ax=ax, label='No')\n",
    "    sns.distplot(df_grouped.get_group(1)[title], bins=10, ax=ax, label='Yes')\n",
    "    ax.legend(title='DEATH_EVENT')\n",
    "\n",
    "axs.flat[-1].remove()\n",
    "axs.flat[-2].remove()\n",
    "fig.tight_layout()"
   ]
  },
  {
   "attachments": {},
   "cell_type": "markdown",
   "metadata": {},
   "source": [
    "##### **3.2. Frequency distribution: Continuous Variables**"
   ]
  },
  {
   "attachments": {},
   "cell_type": "markdown",
   "metadata": {},
   "source": [
    "##### **3.3. Box plots : Outlier detection**"
   ]
  },
  {
   "attachments": {},
   "cell_type": "markdown",
   "metadata": {},
   "source": [
    "##### **3.4. Heart failure among gender based on smoking and BP**"
   ]
  },
  {
   "attachments": {},
   "cell_type": "markdown",
   "metadata": {},
   "source": [
    "##### **3.5. Heart failure among gender based on anaemia and diabetes**"
   ]
  },
  {
   "attachments": {},
   "cell_type": "markdown",
   "metadata": {},
   "source": [
    "#### **4. Data Preprocessing**<br/>\n",
    "Data needs to be one-hot-encoded before applying machine learning models."
   ]
  },
  {
   "cell_type": "code",
   "execution_count": 56,
   "metadata": {},
   "outputs": [],
   "source": [
    "x = df.iloc[:, :-1]\n",
    "y = df['gender']\n",
    "\n",
    "categorical_columns = list(x.select_dtypes(include='category').columns)\n",
    "numeric_columns = list(x.select_dtypes(exclude='category').columns)"
   ]
  },
  {
   "attachments": {},
   "cell_type": "markdown",
   "metadata": {},
   "source": [
    "##### **4.1. Train-Test split**<br/>\n",
    "CatBoost classifier does not require any knd of preprocessing while Naive bayes requires a different kind of preprocesing. Therefore, we will use raw/unmodified data (`x_train_cat`, `x_test_cat`, `y_train_cat`, `y_test_cat`) for CatBoost and preprocessed data (`x_train`, `x_test`, `y_train`, `y_test`) for all other classifiers. For Naive Bayes, we will use the raw data (`x_train_cat`, `x_test_cat`, `y_train_cat`, `y_test_cat`) and preprocess it as required in the Naive Bayes section."
   ]
  },
  {
   "cell_type": "code",
   "execution_count": 61,
   "metadata": {},
   "outputs": [],
   "source": [
    "from sklearn.model_selection import train_test_split\n",
    "\n",
    "data_splits = train_test_split(x, y, test_size=0.25, random_state=seed_val, shuffle=True, stratify=y)\n",
    "x_train, x_test, y_train, y_test = data_splits\n",
    "\n",
    "\n",
    "# For CatBoost and Naive Bayes\n",
    "data_splits = train_test_split(x, y, test_size=0.25, random_state=seed_val, shuffle=True, stratify=y)\n",
    "x_train_cat, x_test_cat, y_train_cat, y_test_cat = data_splits\n",
    "\n",
    "\n",
    "# list(map(lambda x: x.shape, [x, y, x_train, x_test, y_train, y_test]))"
   ]
  },
  {
   "cell_type": "code",
   "execution_count": 62,
   "metadata": {},
   "outputs": [
    {
     "data": {
      "text/plain": [
       "gender\n",
       "1    80635\n",
       "0    75426\n",
       "Name: count, dtype: int64"
      ]
     },
     "execution_count": 62,
     "metadata": {},
     "output_type": "execute_result"
    }
   ],
   "source": [
    "pd.Series(y_test).value_counts()"
   ]
  },
  {
   "cell_type": "code",
   "execution_count": 63,
   "metadata": {},
   "outputs": [
    {
     "data": {
      "image/png": "[encoded data removed]",
      "text/plain": [
       "<Figure size 640x480 with 1 Axes>"
      ]
     },
     "metadata": {},
     "output_type": "display_data"
    }
   ],
   "source": [
    "sns.countplot(x=y_test);"
   ]
  },
  {
   "attachments": {},
   "cell_type": "markdown",
   "metadata": {},
   "source": [
    "##### **4.2. Preprocessing Pipeline: One-hot Encoding, Standardization**<br/>\n",
    "We need to standardize the continuous or quantitative variables/ features before applying Machine Learning models. This is important because if we don't standardize the features, features with high variance that are orders of magnitude larger that others might dominate the model fitting process and causing the model unable to learn from other features (with lower variance) correctly as expected.\n",
    "There is no need to standardize categorical variables.\n",
    "\n",
    "To know which algorithms require standardization/ feature scaling read this useful (stackoverflow post)[https://stats.stackexchange.com/questions/244507/what-algorithms-need-feature-scaling-beside-from-svm].\n",
    "\n",
    "*Also we need to standardize the data only after performing train-test split because if we standardize before splitting then there is a chance for some information leak from the test set into the train set. We always want the test set to be completely new to the ML models. (Read more)[https://scikit-learn.org/stable/modules/compose.html#columntransformer-for-heterogeneous-data]*"
   ]
  },
  {
   "cell_type": "code",
   "execution_count": 78,
   "metadata": {},
   "outputs": [
    {
     "name": "stderr",
     "output_type": "stream",
     "text": [
      "/var/folders/_w/v4htfwfd40ggzfmlgw22dk2m0000gn/T/ipykernel_14647/4084208379.py:11: DeprecationWarning: `np.int` is a deprecated alias for the builtin `int`. To silence this warning, use `int` by itself. Doing this will not modify any behavior and is safe. When replacing `np.int`, you may wish to use e.g. `np.int64` or `np.int32` to specify the precision. If you wish to review your current use, check the release note link for additional information.\n",
      "Deprecated in NumPy 1.20; for more details and guidance: https://numpy.org/devdocs/release/1.20.0-notes.html#deprecations\n",
      "  ('onehot', OneHotEncoder(drop='first', dtype=np.int))])\n"
     ]
    },
    {
     "ename": "ValueError",
     "evalue": "could not convert string to float: 'bennediktus liing'",
     "output_type": "error",
     "traceback": [
      "\u001b[0;31m---------------------------------------------------------------------------\u001b[0m",
      "\u001b[0;31mValueError\u001b[0m                                Traceback (most recent call last)",
      "Cell \u001b[0;32mIn[78], line 22\u001b[0m\n\u001b[1;32m     14\u001b[0m preprocessor \u001b[39m=\u001b[39m ColumnTransformer(\n\u001b[1;32m     15\u001b[0m     transformers\u001b[39m=\u001b[39m[\n\u001b[1;32m     16\u001b[0m         (\u001b[39m'\u001b[39m\u001b[39mnum\u001b[39m\u001b[39m'\u001b[39m, numeric_transformer, numeric_columns),\n\u001b[1;32m     17\u001b[0m         (\u001b[39m'\u001b[39m\u001b[39mcat\u001b[39m\u001b[39m'\u001b[39m, categorical_transformer, categorical_columns)],\n\u001b[1;32m     18\u001b[0m     remainder\u001b[39m=\u001b[39m\u001b[39m'\u001b[39m\u001b[39mpassthrough\u001b[39m\u001b[39m'\u001b[39m)\n\u001b[1;32m     21\u001b[0m \u001b[39m## Applying Column Transformer\u001b[39;00m\n\u001b[0;32m---> 22\u001b[0m x_train \u001b[39m=\u001b[39m preprocessor\u001b[39m.\u001b[39;49mfit_transform(x_train)\n\u001b[1;32m     23\u001b[0m x_test \u001b[39m=\u001b[39m preprocessor\u001b[39m.\u001b[39mtransform(x_test)\n\u001b[1;32m     26\u001b[0m \u001b[39m## Label encoding\u001b[39;00m\n",
      "File \u001b[0;32m~/miniconda/lib/python3.10/site-packages/sklearn/utils/_set_output.py:140\u001b[0m, in \u001b[0;36m_wrap_method_output.<locals>.wrapped\u001b[0;34m(self, X, *args, **kwargs)\u001b[0m\n\u001b[1;32m    138\u001b[0m \u001b[39m@wraps\u001b[39m(f)\n\u001b[1;32m    139\u001b[0m \u001b[39mdef\u001b[39;00m \u001b[39mwrapped\u001b[39m(\u001b[39mself\u001b[39m, X, \u001b[39m*\u001b[39margs, \u001b[39m*\u001b[39m\u001b[39m*\u001b[39mkwargs):\n\u001b[0;32m--> 140\u001b[0m     data_to_wrap \u001b[39m=\u001b[39m f(\u001b[39mself\u001b[39;49m, X, \u001b[39m*\u001b[39;49margs, \u001b[39m*\u001b[39;49m\u001b[39m*\u001b[39;49mkwargs)\n\u001b[1;32m    141\u001b[0m     \u001b[39mif\u001b[39;00m \u001b[39misinstance\u001b[39m(data_to_wrap, \u001b[39mtuple\u001b[39m):\n\u001b[1;32m    142\u001b[0m         \u001b[39m# only wrap the first output for cross decomposition\u001b[39;00m\n\u001b[1;32m    143\u001b[0m         \u001b[39mreturn\u001b[39;00m (\n\u001b[1;32m    144\u001b[0m             _wrap_data_with_container(method, data_to_wrap[\u001b[39m0\u001b[39m], X, \u001b[39mself\u001b[39m),\n\u001b[1;32m    145\u001b[0m             \u001b[39m*\u001b[39mdata_to_wrap[\u001b[39m1\u001b[39m:],\n\u001b[1;32m    146\u001b[0m         )\n",
      "File \u001b[0;32m~/miniconda/lib/python3.10/site-packages/sklearn/compose/_column_transformer.py:727\u001b[0m, in \u001b[0;36mColumnTransformer.fit_transform\u001b[0;34m(self, X, y)\u001b[0m\n\u001b[1;32m    724\u001b[0m \u001b[39mself\u001b[39m\u001b[39m.\u001b[39m_validate_column_callables(X)\n\u001b[1;32m    725\u001b[0m \u001b[39mself\u001b[39m\u001b[39m.\u001b[39m_validate_remainder(X)\n\u001b[0;32m--> 727\u001b[0m result \u001b[39m=\u001b[39m \u001b[39mself\u001b[39;49m\u001b[39m.\u001b[39;49m_fit_transform(X, y, _fit_transform_one)\n\u001b[1;32m    729\u001b[0m \u001b[39mif\u001b[39;00m \u001b[39mnot\u001b[39;00m result:\n\u001b[1;32m    730\u001b[0m     \u001b[39mself\u001b[39m\u001b[39m.\u001b[39m_update_fitted_transformers([])\n",
      "File \u001b[0;32m~/miniconda/lib/python3.10/site-packages/sklearn/compose/_column_transformer.py:658\u001b[0m, in \u001b[0;36mColumnTransformer._fit_transform\u001b[0;34m(self, X, y, func, fitted, column_as_strings)\u001b[0m\n\u001b[1;32m    652\u001b[0m transformers \u001b[39m=\u001b[39m \u001b[39mlist\u001b[39m(\n\u001b[1;32m    653\u001b[0m     \u001b[39mself\u001b[39m\u001b[39m.\u001b[39m_iter(\n\u001b[1;32m    654\u001b[0m         fitted\u001b[39m=\u001b[39mfitted, replace_strings\u001b[39m=\u001b[39m\u001b[39mTrue\u001b[39;00m, column_as_strings\u001b[39m=\u001b[39mcolumn_as_strings\n\u001b[1;32m    655\u001b[0m     )\n\u001b[1;32m    656\u001b[0m )\n\u001b[1;32m    657\u001b[0m \u001b[39mtry\u001b[39;00m:\n\u001b[0;32m--> 658\u001b[0m     \u001b[39mreturn\u001b[39;00m Parallel(n_jobs\u001b[39m=\u001b[39;49m\u001b[39mself\u001b[39;49m\u001b[39m.\u001b[39;49mn_jobs)(\n\u001b[1;32m    659\u001b[0m         delayed(func)(\n\u001b[1;32m    660\u001b[0m             transformer\u001b[39m=\u001b[39;49mclone(trans) \u001b[39mif\u001b[39;49;00m \u001b[39mnot\u001b[39;49;00m fitted \u001b[39melse\u001b[39;49;00m trans,\n\u001b[1;32m    661\u001b[0m             X\u001b[39m=\u001b[39;49m_safe_indexing(X, column, axis\u001b[39m=\u001b[39;49m\u001b[39m1\u001b[39;49m),\n\u001b[1;32m    662\u001b[0m             y\u001b[39m=\u001b[39;49my,\n\u001b[1;32m    663\u001b[0m             weight\u001b[39m=\u001b[39;49mweight,\n\u001b[1;32m    664\u001b[0m             message_clsname\u001b[39m=\u001b[39;49m\u001b[39m\"\u001b[39;49m\u001b[39mColumnTransformer\u001b[39;49m\u001b[39m\"\u001b[39;49m,\n\u001b[1;32m    665\u001b[0m             message\u001b[39m=\u001b[39;49m\u001b[39mself\u001b[39;49m\u001b[39m.\u001b[39;49m_log_message(name, idx, \u001b[39mlen\u001b[39;49m(transformers)),\n\u001b[1;32m    666\u001b[0m         )\n\u001b[1;32m    667\u001b[0m         \u001b[39mfor\u001b[39;49;00m idx, (name, trans, column, weight) \u001b[39min\u001b[39;49;00m \u001b[39menumerate\u001b[39;49m(transformers, \u001b[39m1\u001b[39;49m)\n\u001b[1;32m    668\u001b[0m     )\n\u001b[1;32m    669\u001b[0m \u001b[39mexcept\u001b[39;00m \u001b[39mValueError\u001b[39;00m \u001b[39mas\u001b[39;00m e:\n\u001b[1;32m    670\u001b[0m     \u001b[39mif\u001b[39;00m \u001b[39m\"\u001b[39m\u001b[39mExpected 2D array, got 1D array instead\u001b[39m\u001b[39m\"\u001b[39m \u001b[39min\u001b[39;00m \u001b[39mstr\u001b[39m(e):\n",
      "File \u001b[0;32m~/miniconda/lib/python3.10/site-packages/sklearn/utils/parallel.py:63\u001b[0m, in \u001b[0;36mParallel.__call__\u001b[0;34m(self, iterable)\u001b[0m\n\u001b[1;32m     58\u001b[0m config \u001b[39m=\u001b[39m get_config()\n\u001b[1;32m     59\u001b[0m iterable_with_config \u001b[39m=\u001b[39m (\n\u001b[1;32m     60\u001b[0m     (_with_config(delayed_func, config), args, kwargs)\n\u001b[1;32m     61\u001b[0m     \u001b[39mfor\u001b[39;00m delayed_func, args, kwargs \u001b[39min\u001b[39;00m iterable\n\u001b[1;32m     62\u001b[0m )\n\u001b[0;32m---> 63\u001b[0m \u001b[39mreturn\u001b[39;00m \u001b[39msuper\u001b[39;49m()\u001b[39m.\u001b[39;49m\u001b[39m__call__\u001b[39;49m(iterable_with_config)\n",
      "File \u001b[0;32m~/.local/lib/python3.10/site-packages/joblib/parallel.py:1085\u001b[0m, in \u001b[0;36mParallel.__call__\u001b[0;34m(self, iterable)\u001b[0m\n\u001b[1;32m   1076\u001b[0m \u001b[39mtry\u001b[39;00m:\n\u001b[1;32m   1077\u001b[0m     \u001b[39m# Only set self._iterating to True if at least a batch\u001b[39;00m\n\u001b[1;32m   1078\u001b[0m     \u001b[39m# was dispatched. In particular this covers the edge\u001b[39;00m\n\u001b[0;32m   (...)\u001b[0m\n\u001b[1;32m   1082\u001b[0m     \u001b[39m# was very quick and its callback already dispatched all the\u001b[39;00m\n\u001b[1;32m   1083\u001b[0m     \u001b[39m# remaining jobs.\u001b[39;00m\n\u001b[1;32m   1084\u001b[0m     \u001b[39mself\u001b[39m\u001b[39m.\u001b[39m_iterating \u001b[39m=\u001b[39m \u001b[39mFalse\u001b[39;00m\n\u001b[0;32m-> 1085\u001b[0m     \u001b[39mif\u001b[39;00m \u001b[39mself\u001b[39;49m\u001b[39m.\u001b[39;49mdispatch_one_batch(iterator):\n\u001b[1;32m   1086\u001b[0m         \u001b[39mself\u001b[39m\u001b[39m.\u001b[39m_iterating \u001b[39m=\u001b[39m \u001b[39mself\u001b[39m\u001b[39m.\u001b[39m_original_iterator \u001b[39mis\u001b[39;00m \u001b[39mnot\u001b[39;00m \u001b[39mNone\u001b[39;00m\n\u001b[1;32m   1088\u001b[0m     \u001b[39mwhile\u001b[39;00m \u001b[39mself\u001b[39m\u001b[39m.\u001b[39mdispatch_one_batch(iterator):\n",
      "File \u001b[0;32m~/.local/lib/python3.10/site-packages/joblib/parallel.py:901\u001b[0m, in \u001b[0;36mParallel.dispatch_one_batch\u001b[0;34m(self, iterator)\u001b[0m\n\u001b[1;32m    899\u001b[0m     \u001b[39mreturn\u001b[39;00m \u001b[39mFalse\u001b[39;00m\n\u001b[1;32m    900\u001b[0m \u001b[39melse\u001b[39;00m:\n\u001b[0;32m--> 901\u001b[0m     \u001b[39mself\u001b[39;49m\u001b[39m.\u001b[39;49m_dispatch(tasks)\n\u001b[1;32m    902\u001b[0m     \u001b[39mreturn\u001b[39;00m \u001b[39mTrue\u001b[39;00m\n",
      "File \u001b[0;32m~/.local/lib/python3.10/site-packages/joblib/parallel.py:819\u001b[0m, in \u001b[0;36mParallel._dispatch\u001b[0;34m(self, batch)\u001b[0m\n\u001b[1;32m    817\u001b[0m \u001b[39mwith\u001b[39;00m \u001b[39mself\u001b[39m\u001b[39m.\u001b[39m_lock:\n\u001b[1;32m    818\u001b[0m     job_idx \u001b[39m=\u001b[39m \u001b[39mlen\u001b[39m(\u001b[39mself\u001b[39m\u001b[39m.\u001b[39m_jobs)\n\u001b[0;32m--> 819\u001b[0m     job \u001b[39m=\u001b[39m \u001b[39mself\u001b[39;49m\u001b[39m.\u001b[39;49m_backend\u001b[39m.\u001b[39;49mapply_async(batch, callback\u001b[39m=\u001b[39;49mcb)\n\u001b[1;32m    820\u001b[0m     \u001b[39m# A job can complete so quickly than its callback is\u001b[39;00m\n\u001b[1;32m    821\u001b[0m     \u001b[39m# called before we get here, causing self._jobs to\u001b[39;00m\n\u001b[1;32m    822\u001b[0m     \u001b[39m# grow. To ensure correct results ordering, .insert is\u001b[39;00m\n\u001b[1;32m    823\u001b[0m     \u001b[39m# used (rather than .append) in the following line\u001b[39;00m\n\u001b[1;32m    824\u001b[0m     \u001b[39mself\u001b[39m\u001b[39m.\u001b[39m_jobs\u001b[39m.\u001b[39minsert(job_idx, job)\n",
      "File \u001b[0;32m~/.local/lib/python3.10/site-packages/joblib/_parallel_backends.py:208\u001b[0m, in \u001b[0;36mSequentialBackend.apply_async\u001b[0;34m(self, func, callback)\u001b[0m\n\u001b[1;32m    206\u001b[0m \u001b[39mdef\u001b[39;00m \u001b[39mapply_async\u001b[39m(\u001b[39mself\u001b[39m, func, callback\u001b[39m=\u001b[39m\u001b[39mNone\u001b[39;00m):\n\u001b[1;32m    207\u001b[0m \u001b[39m    \u001b[39m\u001b[39m\"\"\"Schedule a func to be run\"\"\"\u001b[39;00m\n\u001b[0;32m--> 208\u001b[0m     result \u001b[39m=\u001b[39m ImmediateResult(func)\n\u001b[1;32m    209\u001b[0m     \u001b[39mif\u001b[39;00m callback:\n\u001b[1;32m    210\u001b[0m         callback(result)\n",
      "File \u001b[0;32m~/.local/lib/python3.10/site-packages/joblib/_parallel_backends.py:597\u001b[0m, in \u001b[0;36mImmediateResult.__init__\u001b[0;34m(self, batch)\u001b[0m\n\u001b[1;32m    594\u001b[0m \u001b[39mdef\u001b[39;00m \u001b[39m__init__\u001b[39m(\u001b[39mself\u001b[39m, batch):\n\u001b[1;32m    595\u001b[0m     \u001b[39m# Don't delay the application, to avoid keeping the input\u001b[39;00m\n\u001b[1;32m    596\u001b[0m     \u001b[39m# arguments in memory\u001b[39;00m\n\u001b[0;32m--> 597\u001b[0m     \u001b[39mself\u001b[39m\u001b[39m.\u001b[39mresults \u001b[39m=\u001b[39m batch()\n",
      "File \u001b[0;32m~/.local/lib/python3.10/site-packages/joblib/parallel.py:288\u001b[0m, in \u001b[0;36mBatchedCalls.__call__\u001b[0;34m(self)\u001b[0m\n\u001b[1;32m    284\u001b[0m \u001b[39mdef\u001b[39;00m \u001b[39m__call__\u001b[39m(\u001b[39mself\u001b[39m):\n\u001b[1;32m    285\u001b[0m     \u001b[39m# Set the default nested backend to self._backend but do not set the\u001b[39;00m\n\u001b[1;32m    286\u001b[0m     \u001b[39m# change the default number of processes to -1\u001b[39;00m\n\u001b[1;32m    287\u001b[0m     \u001b[39mwith\u001b[39;00m parallel_backend(\u001b[39mself\u001b[39m\u001b[39m.\u001b[39m_backend, n_jobs\u001b[39m=\u001b[39m\u001b[39mself\u001b[39m\u001b[39m.\u001b[39m_n_jobs):\n\u001b[0;32m--> 288\u001b[0m         \u001b[39mreturn\u001b[39;00m [func(\u001b[39m*\u001b[39margs, \u001b[39m*\u001b[39m\u001b[39m*\u001b[39mkwargs)\n\u001b[1;32m    289\u001b[0m                 \u001b[39mfor\u001b[39;00m func, args, kwargs \u001b[39min\u001b[39;00m \u001b[39mself\u001b[39m\u001b[39m.\u001b[39mitems]\n",
      "File \u001b[0;32m~/.local/lib/python3.10/site-packages/joblib/parallel.py:288\u001b[0m, in \u001b[0;36m<listcomp>\u001b[0;34m(.0)\u001b[0m\n\u001b[1;32m    284\u001b[0m \u001b[39mdef\u001b[39;00m \u001b[39m__call__\u001b[39m(\u001b[39mself\u001b[39m):\n\u001b[1;32m    285\u001b[0m     \u001b[39m# Set the default nested backend to self._backend but do not set the\u001b[39;00m\n\u001b[1;32m    286\u001b[0m     \u001b[39m# change the default number of processes to -1\u001b[39;00m\n\u001b[1;32m    287\u001b[0m     \u001b[39mwith\u001b[39;00m parallel_backend(\u001b[39mself\u001b[39m\u001b[39m.\u001b[39m_backend, n_jobs\u001b[39m=\u001b[39m\u001b[39mself\u001b[39m\u001b[39m.\u001b[39m_n_jobs):\n\u001b[0;32m--> 288\u001b[0m         \u001b[39mreturn\u001b[39;00m [func(\u001b[39m*\u001b[39;49margs, \u001b[39m*\u001b[39;49m\u001b[39m*\u001b[39;49mkwargs)\n\u001b[1;32m    289\u001b[0m                 \u001b[39mfor\u001b[39;00m func, args, kwargs \u001b[39min\u001b[39;00m \u001b[39mself\u001b[39m\u001b[39m.\u001b[39mitems]\n",
      "File \u001b[0;32m~/miniconda/lib/python3.10/site-packages/sklearn/utils/parallel.py:123\u001b[0m, in \u001b[0;36m_FuncWrapper.__call__\u001b[0;34m(self, *args, **kwargs)\u001b[0m\n\u001b[1;32m    121\u001b[0m     config \u001b[39m=\u001b[39m {}\n\u001b[1;32m    122\u001b[0m \u001b[39mwith\u001b[39;00m config_context(\u001b[39m*\u001b[39m\u001b[39m*\u001b[39mconfig):\n\u001b[0;32m--> 123\u001b[0m     \u001b[39mreturn\u001b[39;00m \u001b[39mself\u001b[39;49m\u001b[39m.\u001b[39;49mfunction(\u001b[39m*\u001b[39;49margs, \u001b[39m*\u001b[39;49m\u001b[39m*\u001b[39;49mkwargs)\n",
      "File \u001b[0;32m~/miniconda/lib/python3.10/site-packages/sklearn/pipeline.py:893\u001b[0m, in \u001b[0;36m_fit_transform_one\u001b[0;34m(transformer, X, y, weight, message_clsname, message, **fit_params)\u001b[0m\n\u001b[1;32m    891\u001b[0m \u001b[39mwith\u001b[39;00m _print_elapsed_time(message_clsname, message):\n\u001b[1;32m    892\u001b[0m     \u001b[39mif\u001b[39;00m \u001b[39mhasattr\u001b[39m(transformer, \u001b[39m\"\u001b[39m\u001b[39mfit_transform\u001b[39m\u001b[39m\"\u001b[39m):\n\u001b[0;32m--> 893\u001b[0m         res \u001b[39m=\u001b[39m transformer\u001b[39m.\u001b[39;49mfit_transform(X, y, \u001b[39m*\u001b[39;49m\u001b[39m*\u001b[39;49mfit_params)\n\u001b[1;32m    894\u001b[0m     \u001b[39melse\u001b[39;00m:\n\u001b[1;32m    895\u001b[0m         res \u001b[39m=\u001b[39m transformer\u001b[39m.\u001b[39mfit(X, y, \u001b[39m*\u001b[39m\u001b[39m*\u001b[39mfit_params)\u001b[39m.\u001b[39mtransform(X)\n",
      "File \u001b[0;32m~/miniconda/lib/python3.10/site-packages/sklearn/pipeline.py:445\u001b[0m, in \u001b[0;36mPipeline.fit_transform\u001b[0;34m(self, X, y, **fit_params)\u001b[0m\n\u001b[1;32m    443\u001b[0m fit_params_last_step \u001b[39m=\u001b[39m fit_params_steps[\u001b[39mself\u001b[39m\u001b[39m.\u001b[39msteps[\u001b[39m-\u001b[39m\u001b[39m1\u001b[39m][\u001b[39m0\u001b[39m]]\n\u001b[1;32m    444\u001b[0m \u001b[39mif\u001b[39;00m \u001b[39mhasattr\u001b[39m(last_step, \u001b[39m\"\u001b[39m\u001b[39mfit_transform\u001b[39m\u001b[39m\"\u001b[39m):\n\u001b[0;32m--> 445\u001b[0m     \u001b[39mreturn\u001b[39;00m last_step\u001b[39m.\u001b[39;49mfit_transform(Xt, y, \u001b[39m*\u001b[39;49m\u001b[39m*\u001b[39;49mfit_params_last_step)\n\u001b[1;32m    446\u001b[0m \u001b[39melse\u001b[39;00m:\n\u001b[1;32m    447\u001b[0m     \u001b[39mreturn\u001b[39;00m last_step\u001b[39m.\u001b[39mfit(Xt, y, \u001b[39m*\u001b[39m\u001b[39m*\u001b[39mfit_params_last_step)\u001b[39m.\u001b[39mtransform(Xt)\n",
      "File \u001b[0;32m~/miniconda/lib/python3.10/site-packages/sklearn/utils/_set_output.py:140\u001b[0m, in \u001b[0;36m_wrap_method_output.<locals>.wrapped\u001b[0;34m(self, X, *args, **kwargs)\u001b[0m\n\u001b[1;32m    138\u001b[0m \u001b[39m@wraps\u001b[39m(f)\n\u001b[1;32m    139\u001b[0m \u001b[39mdef\u001b[39;00m \u001b[39mwrapped\u001b[39m(\u001b[39mself\u001b[39m, X, \u001b[39m*\u001b[39margs, \u001b[39m*\u001b[39m\u001b[39m*\u001b[39mkwargs):\n\u001b[0;32m--> 140\u001b[0m     data_to_wrap \u001b[39m=\u001b[39m f(\u001b[39mself\u001b[39;49m, X, \u001b[39m*\u001b[39;49margs, \u001b[39m*\u001b[39;49m\u001b[39m*\u001b[39;49mkwargs)\n\u001b[1;32m    141\u001b[0m     \u001b[39mif\u001b[39;00m \u001b[39misinstance\u001b[39m(data_to_wrap, \u001b[39mtuple\u001b[39m):\n\u001b[1;32m    142\u001b[0m         \u001b[39m# only wrap the first output for cross decomposition\u001b[39;00m\n\u001b[1;32m    143\u001b[0m         \u001b[39mreturn\u001b[39;00m (\n\u001b[1;32m    144\u001b[0m             _wrap_data_with_container(method, data_to_wrap[\u001b[39m0\u001b[39m], X, \u001b[39mself\u001b[39m),\n\u001b[1;32m    145\u001b[0m             \u001b[39m*\u001b[39mdata_to_wrap[\u001b[39m1\u001b[39m:],\n\u001b[1;32m    146\u001b[0m         )\n",
      "File \u001b[0;32m~/miniconda/lib/python3.10/site-packages/sklearn/base.py:878\u001b[0m, in \u001b[0;36mTransformerMixin.fit_transform\u001b[0;34m(self, X, y, **fit_params)\u001b[0m\n\u001b[1;32m    874\u001b[0m \u001b[39m# non-optimized default implementation; override when a better\u001b[39;00m\n\u001b[1;32m    875\u001b[0m \u001b[39m# method is possible for a given clustering algorithm\u001b[39;00m\n\u001b[1;32m    876\u001b[0m \u001b[39mif\u001b[39;00m y \u001b[39mis\u001b[39;00m \u001b[39mNone\u001b[39;00m:\n\u001b[1;32m    877\u001b[0m     \u001b[39m# fit method of arity 1 (unsupervised transformation)\u001b[39;00m\n\u001b[0;32m--> 878\u001b[0m     \u001b[39mreturn\u001b[39;00m \u001b[39mself\u001b[39;49m\u001b[39m.\u001b[39;49mfit(X, \u001b[39m*\u001b[39;49m\u001b[39m*\u001b[39;49mfit_params)\u001b[39m.\u001b[39mtransform(X)\n\u001b[1;32m    879\u001b[0m \u001b[39melse\u001b[39;00m:\n\u001b[1;32m    880\u001b[0m     \u001b[39m# fit method of arity 2 (supervised transformation)\u001b[39;00m\n\u001b[1;32m    881\u001b[0m     \u001b[39mreturn\u001b[39;00m \u001b[39mself\u001b[39m\u001b[39m.\u001b[39mfit(X, y, \u001b[39m*\u001b[39m\u001b[39m*\u001b[39mfit_params)\u001b[39m.\u001b[39mtransform(X)\n",
      "File \u001b[0;32m~/miniconda/lib/python3.10/site-packages/sklearn/preprocessing/_data.py:824\u001b[0m, in \u001b[0;36mStandardScaler.fit\u001b[0;34m(self, X, y, sample_weight)\u001b[0m\n\u001b[1;32m    822\u001b[0m \u001b[39m# Reset internal state before fitting\u001b[39;00m\n\u001b[1;32m    823\u001b[0m \u001b[39mself\u001b[39m\u001b[39m.\u001b[39m_reset()\n\u001b[0;32m--> 824\u001b[0m \u001b[39mreturn\u001b[39;00m \u001b[39mself\u001b[39;49m\u001b[39m.\u001b[39;49mpartial_fit(X, y, sample_weight)\n",
      "File \u001b[0;32m~/miniconda/lib/python3.10/site-packages/sklearn/preprocessing/_data.py:861\u001b[0m, in \u001b[0;36mStandardScaler.partial_fit\u001b[0;34m(self, X, y, sample_weight)\u001b[0m\n\u001b[1;32m    858\u001b[0m \u001b[39mself\u001b[39m\u001b[39m.\u001b[39m_validate_params()\n\u001b[1;32m    860\u001b[0m first_call \u001b[39m=\u001b[39m \u001b[39mnot\u001b[39;00m \u001b[39mhasattr\u001b[39m(\u001b[39mself\u001b[39m, \u001b[39m\"\u001b[39m\u001b[39mn_samples_seen_\u001b[39m\u001b[39m\"\u001b[39m)\n\u001b[0;32m--> 861\u001b[0m X \u001b[39m=\u001b[39m \u001b[39mself\u001b[39;49m\u001b[39m.\u001b[39;49m_validate_data(\n\u001b[1;32m    862\u001b[0m     X,\n\u001b[1;32m    863\u001b[0m     accept_sparse\u001b[39m=\u001b[39;49m(\u001b[39m\"\u001b[39;49m\u001b[39mcsr\u001b[39;49m\u001b[39m\"\u001b[39;49m, \u001b[39m\"\u001b[39;49m\u001b[39mcsc\u001b[39;49m\u001b[39m\"\u001b[39;49m),\n\u001b[1;32m    864\u001b[0m     dtype\u001b[39m=\u001b[39;49mFLOAT_DTYPES,\n\u001b[1;32m    865\u001b[0m     force_all_finite\u001b[39m=\u001b[39;49m\u001b[39m\"\u001b[39;49m\u001b[39mallow-nan\u001b[39;49m\u001b[39m\"\u001b[39;49m,\n\u001b[1;32m    866\u001b[0m     reset\u001b[39m=\u001b[39;49mfirst_call,\n\u001b[1;32m    867\u001b[0m )\n\u001b[1;32m    868\u001b[0m n_features \u001b[39m=\u001b[39m X\u001b[39m.\u001b[39mshape[\u001b[39m1\u001b[39m]\n\u001b[1;32m    870\u001b[0m \u001b[39mif\u001b[39;00m sample_weight \u001b[39mis\u001b[39;00m \u001b[39mnot\u001b[39;00m \u001b[39mNone\u001b[39;00m:\n",
      "File \u001b[0;32m~/miniconda/lib/python3.10/site-packages/sklearn/base.py:565\u001b[0m, in \u001b[0;36mBaseEstimator._validate_data\u001b[0;34m(self, X, y, reset, validate_separately, **check_params)\u001b[0m\n\u001b[1;32m    563\u001b[0m     \u001b[39mraise\u001b[39;00m \u001b[39mValueError\u001b[39;00m(\u001b[39m\"\u001b[39m\u001b[39mValidation should be done on X, y or both.\u001b[39m\u001b[39m\"\u001b[39m)\n\u001b[1;32m    564\u001b[0m \u001b[39melif\u001b[39;00m \u001b[39mnot\u001b[39;00m no_val_X \u001b[39mand\u001b[39;00m no_val_y:\n\u001b[0;32m--> 565\u001b[0m     X \u001b[39m=\u001b[39m check_array(X, input_name\u001b[39m=\u001b[39;49m\u001b[39m\"\u001b[39;49m\u001b[39mX\u001b[39;49m\u001b[39m\"\u001b[39;49m, \u001b[39m*\u001b[39;49m\u001b[39m*\u001b[39;49mcheck_params)\n\u001b[1;32m    566\u001b[0m     out \u001b[39m=\u001b[39m X\n\u001b[1;32m    567\u001b[0m \u001b[39melif\u001b[39;00m no_val_X \u001b[39mand\u001b[39;00m \u001b[39mnot\u001b[39;00m no_val_y:\n",
      "File \u001b[0;32m~/miniconda/lib/python3.10/site-packages/sklearn/utils/validation.py:879\u001b[0m, in \u001b[0;36mcheck_array\u001b[0;34m(array, accept_sparse, accept_large_sparse, dtype, order, copy, force_all_finite, ensure_2d, allow_nd, ensure_min_samples, ensure_min_features, estimator, input_name)\u001b[0m\n\u001b[1;32m    877\u001b[0m         array \u001b[39m=\u001b[39m xp\u001b[39m.\u001b[39mastype(array, dtype, copy\u001b[39m=\u001b[39m\u001b[39mFalse\u001b[39;00m)\n\u001b[1;32m    878\u001b[0m     \u001b[39melse\u001b[39;00m:\n\u001b[0;32m--> 879\u001b[0m         array \u001b[39m=\u001b[39m _asarray_with_order(array, order\u001b[39m=\u001b[39;49morder, dtype\u001b[39m=\u001b[39;49mdtype, xp\u001b[39m=\u001b[39;49mxp)\n\u001b[1;32m    880\u001b[0m \u001b[39mexcept\u001b[39;00m ComplexWarning \u001b[39mas\u001b[39;00m complex_warning:\n\u001b[1;32m    881\u001b[0m     \u001b[39mraise\u001b[39;00m \u001b[39mValueError\u001b[39;00m(\n\u001b[1;32m    882\u001b[0m         \u001b[39m\"\u001b[39m\u001b[39mComplex data not supported\u001b[39m\u001b[39m\\n\u001b[39;00m\u001b[39m{}\u001b[39;00m\u001b[39m\\n\u001b[39;00m\u001b[39m\"\u001b[39m\u001b[39m.\u001b[39mformat(array)\n\u001b[1;32m    883\u001b[0m     ) \u001b[39mfrom\u001b[39;00m \u001b[39mcomplex_warning\u001b[39;00m\n",
      "File \u001b[0;32m~/miniconda/lib/python3.10/site-packages/sklearn/utils/_array_api.py:185\u001b[0m, in \u001b[0;36m_asarray_with_order\u001b[0;34m(array, dtype, order, copy, xp)\u001b[0m\n\u001b[1;32m    182\u001b[0m     xp, _ \u001b[39m=\u001b[39m get_namespace(array)\n\u001b[1;32m    183\u001b[0m \u001b[39mif\u001b[39;00m xp\u001b[39m.\u001b[39m\u001b[39m__name__\u001b[39m \u001b[39min\u001b[39;00m {\u001b[39m\"\u001b[39m\u001b[39mnumpy\u001b[39m\u001b[39m\"\u001b[39m, \u001b[39m\"\u001b[39m\u001b[39mnumpy.array_api\u001b[39m\u001b[39m\"\u001b[39m}:\n\u001b[1;32m    184\u001b[0m     \u001b[39m# Use NumPy API to support order\u001b[39;00m\n\u001b[0;32m--> 185\u001b[0m     array \u001b[39m=\u001b[39m numpy\u001b[39m.\u001b[39;49masarray(array, order\u001b[39m=\u001b[39;49morder, dtype\u001b[39m=\u001b[39;49mdtype)\n\u001b[1;32m    186\u001b[0m     \u001b[39mreturn\u001b[39;00m xp\u001b[39m.\u001b[39masarray(array, copy\u001b[39m=\u001b[39mcopy)\n\u001b[1;32m    187\u001b[0m \u001b[39melse\u001b[39;00m:\n",
      "File \u001b[0;32m~/miniconda/lib/python3.10/site-packages/pandas/core/generic.py:1998\u001b[0m, in \u001b[0;36mNDFrame.__array__\u001b[0;34m(self, dtype)\u001b[0m\n\u001b[1;32m   1996\u001b[0m \u001b[39mdef\u001b[39;00m \u001b[39m__array__\u001b[39m(\u001b[39mself\u001b[39m, dtype: npt\u001b[39m.\u001b[39mDTypeLike \u001b[39m|\u001b[39m \u001b[39mNone\u001b[39;00m \u001b[39m=\u001b[39m \u001b[39mNone\u001b[39;00m) \u001b[39m-\u001b[39m\u001b[39m>\u001b[39m np\u001b[39m.\u001b[39mndarray:\n\u001b[1;32m   1997\u001b[0m     values \u001b[39m=\u001b[39m \u001b[39mself\u001b[39m\u001b[39m.\u001b[39m_values\n\u001b[0;32m-> 1998\u001b[0m     arr \u001b[39m=\u001b[39m np\u001b[39m.\u001b[39;49masarray(values, dtype\u001b[39m=\u001b[39;49mdtype)\n\u001b[1;32m   1999\u001b[0m     \u001b[39mif\u001b[39;00m (\n\u001b[1;32m   2000\u001b[0m         astype_is_view(values\u001b[39m.\u001b[39mdtype, arr\u001b[39m.\u001b[39mdtype)\n\u001b[1;32m   2001\u001b[0m         \u001b[39mand\u001b[39;00m using_copy_on_write()\n\u001b[1;32m   2002\u001b[0m         \u001b[39mand\u001b[39;00m \u001b[39mself\u001b[39m\u001b[39m.\u001b[39m_mgr\u001b[39m.\u001b[39mis_single_block\n\u001b[1;32m   2003\u001b[0m     ):\n\u001b[1;32m   2004\u001b[0m         \u001b[39m# Check if both conversions can be done without a copy\u001b[39;00m\n\u001b[1;32m   2005\u001b[0m         \u001b[39mif\u001b[39;00m astype_is_view(\u001b[39mself\u001b[39m\u001b[39m.\u001b[39mdtypes\u001b[39m.\u001b[39miloc[\u001b[39m0\u001b[39m], values\u001b[39m.\u001b[39mdtype) \u001b[39mand\u001b[39;00m astype_is_view(\n\u001b[1;32m   2006\u001b[0m             values\u001b[39m.\u001b[39mdtype, arr\u001b[39m.\u001b[39mdtype\n\u001b[1;32m   2007\u001b[0m         ):\n",
      "\u001b[0;31mValueError\u001b[0m: could not convert string to float: 'bennediktus liing'"
     ]
    }
   ],
   "source": [
    "from sklearn.compose import ColumnTransformer\n",
    "from sklearn.preprocessing import OneHotEncoder, StandardScaler, LabelEncoder\n",
    "from sklearn.impute import SimpleImputer\n",
    "from sklearn.pipeline import Pipeline \n",
    "\n",
    "\n",
    "numeric_transformer = Pipeline(steps=[\n",
    "    ('scaler', StandardScaler())])\n",
    "\n",
    "categorical_transformer = Pipeline(steps=[\n",
    "    ('onehot', OneHotEncoder(drop='first', dtype=np.int))])\n",
    "\n",
    "## Column Transformer\n",
    "preprocessor = ColumnTransformer(\n",
    "    transformers=[\n",
    "        ('num', numeric_transformer, numeric_columns),\n",
    "        ('cat', categorical_transformer, categorical_columns)],\n",
    "    remainder='passthrough')\n",
    "\n",
    "\n",
    "## Applying Column Transformer\n",
    "x_train = preprocessor.fit_transform(x_train)\n",
    "x_test = preprocessor.transform(x_test)\n",
    "\n",
    "\n",
    "## Label encoding\n",
    "y_trans = LabelEncoder()\n",
    "y_train = y_trans.fit_transform(y_train)\n",
    "y_test = y_trans.transform(y_test)\n",
    "\n",
    "\n",
    "## Save feature names after one-hot encoding for feature importances plots\n",
    "feature_names = list(preprocessor.named_transformers_['cat'].named_steps['onehot'] \\\n",
    "                            .get_feature_names(input_features=categorical_columns))\n",
    "feature_names = numeric_columns + feature_names"
   ]
  },
  {
   "attachments": {},
   "cell_type": "markdown",
   "metadata": {},
   "source": [
    "#### **5. Data Modeling**<br/>\n",
    "Since the dataset is imbalanced we will be using class-weighted/ cost-sensitive learning. In cost-sensitive learning, a weighted cost function is used. Therefore, misclassifying a sample from the minority class will cost the classifiers more than misclassifying a sample from the majority class. In most of the Sklearn classifiers, cost-sensitive learning can be enabled by setting `class_weight='balanced'`."
   ]
  },
  {
   "attachments": {},
   "cell_type": "markdown",
   "metadata": {},
   "source": [
    "##### **5.1. Utility Functions**"
   ]
  },
  {
   "cell_type": "code",
   "execution_count": 65,
   "metadata": {},
   "outputs": [],
   "source": [
    "import timeit\n",
    "import pickle\n",
    "import sys\n",
    "from sklearn.metrics import confusion_matrix, classification_report, roc_auc_score, \\\n",
    "                            precision_recall_curve, roc_curve, accuracy_score\n",
    "from sklearn.exceptions import NotFittedError"
   ]
  },
  {
   "cell_type": "code",
   "execution_count": 66,
   "metadata": {},
   "outputs": [],
   "source": [
    "def confusion_plot(matrix, labels=None):\n",
    "    \"\"\" Display binary confusion matrix as a Seaborn heatmap \"\"\"\n",
    "    \n",
    "    labels = labels if labels else ['Negative (0)', 'Positive (1)']\n",
    "    \n",
    "    fig, ax = plt.subplots(nrows=1, ncols=1)\n",
    "    sns.heatmap(data=matrix, cmap='Blues', annot=True, fmt='d',\n",
    "                xticklabels=labels, yticklabels=labels, ax=ax)\n",
    "    ax.set_xlabel('PREDICTED')\n",
    "    ax.set_ylabel('ACTUAL')\n",
    "    ax.set_title('Confusion Matrix')\n",
    "    plt.close()\n",
    "    \n",
    "    return fig"
   ]
  },
  {
   "cell_type": "code",
   "execution_count": 68,
   "metadata": {},
   "outputs": [],
   "source": [
    "def roc_plot(y_true, y_probs, label, compare=False, ax=None):\n",
    "    \"\"\" Plot Receiver Operating Characteristic (ROC) curve \n",
    "        Set `compare=True` to use this function to compare classifiers. \"\"\"\n",
    "    \n",
    "    fpr, tpr, thresh = roc_curve(y_true, y_probs, drop_intermediate=False)\n",
    "    auc = round(roc_auc_score(y_true, y_probs), 2)\n",
    "    \n",
    "    fig, axis = (None, ax) if ax else plt.subplots(nrows=1, ncols=1)\n",
    "    label = ' '.join([label, f'({auc})']) if compare else None\n",
    "    sns.lineplot(x=fpr, y=tpr, ax=axis,\n",
    "                 estimator=None, label=label)\n",
    "    \n",
    "    if compare:\n",
    "        axis.legend(title='Classifier (AUC)', loc='lower right')\n",
    "    else:\n",
    "        axis.text(0.72, 0.05, f'AUC = { auc }', fontsize=12,\n",
    "                  bbox=dict(facecolor='green', alpha=0.4, pad=5))\n",
    "            \n",
    "        # Plot No-Info classifier\n",
    "        axis.fill_between(fpr, fpr, tpr, alpha=0.3, edgecolor='g',\n",
    "                          linestyle='--', linewidth=2)\n",
    "        \n",
    "    axis.set_xlim(0, 1)\n",
    "    axis.set_ylim(0, 1)\n",
    "    axis.set_title('ROC Curve')\n",
    "    axis.set_xlabel('False Positive Rate [FPR]\\n(1 - Specificity)')\n",
    "    axis.set_ylabel('True Positive Rate [TPR]\\n(Sensitivity or Recall)')\n",
    "    \n",
    "    plt.close()\n",
    "    \n",
    "    return axis if ax else fig"
   ]
  },
  {
   "cell_type": "code",
   "execution_count": 69,
   "metadata": {},
   "outputs": [],
   "source": [
    "def precision_recall_plot(y_true, y_probs, label, compare=False, ax=None):\n",
    "    \"\"\" Plot Precision-Recall curve.\n",
    "        Set `compare=True` to use this function to compare classifiers. \"\"\"\n",
    "    \n",
    "    p, r, thresh = precision_recall_curve(y_true, y_probs)\n",
    "    p, r, thresh = list(p), list(r), list(thresh)\n",
    "    p.pop()\n",
    "    r.pop()\n",
    "    \n",
    "    fig, axis = (None, ax) if ax else plt.subplots(nrows=1, ncols=1)\n",
    "    \n",
    "    if compare:\n",
    "        sns.lineplot(r, p, estimator=None,\n",
    "                     ax=axis, label=label)\n",
    "        axis.set_xlabel('Recall')\n",
    "        axis.set_ylabel('Precision')\n",
    "        axis.legend(loc='lower left')\n",
    "    else:\n",
    "        sns.lineplot(thresh, p, estimator=None,\n",
    "                     label='Precision', ax=axis)\n",
    "        axis.set_xlabel('Threshold')\n",
    "        axis.set_ylabel('Precision')\n",
    "        axis.legend(loc='lower left')\n",
    "\n",
    "        axis_twin = axis.twinx()\n",
    "        sns.lineplot(thresh, r, estimator=None,\n",
    "                     color='limegreen', label='Recall', ax=axis_twin)\n",
    "        axis_twin.set_ylabel('Recall')\n",
    "        axis_twin.set_ylim(0, 1)\n",
    "        axis_twin.legend(bbox_to_anchor=(0.24, 0.18))\n",
    "    \n",
    "    axis.set_xlim(0, 1)\n",
    "    axis.set_ylim(0, 1)\n",
    "    axis.set_title('Precision Vs Recall')\n",
    "    \n",
    "    plt.close()\n",
    "    \n",
    "    return axis if ax else fig"
   ]
  },
  {
   "cell_type": "code",
   "execution_count": 70,
   "metadata": {},
   "outputs": [],
   "source": [
    "def feature_importance_plot(importances, feature_labels, ax=None):\n",
    "    fig, axis = (None, ax) if ax else plt.subplots(nrows=1, ncols=1, figsize=(5, 10))\n",
    "    sns.barplot(x=importances, y=feature_labels, ax=axis)\n",
    "    axis.set_title('Feature Importance Measures')\n",
    "    \n",
    "    plt.close()\n",
    "    \n",
    "    return axis if ax else fig"
   ]
  },
  {
   "cell_type": "code",
   "execution_count": 71,
   "metadata": {},
   "outputs": [],
   "source": [
    "def train_clf(clf, x_train, y_train, sample_weight=None, refit=False):\n",
    "    train_time = 0\n",
    "    \n",
    "    try:\n",
    "        if refit:\n",
    "            raise NotFittedError\n",
    "        y_pred_train = clf.predict(x_train)\n",
    "        \n",
    "        # For neural nets\n",
    "        y_pred_train = np.where(y_pred_train.flatten() > 0.5, 1, 0)\n",
    "        \n",
    "    except NotFittedError:\n",
    "        start = timeit.default_timer()\n",
    "        \n",
    "        if sample_weight is not None:\n",
    "            clf.fit(x_train, y_train, sample_weight=sample_weight)\n",
    "        else:\n",
    "            clf.fit(x_train, y_train)\n",
    "        \n",
    "        end = timeit.default_timer()\n",
    "        train_time = end - start\n",
    "        \n",
    "        y_pred_train = clf.predict(x_train)\n",
    "    \n",
    "    train_acc = accuracy_score(y_train, y_pred_train)\n",
    "    return clf, y_pred_train, train_acc, train_time"
   ]
  },
  {
   "cell_type": "code",
   "execution_count": 72,
   "metadata": {},
   "outputs": [],
   "source": [
    "def model_memory_size(clf):\n",
    "    return sys.getsizeof(pickle.dumps(clf))"
   ]
  },
  {
   "cell_type": "code",
   "execution_count": 73,
   "metadata": {},
   "outputs": [],
   "source": [
    "def report(clf, x_train, y_train, x_test, y_test, display_scores=[],\n",
    "           sample_weight=None, refit=False, importance_plot=False,\n",
    "           confusion_labels=None, feature_labels=None, neural_net=False,\n",
    "           verbose=True):\n",
    "    \"\"\" Trains the passed classifier if not already trained and reports\n",
    "        various metrics of the trained classifier \"\"\"\n",
    "    \n",
    "    dump = dict()\n",
    "    \n",
    "    ## Train if not already trained\n",
    "    clf, train_predictions, \\\n",
    "    train_acc, train_time = train_clf(clf, x_train, y_train,\n",
    "                                      sample_weight=sample_weight,\n",
    "                                      refit=refit)\n",
    "    ## Testing\n",
    "    start = timeit.default_timer()\n",
    "    test_predictions = clf.predict(x_test)\n",
    "    end = timeit.default_timer()\n",
    "    test_time = end - start\n",
    "    \n",
    "    # For neural nets\n",
    "    if neural_net:\n",
    "        y_probs = np.copy(test_predictions)\n",
    "        test_predictions = np.where(test_predictions.flatten() > 0.5, 1, 0)\n",
    "    else:\n",
    "        y_probs = clf.predict_proba(x_test)[:, 1]\n",
    "    \n",
    "    test_acc = accuracy_score(y_test, test_predictions)\n",
    "    roc_auc = roc_auc_score(y_test, y_probs)\n",
    "        \n",
    "    ## Additional scores\n",
    "    scores_dict = dict()\n",
    "    for func in display_scores:\n",
    "        scores_dict[func.__name__] = [func(y_train, train_predictions),\n",
    "                                      func(y_test, test_predictions)]\n",
    "        \n",
    "    ## Model Memory\n",
    "    model_mem = None\n",
    "    if not neural_net:\n",
    "        model_mem = round(model_memory_size(clf) / 1024, 2)\n",
    "    \n",
    "    print(clf)\n",
    "    print(\"\\n=============================> TRAIN-TEST DETAILS <======================================\")\n",
    "    \n",
    "    ## Metrics\n",
    "    print(f\"Train Size: {x_train.shape[0]} samples\")\n",
    "    print(f\" Test Size: {x_test.shape[0]} samples\")\n",
    "    print(\"---------------------------------------------\")\n",
    "    print(f\"Training Time: {round(train_time, 3)} seconds\")\n",
    "    print(f\" Testing Time: {round(test_time, 3)} seconds\")\n",
    "    print(\"---------------------------------------------\")\n",
    "    print(\"Train Accuracy: \", train_acc)\n",
    "    print(\" Test Accuracy: \", test_acc)\n",
    "    print(\"---------------------------------------------\")\n",
    "    \n",
    "    if display_scores:\n",
    "        for k, v in scores_dict.items():\n",
    "            score_name = ' '.join(map(lambda x: x.title(), k.split('_')))\n",
    "            print(f'Train {score_name}: ', v[0])\n",
    "            print(f' Test {score_name}: ', v[1])\n",
    "            print()\n",
    "        print(\"---------------------------------------------\")\n",
    "    \n",
    "    print(\" Area Under ROC (test): \", roc_auc)\n",
    "    print(\"---------------------------------------------\")\n",
    "    print(f\"Model Memory Size: {model_mem} kB\")\n",
    "    print(\"\\n=============================> CLASSIFICATION REPORT <===================================\")\n",
    "    \n",
    "    ## Classification Report\n",
    "    clf_rep = classification_report(y_test, test_predictions, output_dict=True)\n",
    "    \n",
    "    print(classification_report(y_test, test_predictions,\n",
    "                                target_names=confusion_labels))\n",
    "    \n",
    "    \n",
    "    if verbose:\n",
    "        print(\"\\n================================> CONFUSION MATRIX <=====================================\")\n",
    "    \n",
    "        ## Confusion Matrix HeatMap\n",
    "        display(confusion_plot(confusion_matrix(y_test, test_predictions),\n",
    "                               labels=confusion_labels))\n",
    "        print(\"\\n=======================================> PLOTS <=========================================\")\n",
    "\n",
    "\n",
    "        ## Variable importance plot\n",
    "        fig, axes = plt.subplots(nrows=2, ncols=2, figsize=(14, 10))\n",
    "        roc_axes = axes[0, 0]\n",
    "        pr_axes = axes[0, 1]\n",
    "        importances = None\n",
    "\n",
    "        if importance_plot:\n",
    "            if not feature_labels:\n",
    "                raise RuntimeError(\"'feature_labels' argument not passed \"\n",
    "                                   \"when 'importance_plot' is True\")\n",
    "\n",
    "            try:\n",
    "                importances = pd.Series(clf.feature_importances_,\n",
    "                                        index=feature_labels) \\\n",
    "                                .sort_values(ascending=False)\n",
    "            except AttributeError:\n",
    "                try:\n",
    "                    importances = pd.Series(clf.coef_.ravel(),\n",
    "                                            index=feature_labels) \\\n",
    "                                    .sort_values(ascending=False)\n",
    "                except AttributeError:\n",
    "                    pass\n",
    "\n",
    "            if importances is not None:\n",
    "                # Modifying grid\n",
    "                grid_spec = axes[0, 0].get_gridspec()\n",
    "                for ax in axes[:, 0]:\n",
    "                    ax.remove()   # remove first column axes\n",
    "                large_axs = fig.add_subplot(grid_spec[0:, 0])\n",
    "\n",
    "                # Plot importance curve\n",
    "                feature_importance_plot(importances=importances.values,\n",
    "                                        feature_labels=importances.index,\n",
    "                                        ax=large_axs)\n",
    "                large_axs.axvline(x=0)\n",
    "\n",
    "                # Axis for ROC and PR curve\n",
    "                roc_axes = axes[0, 1]\n",
    "                pr_axes = axes[1, 1]\n",
    "            else:\n",
    "                # remove second row axes\n",
    "                for ax in axes[1, :]:\n",
    "                    ax.remove()\n",
    "        else:\n",
    "            # remove second row axes\n",
    "            for ax in axes[1, :]:\n",
    "                ax.remove()\n",
    "\n",
    "\n",
    "        ## ROC and Precision-Recall curves\n",
    "        clf_name = clf.__class__.__name__\n",
    "        roc_plot(y_test, y_probs, clf_name, ax=roc_axes)\n",
    "        precision_recall_plot(y_test, y_probs, clf_name, ax=pr_axes)\n",
    "\n",
    "        fig.subplots_adjust(wspace=5)\n",
    "        fig.tight_layout()\n",
    "        display(fig)\n",
    "    \n",
    "    ## Dump to report_dict\n",
    "    dump = dict(clf=clf, accuracy=[train_acc, test_acc], **scores_dict,\n",
    "                train_time=train_time, train_predictions=train_predictions,\n",
    "                test_time=test_time, test_predictions=test_predictions,\n",
    "                test_probs=y_probs, report=clf_rep, roc_auc=roc_auc,\n",
    "                model_memory=model_mem)\n",
    "    \n",
    "    return clf, dump"
   ]
  },
  {
   "cell_type": "code",
   "execution_count": 74,
   "metadata": {},
   "outputs": [],
   "source": [
    "def compare_models(y_test=None, clf_reports=[], labels=[], score='accuracy'):\n",
    "    \"\"\" Compare evaluation metrics for the True Positive class [1] of \n",
    "        binary classifiers passed in the argument and plot ROC and PR curves.\n",
    "        \n",
    "        Arguments:\n",
    "        ---------\n",
    "        y_test: to plot ROC and Precision-Recall curves\n",
    "         score: is the name corresponding to the sklearn metrics\n",
    "        \n",
    "        Returns:\n",
    "        -------\n",
    "        compare_table: pandas DataFrame containing evaluated metrics\n",
    "                  fig: `matplotlib` figure object with ROC and PR curves \"\"\"\n",
    "\n",
    "    \n",
    "    ## Classifier Labels\n",
    "    default_names = [rep['clf'].__class__.__name__ for rep in clf_reports]\n",
    "    clf_names =  labels if len(labels) == len(clf_reports) else default_names\n",
    "    \n",
    "    \n",
    "    ## Compare Table\n",
    "    table = dict()\n",
    "    index = ['Train ' + score, 'Test ' + score, 'Overfitting', 'Accuracy', 'ROC Area',\n",
    "             'Precision', 'Recall', 'F1-score', 'Support']\n",
    "    for i in range(len(clf_reports)):\n",
    "        scores = [round(i, 3) for i in clf_reports[i][score]]\n",
    "        \n",
    "        roc_auc = clf_reports[i]['roc_auc']\n",
    "        test_acc = clf_reports[i]['accuracy'][1]\n",
    "        \n",
    "        # Get metrics of True Positive class from sklearn classification_report\n",
    "        true_positive_metrics = list(clf_reports[i]['report'][\"1\"].values())\n",
    "        \n",
    "        table[clf_names[i]] = scores + [scores[1] < scores[0], test_acc, roc_auc] + \\\n",
    "                              true_positive_metrics\n",
    "    \n",
    "    table = pd.DataFrame(data=table, index=index)\n",
    "    \n",
    "    \n",
    "    ## Compare Plots\n",
    "    fig, axes = plt.subplots(nrows=1, ncols=2, figsize=(15, 5))\n",
    "    \n",
    "    # ROC and Precision-Recall\n",
    "    for i in range(len(clf_reports)):\n",
    "        clf_probs = clf_reports[i]['test_probs']\n",
    "        roc_plot(y_test, clf_probs, label=clf_names[i],\n",
    "                 compare=True, ax=axes[0])\n",
    "        precision_recall_plot(y_test, clf_probs, label=clf_names[i],\n",
    "                              compare=True, ax=axes[1])\n",
    "    # Plot No-Info classifier\n",
    "    axes[0].plot([0,1], [0,1], linestyle='--', color='green')\n",
    "        \n",
    "    fig.tight_layout()\n",
    "    plt.close()\n",
    "    \n",
    "    return table.T, fig"
   ]
  },
  {
   "attachments": {},
   "cell_type": "markdown",
   "metadata": {},
   "source": [
    "##### **5.2. Naive Bayes**<br/>\n",
    "The fundamental assumption made by Naive Bayes regarding the data is **class conditional independence of features**. Sklearn provides different variants of Naive Bayes depending on whether the features follow a categorical distribution (CategoricalNB), normal distribution (GaussianNB), bernoulli distribution (BernoulliNB), multinomial distribution (MultinomialNB).\n",
    "\n",
    "Since majority of the features are categorical and follow a categorical distribution, we will use CategoricalNB. Continuous features will be discretized."
   ]
  },
  {
   "cell_type": "code",
   "execution_count": 75,
   "metadata": {},
   "outputs": [],
   "source": [
    "from sklearn import metrics\n",
    "primary_eval_metric = metrics.f1_score\n",
    "\n",
    "confusion_lbs = ['Perempuan', 'Laki-Laki']"
   ]
  },
  {
   "cell_type": "code",
   "execution_count": null,
   "metadata": {},
   "outputs": [],
   "source": [
    "from sklearn.naive_bayes import CategoricalNB, GaussianNB \n",
    "from sklearn.preprocessing import KBinsDiscretizer, OrdinalEncoder\n",
    "\n",
    "\n",
    "numeric_trans_nb = Pipeline(steps=[\n",
    "    ('imputer', SimpleImputer(strategy='mean')),\n",
    "    ('scaler', StandardScaler()),\n",
    "    ('kbn', KBinsDiscretizer(n_bins=5, encode='ordinal'))])\n",
    "\n",
    "categorical_trans_nb = Pipeline(steps=[\n",
    "    ('ordinal', OrdinalEncoder(dtype=np.int64))])\n",
    "\n",
    "## Column Transformer\n",
    "preprocessor_nb = ColumnTransformer(\n",
    "    transformers=[\n",
    "        ('num', numeric_trans_nb, numeric_columns),\n",
    "        ('cat', categorical_trans_nb, categorical_columns)],\n",
    "    remainder='passthrough')\n",
    "\n",
    "\n",
    "## Applying Column Transformer\n",
    "x_train_nb = preprocessor_nb.fit_transform(x_train_cat)\n",
    "x_test_nb = preprocessor_nb.transform(x_test_cat)\n",
    "\n",
    "nb_clf = CategoricalNB()\n",
    "\n",
    "nb_clf, nb_report = report(nb_clf, x_train_nb, y_train,\n",
    "                           x_test_nb, y_test,\n",
    "                           display_scores=[primary_eval_metric],\n",
    "                           refit=True,\n",
    "                           confusion_labels=confusion_lbs)"
   ]
  },
  {
   "attachments": {},
   "cell_type": "markdown",
   "metadata": {},
   "source": [
    "##### **5.3. Logistic Regression**"
   ]
  },
  {
   "cell_type": "code",
   "execution_count": 77,
   "metadata": {},
   "outputs": [
    {
     "ename": "NameError",
     "evalue": "name 'feature_names' is not defined",
     "output_type": "error",
     "traceback": [
      "\u001b[0;31m---------------------------------------------------------------------------\u001b[0m",
      "\u001b[0;31mNameError\u001b[0m                                 Traceback (most recent call last)",
      "Cell \u001b[0;32mIn[77], line 13\u001b[0m\n\u001b[1;32m      1\u001b[0m \u001b[39mfrom\u001b[39;00m \u001b[39msklearn\u001b[39;00m\u001b[39m.\u001b[39;00m\u001b[39mlinear_model\u001b[39;00m \u001b[39mimport\u001b[39;00m LogisticRegressionCV\n\u001b[1;32m      3\u001b[0m logit_cv \u001b[39m=\u001b[39m LogisticRegressionCV(class_weight\u001b[39m=\u001b[39m\u001b[39m'\u001b[39m\u001b[39mbalanced\u001b[39m\u001b[39m'\u001b[39m, cv\u001b[39m=\u001b[39m\u001b[39m5\u001b[39m,\n\u001b[1;32m      4\u001b[0m                                 max_iter\u001b[39m=\u001b[39m\u001b[39m500\u001b[39m, penalty\u001b[39m=\u001b[39m\u001b[39m'\u001b[39m\u001b[39ml1\u001b[39m\u001b[39m'\u001b[39m,\n\u001b[1;32m      5\u001b[0m                                 scoring\u001b[39m=\u001b[39m\u001b[39m'\u001b[39m\u001b[39mf1\u001b[39m\u001b[39m'\u001b[39m, solver\u001b[39m=\u001b[39m\u001b[39m'\u001b[39m\u001b[39mliblinear\u001b[39m\u001b[39m'\u001b[39m,\n\u001b[1;32m      6\u001b[0m                                 n_jobs\u001b[39m=\u001b[39m\u001b[39m-\u001b[39m\u001b[39m1\u001b[39m, random_state\u001b[39m=\u001b[39mseed_val,\n\u001b[1;32m      7\u001b[0m                                 refit\u001b[39m=\u001b[39m\u001b[39mTrue\u001b[39;00m, verbose\u001b[39m=\u001b[39m\u001b[39m0\u001b[39m)\n\u001b[1;32m      9\u001b[0m logit_cv, logit_report \u001b[39m=\u001b[39m report(logit_cv, x_train, y_train,\n\u001b[1;32m     10\u001b[0m                                 x_test, y_test,\n\u001b[1;32m     11\u001b[0m                                 display_scores\u001b[39m=\u001b[39m[primary_eval_metric],\n\u001b[1;32m     12\u001b[0m                                 importance_plot\u001b[39m=\u001b[39m\u001b[39mTrue\u001b[39;00m,\n\u001b[0;32m---> 13\u001b[0m                                 feature_labels\u001b[39m=\u001b[39mfeature_names,\n\u001b[1;32m     14\u001b[0m                                 confusion_labels\u001b[39m=\u001b[39mconfusion_lbs)\n",
      "\u001b[0;31mNameError\u001b[0m: name 'feature_names' is not defined"
     ]
    }
   ],
   "source": [
    "from sklearn.linear_model import LogisticRegressionCV\n",
    "\n",
    "logit_cv = LogisticRegressionCV(class_weight='balanced', cv=5,\n",
    "                                max_iter=500, penalty='l1',\n",
    "                                scoring='f1', solver='liblinear',\n",
    "                                n_jobs=-1, random_state=seed_val,\n",
    "                                refit=True, verbose=0)\n",
    "\n",
    "logit_cv, logit_report = report(logit_cv, x_train, y_train,\n",
    "                                x_test, y_test,\n",
    "                                display_scores=[primary_eval_metric],\n",
    "                                importance_plot=True,\n",
    "                                feature_labels=feature_names,\n",
    "                                confusion_labels=confusion_lbs)"
   ]
  },
  {
   "attachments": {},
   "cell_type": "markdown",
   "metadata": {},
   "source": [
    "##### **5.4. K-Nearest Neighbors**<br/>\n",
    "KNN estimator in Scikit-learn does not provide a way to pass class-weights to enable cost-sensitive/ class-weighted learning."
   ]
  },
  {
   "cell_type": "code",
   "execution_count": null,
   "metadata": {},
   "outputs": [],
   "source": [
    "from sklearn.neighbors import KNeighborsClassifier\n",
    "\n",
    "knn = KNeighborsClassifier(n_neighbors=5, p=3,\n",
    "                           weights='distance', n_jobs=-1)\n",
    "\n",
    "knn, knn_report = report(knn, x_train, y_train,\n",
    "                         x_test, y_test,\n",
    "                         display_scores=[primary_eval_metric],\n",
    "                         importance_plot=True,\n",
    "                         feature_labels=feature_names,\n",
    "                         confusion_labels=confusion_lbs)"
   ]
  },
  {
   "attachments": {},
   "cell_type": "markdown",
   "metadata": {},
   "source": [
    "##### **5.5. Decision Tree**"
   ]
  },
  {
   "cell_type": "code",
   "execution_count": null,
   "metadata": {},
   "outputs": [],
   "source": [
    "from sklearn.tree import DecisionTreeClassifier\n",
    "\n",
    "decision_tree = DecisionTreeClassifier(class_weight='balanced',\n",
    "                                       criterion='entropy',\n",
    "                                       max_depth=6, max_leaf_nodes=10,\n",
    "                                       min_samples_split=0.2,\n",
    "                                       random_state=seed_val)\n",
    "\n",
    "decision_tree, decision_tree_report = report(decision_tree, x_train, y_train,\n",
    "                                             x_test, y_test,\n",
    "                                             display_scores=[primary_eval_metric],\n",
    "                                             importance_plot=True,\n",
    "                                             feature_labels=feature_names,\n",
    "                                             confusion_labels=confusion_lbs)"
   ]
  },
  {
   "attachments": {},
   "cell_type": "markdown",
   "metadata": {},
   "source": [
    "##### **5.6. Decision Trees with Bagging**"
   ]
  },
  {
   "cell_type": "code",
   "execution_count": null,
   "metadata": {},
   "outputs": [],
   "source": [
    "from sklearn.ensemble import BaggingClassifier\n",
    "\n",
    "bagging_dtree = DecisionTreeClassifier(max_depth=2, class_weight='balanced',\n",
    "                                       criterion='entropy', random_state=seed_val)\n",
    "\n",
    "bagging_clf = BaggingClassifier(base_estimator=bagging_dtree,\n",
    "                                max_samples=0.745, n_estimators=100,\n",
    "                                max_features=0.37,\n",
    "                                n_jobs=-1, random_state=seed_val)\n",
    "\n",
    "bagging_clf, bagging_clf_report = report(bagging_clf, x_train, y_train,\n",
    "                                         x_test, y_test,\n",
    "                                         display_scores=[primary_eval_metric],\n",
    "                                         feature_labels=feature_names,\n",
    "                                         confusion_labels=confusion_lbs)"
   ]
  },
  {
   "attachments": {},
   "cell_type": "markdown",
   "metadata": {},
   "source": [
    "##### **5.7. Random Forests**"
   ]
  },
  {
   "cell_type": "code",
   "execution_count": null,
   "metadata": {},
   "outputs": [],
   "source": [
    "from sklearn.ensemble import RandomForestClassifier\n",
    "\n",
    "random_forest = RandomForestClassifier(class_weight='balanced', criterion='entropy',\n",
    "                                       max_depth=2, max_samples=0.63, n_estimators=100,\n",
    "                                       n_jobs=-1, random_state=seed_val)\n",
    "\n",
    "random_forest, random_forest_report = report(random_forest, x_train, y_train,\n",
    "                                             x_test, y_test,\n",
    "                                             display_scores=[primary_eval_metric],\n",
    "                                             importance_plot=True,\n",
    "                                             feature_labels=feature_names,\n",
    "                                             confusion_labels=confusion_lbs)"
   ]
  },
  {
   "attachments": {},
   "cell_type": "markdown",
   "metadata": {},
   "source": [
    "##### **5.8. Decision Trees with AdaBoost**<br/>\n",
    "The default base estimator for `AdaBoostClassifier` is `DecisionTreeClassifier(max_depth=1)`"
   ]
  },
  {
   "cell_type": "code",
   "execution_count": null,
   "metadata": {},
   "outputs": [],
   "source": [
    "from sklearn.ensemble import AdaBoostClassifier\n",
    "\n",
    "adaboot = AdaBoostClassifier(n_estimators=57, learning_rate=0.064,\n",
    "                             random_state=seed_val)\n",
    "\n",
    "adaboot, adaboot_report = report(adaboot, x_train, y_train,\n",
    "                                 x_test, y_test,\n",
    "                                 display_scores=[primary_eval_metric],\n",
    "                                 importance_plot=True,\n",
    "                                 feature_labels=feature_names,\n",
    "                                 confusion_labels=confusion_lbs)"
   ]
  },
  {
   "attachments": {},
   "cell_type": "markdown",
   "metadata": {},
   "source": [
    "##### **5.9. Linear SVC**"
   ]
  },
  {
   "cell_type": "code",
   "execution_count": null,
   "metadata": {},
   "outputs": [],
   "source": [
    "from sklearn.svm import SVC\n",
    "\n",
    "linear_svc = SVC(C=2.1, kernel='linear', probability=True,\n",
    "                 class_weight='balanced', random_state=seed_val)\n",
    "\n",
    "linear_svc, linear_svc_report = report(linear_svc, x_train, y_train,\n",
    "                                       x_test, y_test,\n",
    "                                       display_scores=[primary_eval_metric],\n",
    "                                       importance_plot=True,\n",
    "                                       feature_labels=feature_names,\n",
    "                                       confusion_labels=confusion_lbs)"
   ]
  },
  {
   "attachments": {},
   "cell_type": "markdown",
   "metadata": {},
   "source": [
    "##### **5.10. SVM with RBF kernel**"
   ]
  },
  {
   "cell_type": "code",
   "execution_count": null,
   "metadata": {},
   "outputs": [],
   "source": [
    "rbf_svc = SVC(C=0.25, kernel='rbf', probability=True,\n",
    "              class_weight='balanced', random_state=seed_val)\n",
    "\n",
    "rbf_svc, rbf_svc_report = report(rbf_svc, x_train, y_train,\n",
    "                                 x_test, y_test,\n",
    "                                 display_scores=[primary_eval_metric],\n",
    "                                 importance_plot=True,\n",
    "                                 feature_labels=feature_names,\n",
    "                                 confusion_labels=confusion_lbs)"
   ]
  },
  {
   "attachments": {},
   "cell_type": "markdown",
   "metadata": {},
   "source": [
    "##### **5.11. XGBoost**"
   ]
  },
  {
   "cell_type": "code",
   "execution_count": null,
   "metadata": {},
   "outputs": [],
   "source": [
    "from xgboost import XGBClassifier\n",
    "from sklearn.utils import class_weight\n",
    "\n",
    "cls_weight = (y_train.shape[0] - np.sum(y_train)) / np.sum(y_train)\n",
    "\n",
    "params = {'learning_rate': 0.014724527414939945,\n",
    "          'num_boost_round': 3451,\n",
    "          'gamma': 0.4074467665676125,\n",
    "          'reg_lambda': 31.082862686792716,\n",
    "          'reg_alpha': 0.008543705214252668,\n",
    "          'max_depth': 7,\n",
    "          'min_child_weight': 3.2435633342899867e-06,\n",
    "          'subsample': 0.15432895096353877,\n",
    "          'colsample_bytree': 0.7665394913603492}\n",
    "\n",
    "xgb_clf = XGBClassifier(**params, scale_pos_weight=cls_weight,\n",
    "                        random_state=seed_val, n_jobs=-1)\n",
    "xgb_clf.fit(x_train, y_train);\n",
    "\n",
    "xgb_clf, xgb_report = report(xgb_clf, x_train, y_train,\n",
    "                             x_test, y_test,\n",
    "                             display_scores=[primary_eval_metric],\n",
    "                             importance_plot=True,\n",
    "                             feature_labels=feature_names,\n",
    "                             confusion_labels=confusion_lbs)"
   ]
  },
  {
   "attachments": {},
   "cell_type": "markdown",
   "metadata": {},
   "source": [
    "##### **5.12. LightGBM**<br/>\n",
    "LightGBM is similar to XGBoost but grows the trees in the ensemble based on Leaf-wise growth algorithm unlike Level-wise algorithm in XGBoost."
   ]
  },
  {
   "cell_type": "code",
   "execution_count": null,
   "metadata": {},
   "outputs": [],
   "source": [
    "from lightgbm import LGBMClassifier\n",
    "\n",
    "params = {'objective': 'binary', 'verbose': -1, 'lambda_l1': 0.0,\n",
    "          'lambda_l2': 0.0, 'num_leaves': 31, 'feature_fraction': 0.8,\n",
    "          'bagging_fraction': 0.49916588402130324, 'bagging_freq': 3,\n",
    "          'min_child_samples': 20}\n",
    "\n",
    "lgbm_clf = LGBMClassifier(**params, random_state=seed_val, n_jobs=-1)\n",
    "lgbm_clf.fit(x_train, y_train);\n",
    "\n",
    "lgbm_clf, lgbm_report = report(lgbm_clf, x_train, y_train,\n",
    "                               x_test, y_test,\n",
    "                               display_scores=[primary_eval_metric],\n",
    "                               importance_plot=True,\n",
    "                               feature_labels=feature_names,\n",
    "                               confusion_labels=confusion_lbs)"
   ]
  },
  {
   "attachments": {},
   "cell_type": "markdown",
   "metadata": {},
   "source": [
    "##### **5.13. CatBoost**<br/>\n",
    "Cat boost performs better without One-hot encoding because it performs an internal categorical encoding that is similar to Leave One Out Encoding (LOOE). So, we can give the dataframe as input to the catboost classifier."
   ]
  },
  {
   "cell_type": "code",
   "execution_count": null,
   "metadata": {},
   "outputs": [],
   "source": [
    "from catboost import CatBoostClassifier\n",
    "\n",
    "catboost_clf = CatBoostClassifier(cat_features=categorical_columns,\n",
    "                                  l2_leaf_reg=120, depth=6,\n",
    "                                  auto_class_weights='Balanced',\n",
    "                                  iterations=200, learning_rate=0.16,\n",
    "                                  use_best_model=True,\n",
    "                                  early_stopping_rounds=150,\n",
    "                                  eval_metric='F1', random_state=seed_val)\n",
    "\n",
    "catboost_clf.fit(x_train_cat, y_train, \n",
    "                 eval_set=(x_train_cat, y_train),\n",
    "                 verbose=False)\n",
    "\n",
    "\n",
    "f_labels = categorical_columns+numeric_columns\n",
    "catboost_clf, catboost_report = report(catboost_clf, x_train_cat, y_train,\n",
    "                                       x_test_cat, y_test,\n",
    "                                       display_scores=[primary_eval_metric],\n",
    "                                       importance_plot=True,\n",
    "                                       feature_labels=f_labels,\n",
    "                                       confusion_labels=confusion_lbs)"
   ]
  },
  {
   "attachments": {},
   "cell_type": "markdown",
   "metadata": {},
   "source": [
    "##### **5.14. Artificial Neural Networks**"
   ]
  },
  {
   "cell_type": "code",
   "execution_count": null,
   "metadata": {},
   "outputs": [],
   "source": [
    "from sklearn.utils.class_weight import compute_class_weight\n",
    "\n",
    "CLASS_WEIGHT = compute_class_weight(class_weight='balanced',\n",
    "                                    classes=np.unique(y_train),\n",
    "                                    y=y_train)\n",
    "CLASS_WEIGHT = dict(zip([0, 1], CLASS_WEIGHT))\n",
    "\n",
    "BATCHSIZE = x_train.shape[0]\n",
    "FEATURES = x_train.shape[1]\n",
    "CLASSES = 1\n",
    "EPOCHS = 1000\n",
    "N_TRAIN_EXAMPLES = x_train.shape[0]\n",
    "STEPS_PER_EPOCH = N_TRAIN_EXAMPLES // BATCHSIZE"
   ]
  },
  {
   "cell_type": "code",
   "execution_count": null,
   "metadata": {},
   "outputs": [],
   "source": [
    "def create_model(params, num_classes, metrics):    \n",
    "    layers_list = [keras.layers.InputLayer(input_shape=(FEATURES,))]\n",
    "    \n",
    "    for l in range(1, params['num_layers'] + 1):\n",
    "        new_layers = [keras.layers.BatchNormalization(),\n",
    "                      keras.layers.Dense(params[f'units_{l}'], activation='relu',\n",
    "                                         kernel_initializer=tf.keras.initializers.GlorotUniform(seed=seed_val),\n",
    "                                         kernel_regularizer=keras.regularizers.l2(0.001),\n",
    "                                         use_bias=True),\n",
    "                      keras.layers.Dropout(params[f'drop_rate_{l}'], seed=seed_val)]\n",
    "        layers_list.extend(new_layers)\n",
    "    \n",
    "    layers_list.append(keras.layers.Dense(num_classes, activation='sigmoid'))\n",
    "    model = keras.Sequential(layers=layers_list)\n",
    "    \n",
    "    model.compile(optimizer='adam',\n",
    "                  loss=\"binary_crossentropy\",\n",
    "                  metrics=metrics)\n",
    "\n",
    "    return model"
   ]
  },
  {
   "cell_type": "code",
   "execution_count": null,
   "metadata": {},
   "outputs": [],
   "source": [
    "tf.keras.backend.clear_session()\n",
    "\n",
    "params_dict = {'drop_rate_1': 0.7, 'num_layers': 1, 'units_1': 8}\n",
    "\n",
    "## tf.keras.metrics does not have F1-score so we will use Recall\n",
    "model = create_model(params=params_dict, num_classes=CLASSES,\n",
    "                     metrics=[keras.metrics.Recall()])\n",
    "\n",
    "model.summary()"
   ]
  },
  {
   "cell_type": "code",
   "execution_count": null,
   "metadata": {},
   "outputs": [],
   "source": [
    "callbacks = [tf.keras.callbacks.EarlyStopping(patience=5, verbose=0)]\n",
    "\n",
    "history = model.fit(x=x_train, y=y_train,\n",
    "                    batch_size=BATCHSIZE,\n",
    "                    epochs=EPOCHS,\n",
    "                    verbose=0,\n",
    "                    callbacks=callbacks,\n",
    "                    validation_data=(x_test, y_test),\n",
    "                    shuffle=True,\n",
    "                    class_weight=CLASS_WEIGHT,\n",
    "                    steps_per_epoch=STEPS_PER_EPOCH,\n",
    "                    use_multiprocessing=True)\n",
    "\n",
    "_, nn_report = report(model, x_train, y_train,\n",
    "                      x_test, y_test,\n",
    "                      display_scores=[primary_eval_metric],\n",
    "                      confusion_labels=confusion_lbs,\n",
    "                      neural_net=True)"
   ]
  },
  {
   "attachments": {},
   "cell_type": "markdown",
   "metadata": {},
   "source": [
    "#### **6. Model Comparison**"
   ]
  },
  {
   "cell_type": "code",
   "execution_count": null,
   "metadata": {},
   "outputs": [],
   "source": [
    "report_list = [nb_report, logit_report, knn_report, decision_tree_report,               \n",
    "               bagging_clf_report, random_forest_report, adaboot_report,\n",
    "               xgb_report, lgbm_report, catboost_report, nn_report,\n",
    "               linear_svc_report, rbf_svc_report]\n",
    "clf_labels = [rep['clf'].__class__.__name__ for rep in report_list]\n",
    "clf_labels[-3] = 'Neural Nets'\n",
    "clf_labels[-2] = 'Linear SVC'\n",
    "clf_labels[-1] = 'RBF SVC'"
   ]
  },
  {
   "attachments": {},
   "cell_type": "markdown",
   "metadata": {},
   "source": [
    "##### **6.1. Evaluation Metrics**"
   ]
  },
  {
   "cell_type": "code",
   "execution_count": null,
   "metadata": {},
   "outputs": [],
   "source": [
    "compare_table, compare_plot = compare_models(y_test, clf_reports=report_list,\n",
    "                                             labels=clf_labels,\n",
    "                                             score=primary_eval_metric.__name__)\n",
    "\n",
    "compare_table.sort_values(by=['Overfitting', 'F1-score'], ascending=[True, False])"
   ]
  },
  {
   "attachments": {},
   "cell_type": "markdown",
   "metadata": {},
   "source": [
    "##### **6.2. ROC and PR Curves**"
   ]
  },
  {
   "cell_type": "code",
   "execution_count": null,
   "metadata": {},
   "outputs": [],
   "source": [
    "compare_plot"
   ]
  }
 ],
 "metadata": {
  "kernelspec": {
   "display_name": "base",
   "language": "python",
   "name": "python3"
  },
  "language_info": {
   "codemirror_mode": {
    "name": "ipython",
    "version": 3
   },
   "file_extension": ".py",
   "mimetype": "text/x-python",
   "name": "python",
   "nbconvert_exporter": "python",
   "pygments_lexer": "ipython3",
   "version": "3.10.9"
  },
  "orig_nbformat": 4
 },
 "nbformat": 4,
 "nbformat_minor": 2
}
