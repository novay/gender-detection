{
 "cells": [
  {
   "cell_type": "code",
   "execution_count": 2,
   "metadata": {},
   "outputs": [],
   "source": [
    "import pandas as pd \n",
    "from sklearn.model_selection import train_test_split\n",
    "from sklearn.feature_extraction.text import TfidfVectorizer\n",
    "from sklearn.linear_model import LogisticRegression\n",
    "from sklearn.metrics import confusion_matrix, accuracy_score, classification_report"
   ]
  },
  {
   "cell_type": "code",
   "execution_count": 3,
   "metadata": {},
   "outputs": [],
   "source": [
    "def count_tfidf(X, y):\n",
    "    X_train, X_test, y_train, y_test = train_test_split(X, y, test_size=0.3, random_state=42)\n",
    "\n",
    "    lr = LogisticRegression(max_iter=1000).fit(X_train, y_train)\n",
    "    test_pred = lr.predict(X_test)\n",
    "\n",
    "    print(confusion_matrix(y_test, test_pred))\n",
    "    return accuracy_score(y_test, test_pred)"
   ]
  },
  {
   "cell_type": "code",
   "execution_count": 4,
   "metadata": {},
   "outputs": [
    {
     "name": "stdout",
     "output_type": "stream",
     "text": [
      "[[85852  4949]\n",
      " [10180 86292]]\n"
     ]
    }
   ],
   "source": [
    "df = pd.read_csv('../../data/nama-gender-split.csv')\n",
    "tf_fml = count_tfidf(TfidfVectorizer().fit_transform(df['nama']), df['gender'])"
   ]
  },
  {
   "cell_type": "code",
   "execution_count": 5,
   "metadata": {},
   "outputs": [
    {
     "name": "stdout",
     "output_type": "stream",
     "text": [
      "[[40209  2037]\n",
      " [ 7981 39579]]\n"
     ]
    }
   ],
   "source": [
    "df = pd.read_csv('../../data/nama-gender-split.csv')\n",
    "df = df.dropna()\n",
    "tf_f = count_tfidf(TfidfVectorizer().fit_transform(df['nama_awal']), df['gender'])"
   ]
  },
  {
   "cell_type": "code",
   "execution_count": 6,
   "metadata": {},
   "outputs": [
    {
     "name": "stdout",
     "output_type": "stream",
     "text": [
      "[[32124 10122]\n",
      " [ 4169 43391]]\n"
     ]
    }
   ],
   "source": [
    "tf_m = count_tfidf(TfidfVectorizer().fit_transform(df['nama_tengah']), df['gender'])"
   ]
  },
  {
   "cell_type": "code",
   "execution_count": 7,
   "metadata": {},
   "outputs": [
    {
     "name": "stdout",
     "output_type": "stream",
     "text": [
      "[[28099 14147]\n",
      " [ 3463 44097]]\n"
     ]
    }
   ],
   "source": [
    "tf_l = count_tfidf(TfidfVectorizer().fit_transform(df['nama_akhir']), df['gender'])"
   ]
  },
  {
   "cell_type": "code",
   "execution_count": 8,
   "metadata": {},
   "outputs": [
    {
     "name": "stdout",
     "output_type": "stream",
     "text": [
      "[[40468  1778]\n",
      " [ 3227 44333]]\n"
     ]
    }
   ],
   "source": [
    "tf_fm = count_tfidf(TfidfVectorizer().fit_transform(df['nama_awal'].str.cat(df['nama_tengah'], sep=' ')), df['gender'])"
   ]
  },
  {
   "cell_type": "code",
   "execution_count": 9,
   "metadata": {},
   "outputs": [
    {
     "name": "stdout",
     "output_type": "stream",
     "text": [
      "[[39183  3063]\n",
      " [ 3342 44218]]\n"
     ]
    }
   ],
   "source": [
    "tf_fl = count_tfidf(TfidfVectorizer().fit_transform(df['nama_awal'].str.cat(df['nama_akhir'], sep=' ')), df['gender'])"
   ]
  },
  {
   "cell_type": "code",
   "execution_count": 10,
   "metadata": {},
   "outputs": [
    {
     "name": "stdout",
     "output_type": "stream",
     "text": [
      "[[36380  5866]\n",
      " [ 2428 45132]]\n"
     ]
    }
   ],
   "source": [
    "tf_ml = count_tfidf(TfidfVectorizer().fit_transform(df['nama_tengah'].str.cat(df['nama_akhir'], sep=' ')), df['gender'])"
   ]
  },
  {
   "cell_type": "code",
   "execution_count": 14,
   "metadata": {},
   "outputs": [
    {
     "name": "stdout",
     "output_type": "stream",
     "text": [
      "Name Components        TF-IDF\n",
      "-------------------  --------\n",
      "Full Name            0.919214\n",
      "First Name           0.888448\n",
      "Middle Name          0.840868\n",
      "Last Name            0.803911\n",
      "First & Middle Name  0.944269\n",
      "First & Last Name    0.92868\n",
      "Middle & Last Name   0.907645\n"
     ]
    }
   ],
   "source": [
    "from tabulate import tabulate\n",
    "\n",
    "data = [\n",
    "    ['Full Name', tf_fml],\n",
    "    ['First Name', tf_f],\n",
    "    ['Middle Name', tf_m],\n",
    "    ['Last Name', tf_l],\n",
    "    ['First & Middle Name', tf_fm],\n",
    "    ['First & Last Name', tf_fl],\n",
    "    ['Middle & Last Name', tf_ml],\n",
    "]\n",
    "\n",
    "headers = ['Name Components', 'TF-IDF']\n",
    "print(tabulate(data, headers=headers))"
   ]
  }
 ],
 "metadata": {
  "kernelspec": {
   "display_name": "base",
   "language": "python",
   "name": "python3"
  },
  "language_info": {
   "codemirror_mode": {
    "name": "ipython",
    "version": 3
   },
   "file_extension": ".py",
   "mimetype": "text/x-python",
   "name": "python",
   "nbconvert_exporter": "python",
   "pygments_lexer": "ipython3",
   "version": "3.10.9"
  },
  "orig_nbformat": 4
 },
 "nbformat": 4,
 "nbformat_minor": 2
}
