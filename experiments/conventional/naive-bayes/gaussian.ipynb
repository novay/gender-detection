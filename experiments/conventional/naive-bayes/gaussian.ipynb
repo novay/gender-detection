{
 "cells": [
  {
   "cell_type": "code",
   "execution_count": 2,
   "metadata": {},
   "outputs": [
    {
     "data": {
      "text/plain": [
       "(624237, 2)"
      ]
     },
     "execution_count": 2,
     "metadata": {},
     "output_type": "execute_result"
    }
   ],
   "source": [
    "import pandas as pd\n",
    "\n",
    "data = pd.read_csv('../../../data/nama-gender-titik.csv', sep=\";\")\n",
    "data['gender'] = data['gender'].apply(lambda x: 1 if x == 'f' else 0)\n",
    "\n",
    "data.isnull().values.any()\n",
    "\n",
    "len(data[pd.isnull(data).any(axis=1)])\n",
    "\n",
    "data = data.dropna(how='all')\n",
    "len(data[pd.isnull(data).any(axis=1)])\n",
    "\n",
    "data.shape"
   ]
  },
  {
   "cell_type": "code",
   "execution_count": 3,
   "metadata": {},
   "outputs": [
    {
     "name": "stdout",
     "output_type": "stream",
     "text": [
      "Jumlah Pria:  301701 (48.33%)\n",
      "Jumlah Wanita: 322536 (51.67%)\n"
     ]
    }
   ],
   "source": [
    "num_obs = len(data)\n",
    "num_true = len(data.loc[data['gender'] == 1])\n",
    "num_false = len(data.loc[data['gender'] == 0])\n",
    "print(\"Jumlah Pria:  {0} ({1:2.2f}%)\".format(num_true, (num_true/num_obs) * 100))\n",
    "print(\"Jumlah Wanita: {0} ({1:2.2f}%)\".format(num_false, (num_false/num_obs) * 100))"
   ]
  },
  {
   "cell_type": "code",
   "execution_count": 4,
   "metadata": {},
   "outputs": [
    {
     "name": "stdout",
     "output_type": "stream",
     "text": [
      "Dataset Asli Pria       : 301701 (48.33%)\n",
      "Dataset Asli Wanita     : 322536 (51.67%)\n",
      "\n",
      "Dataset Training Pria   : 211190 (48.33%)\n",
      "Dataset Training Wanita : 225775 (51.67%)\n",
      "\n",
      "Dataset Test Pria       : 90511 (48.33%)\n",
      "Dataset Test Wanita     : 96761 (51.67%)\n"
     ]
    }
   ],
   "source": [
    "from sklearn.model_selection import train_test_split\n",
    "\n",
    "feature_col_names = [\"nama\"]\n",
    "predicted_class_names = [\"gender\"]\n",
    "\n",
    "X = data[feature_col_names].values     \n",
    "y = data[predicted_class_names].values\n",
    "split_test_size = 0.30\n",
    "\n",
    "X_train, X_test, y_train, y_test = train_test_split(X, y, test_size=split_test_size, stratify=y, random_state=42) \n",
    "\n",
    "print(\"Dataset Asli Pria       : {0} ({1:0.2f}%)\".format(len(data.loc[data['gender'] == 1]), (len(data.loc[data['gender'] == 1])/len(data.index)) * 100.0))\n",
    "print(\"Dataset Asli Wanita     : {0} ({1:0.2f}%)\".format(len(data.loc[data['gender'] == 0]), (len(data.loc[data['gender'] == 0])/len(data.index)) * 100.0))\n",
    "print(\"\")\n",
    "print(\"Dataset Training Pria   : {0} ({1:0.2f}%)\".format(len(y_train[y_train[:] == 1]), (len(y_train[y_train[:] == 1])/len(y_train) * 100.0)))\n",
    "print(\"Dataset Training Wanita : {0} ({1:0.2f}%)\".format(len(y_train[y_train[:] == 0]), (len(y_train[y_train[:] == 0])/len(y_train) * 100.0)))\n",
    "print(\"\")\n",
    "print(\"Dataset Test Pria       : {0} ({1:0.2f}%)\".format(len(y_test[y_test[:] == 1]), (len(y_test[y_test[:] == 1])/len(y_test) * 100.0)))\n",
    "print(\"Dataset Test Wanita     : {0} ({1:0.2f}%)\".format(len(y_test[y_test[:] == 0]), (len(y_test[y_test[:] == 0])/len(y_test) * 100.0)))"
   ]
  },
  {
   "cell_type": "code",
   "execution_count": 5,
   "metadata": {},
   "outputs": [],
   "source": [
    "from sklearn.feature_extraction.text import CountVectorizer\n",
    "\n",
    "vectorizer = CountVectorizer(analyzer='char_wb', ngram_range=(2,6))\n",
    "vectorizer.fit(X_train.ravel())\n",
    "\n",
    "X_train = vectorizer.transform(X_train.ravel())\n",
    "X_test = vectorizer.transform(X_test.ravel())"
   ]
  },
  {
   "cell_type": "code",
   "execution_count": 6,
   "metadata": {},
   "outputs": [
    {
     "ename": "",
     "evalue": "",
     "output_type": "error",
     "traceback": [
      "\u001b[1;31mCanceled future for execute_request message before replies were done"
     ]
    },
    {
     "ename": "",
     "evalue": "",
     "output_type": "error",
     "traceback": [
      "\u001b[1;31mThe Kernel crashed while executing code in the the current cell or a previous cell. Please review the code in the cell(s) to identify a possible cause of the failure. Click <a href='https://aka.ms/vscodeJupyterKernelCrash'>here</a> for more info. View Jupyter <a href='command:jupyter.viewOutput'>log</a> for further details."
     ]
    }
   ],
   "source": [
    "%%time\n",
    "from sklearn.naive_bayes import GaussianNB\n",
    "\n",
    "clf_nbg =  GaussianNB().fit(X_train.toarray(), y_train)\n",
    "# with open('./models/nbg-cv-models.pkl', 'wb') as f:\n",
    "#     pickle.dump(clf_nbg, f)"
   ]
  },
  {
   "cell_type": "code",
   "execution_count": null,
   "metadata": {},
   "outputs": [],
   "source": [
    "nbg_pred = clf_nbg.predict(X_test)\n",
    "print(metrics.confusion_matrix(y_test, nbg_pred, labels=[1, 0]) )\n",
    "print(\"\")\n",
    "print(\"Classification Report\")\n",
    "print(metrics.classification_report(y_test, nbg_pred, digits=5, labels=[1,0]))"
   ]
  }
 ],
 "metadata": {
  "kernelspec": {
   "display_name": "base",
   "language": "python",
   "name": "python3"
  },
  "language_info": {
   "codemirror_mode": {
    "name": "ipython",
    "version": 3
   },
   "file_extension": ".py",
   "mimetype": "text/x-python",
   "name": "python",
   "nbconvert_exporter": "python",
   "pygments_lexer": "ipython3",
   "version": "3.10.9"
  },
  "orig_nbformat": 4
 },
 "nbformat": 4,
 "nbformat_minor": 2
}
