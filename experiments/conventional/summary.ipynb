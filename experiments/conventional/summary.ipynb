{
 "cells": [
  {
   "cell_type": "code",
   "execution_count": 1,
   "metadata": {},
   "outputs": [],
   "source": [
    "import numpy as np \n",
    "import pandas as pd \n",
    "\n",
    "from sklearn.preprocessing import LabelEncoder\n",
    "from sklearn.model_selection import train_test_split\n",
    "\n",
    "from sklearn import preprocessing"
   ]
  },
  {
   "cell_type": "code",
   "execution_count": 2,
   "metadata": {},
   "outputs": [
    {
     "data": {
      "text/html": [
       "<div>\n",
       "<style scoped>\n",
       "    .dataframe tbody tr th:only-of-type {\n",
       "        vertical-align: middle;\n",
       "    }\n",
       "\n",
       "    .dataframe tbody tr th {\n",
       "        vertical-align: top;\n",
       "    }\n",
       "\n",
       "    .dataframe thead th {\n",
       "        text-align: right;\n",
       "    }\n",
       "</style>\n",
       "<table border=\"1\" class=\"dataframe\">\n",
       "  <thead>\n",
       "    <tr style=\"text-align: right;\">\n",
       "      <th></th>\n",
       "      <th>name</th>\n",
       "      <th>gender</th>\n",
       "    </tr>\n",
       "  </thead>\n",
       "  <tbody>\n",
       "    <tr>\n",
       "      <th>207556</th>\n",
       "      <td>fitri atun nisa</td>\n",
       "      <td>f</td>\n",
       "    </tr>\n",
       "    <tr>\n",
       "      <th>449230</th>\n",
       "      <td>panopot panjaitan</td>\n",
       "      <td>m</td>\n",
       "    </tr>\n",
       "    <tr>\n",
       "      <th>583742</th>\n",
       "      <td>umi tiara</td>\n",
       "      <td>f</td>\n",
       "    </tr>\n",
       "    <tr>\n",
       "      <th>227407</th>\n",
       "      <td>hardinoto</td>\n",
       "      <td>m</td>\n",
       "    </tr>\n",
       "    <tr>\n",
       "      <th>62592</th>\n",
       "      <td>alycia elvina sanjaya</td>\n",
       "      <td>f</td>\n",
       "    </tr>\n",
       "  </tbody>\n",
       "</table>\n",
       "</div>"
      ],
      "text/plain": [
       "                         name gender\n",
       "207556        fitri atun nisa      f\n",
       "449230      panopot panjaitan      m\n",
       "583742              umi tiara      f\n",
       "227407              hardinoto      m\n",
       "62592   alycia elvina sanjaya      f"
      ]
     },
     "execution_count": 2,
     "metadata": {},
     "output_type": "execute_result"
    }
   ],
   "source": [
    "data = pd.read_csv('../../data/contoh.csv', encoding = 'unicode_escape')\n",
    "data.sample(5)"
   ]
  },
  {
   "cell_type": "code",
   "execution_count": 3,
   "metadata": {},
   "outputs": [
    {
     "data": {
      "text/plain": [
       "name      0\n",
       "gender    0\n",
       "dtype: int64"
      ]
     },
     "execution_count": 3,
     "metadata": {},
     "output_type": "execute_result"
    }
   ],
   "source": [
    "data.isna().sum()"
   ]
  },
  {
   "cell_type": "code",
   "execution_count": 4,
   "metadata": {},
   "outputs": [
    {
     "data": {
      "text/plain": [
       "gender\n",
       "m    322538\n",
       "f    301703\n",
       "Name: count, dtype: int64"
      ]
     },
     "execution_count": 4,
     "metadata": {},
     "output_type": "execute_result"
    }
   ],
   "source": [
    "data['gender'].value_counts()"
   ]
  },
  {
   "cell_type": "code",
   "execution_count": 5,
   "metadata": {},
   "outputs": [
    {
     "data": {
      "text/html": [
       "<div>\n",
       "<style scoped>\n",
       "    .dataframe tbody tr th:only-of-type {\n",
       "        vertical-align: middle;\n",
       "    }\n",
       "\n",
       "    .dataframe tbody tr th {\n",
       "        vertical-align: top;\n",
       "    }\n",
       "\n",
       "    .dataframe thead th {\n",
       "        text-align: right;\n",
       "    }\n",
       "</style>\n",
       "<table border=\"1\" class=\"dataframe\">\n",
       "  <thead>\n",
       "    <tr style=\"text-align: right;\">\n",
       "      <th></th>\n",
       "      <th>name</th>\n",
       "      <th>gender</th>\n",
       "    </tr>\n",
       "  </thead>\n",
       "  <tbody>\n",
       "    <tr>\n",
       "      <th>154099</th>\n",
       "      <td>145477</td>\n",
       "      <td>m</td>\n",
       "    </tr>\n",
       "    <tr>\n",
       "      <th>232221</th>\n",
       "      <td>224285</td>\n",
       "      <td>f</td>\n",
       "    </tr>\n",
       "    <tr>\n",
       "      <th>318659</th>\n",
       "      <td>311814</td>\n",
       "      <td>f</td>\n",
       "    </tr>\n",
       "    <tr>\n",
       "      <th>606718</th>\n",
       "      <td>603782</td>\n",
       "      <td>m</td>\n",
       "    </tr>\n",
       "    <tr>\n",
       "      <th>525507</th>\n",
       "      <td>521669</td>\n",
       "      <td>f</td>\n",
       "    </tr>\n",
       "  </tbody>\n",
       "</table>\n",
       "</div>"
      ],
      "text/plain": [
       "          name gender\n",
       "154099  145477      m\n",
       "232221  224285      f\n",
       "318659  311814      f\n",
       "606718  603782      m\n",
       "525507  521669      f"
      ]
     },
     "execution_count": 5,
     "metadata": {},
     "output_type": "execute_result"
    }
   ],
   "source": [
    "data['gender'] = data['gender'].replace({'M' : 1, 'F' : 0})\n",
    "\n",
    "encoder = preprocessing.LabelEncoder()\n",
    "encoder.fit(data['name'])\n",
    "data['name'] = pd.DataFrame(encoder.transform(data['name']))\n",
    "data.sample(5)"
   ]
  },
  {
   "cell_type": "code",
   "execution_count": 6,
   "metadata": {},
   "outputs": [],
   "source": [
    "X = data.drop('gender', axis = 1)\n",
    "Y = data['gender']"
   ]
  },
  {
   "cell_type": "code",
   "execution_count": 7,
   "metadata": {},
   "outputs": [
    {
     "data": {
      "text/html": [
       "<div>\n",
       "<style scoped>\n",
       "    .dataframe tbody tr th:only-of-type {\n",
       "        vertical-align: middle;\n",
       "    }\n",
       "\n",
       "    .dataframe tbody tr th {\n",
       "        vertical-align: top;\n",
       "    }\n",
       "\n",
       "    .dataframe thead th {\n",
       "        text-align: right;\n",
       "    }\n",
       "</style>\n",
       "<table border=\"1\" class=\"dataframe\">\n",
       "  <thead>\n",
       "    <tr style=\"text-align: right;\">\n",
       "      <th></th>\n",
       "      <th>name</th>\n",
       "    </tr>\n",
       "  </thead>\n",
       "  <tbody>\n",
       "    <tr>\n",
       "      <th>0</th>\n",
       "      <td>250</td>\n",
       "    </tr>\n",
       "    <tr>\n",
       "      <th>1</th>\n",
       "      <td>251</td>\n",
       "    </tr>\n",
       "    <tr>\n",
       "      <th>2</th>\n",
       "      <td>252</td>\n",
       "    </tr>\n",
       "    <tr>\n",
       "      <th>3</th>\n",
       "      <td>253</td>\n",
       "    </tr>\n",
       "    <tr>\n",
       "      <th>4</th>\n",
       "      <td>254</td>\n",
       "    </tr>\n",
       "    <tr>\n",
       "      <th>...</th>\n",
       "      <td>...</td>\n",
       "    </tr>\n",
       "    <tr>\n",
       "      <th>624236</th>\n",
       "      <td>621530</td>\n",
       "    </tr>\n",
       "    <tr>\n",
       "      <th>624237</th>\n",
       "      <td>621531</td>\n",
       "    </tr>\n",
       "    <tr>\n",
       "      <th>624238</th>\n",
       "      <td>621532</td>\n",
       "    </tr>\n",
       "    <tr>\n",
       "      <th>624239</th>\n",
       "      <td>621533</td>\n",
       "    </tr>\n",
       "    <tr>\n",
       "      <th>624240</th>\n",
       "      <td>621534</td>\n",
       "    </tr>\n",
       "  </tbody>\n",
       "</table>\n",
       "<p>624241 rows × 1 columns</p>\n",
       "</div>"
      ],
      "text/plain": [
       "          name\n",
       "0          250\n",
       "1          251\n",
       "2          252\n",
       "3          253\n",
       "4          254\n",
       "...        ...\n",
       "624236  621530\n",
       "624237  621531\n",
       "624238  621532\n",
       "624239  621533\n",
       "624240  621534\n",
       "\n",
       "[624241 rows x 1 columns]"
      ]
     },
     "execution_count": 7,
     "metadata": {},
     "output_type": "execute_result"
    }
   ],
   "source": [
    "X"
   ]
  },
  {
   "cell_type": "code",
   "execution_count": 8,
   "metadata": {},
   "outputs": [
    {
     "data": {
      "text/plain": [
       "0         f\n",
       "1         f\n",
       "2         f\n",
       "3         m\n",
       "4         m\n",
       "         ..\n",
       "624236    f\n",
       "624237    f\n",
       "624238    f\n",
       "624239    f\n",
       "624240    f\n",
       "Name: gender, Length: 624241, dtype: object"
      ]
     },
     "execution_count": 8,
     "metadata": {},
     "output_type": "execute_result"
    }
   ],
   "source": [
    "Y"
   ]
  },
  {
   "cell_type": "code",
   "execution_count": 9,
   "metadata": {},
   "outputs": [],
   "source": [
    "X_train, X_test, Y_train, Y_test = train_test_split(X, Y, train_size = 0.2, random_state = 0)"
   ]
  },
  {
   "cell_type": "code",
   "execution_count": 10,
   "metadata": {},
   "outputs": [
    {
     "name": "stdout",
     "output_type": "stream",
     "text": [
      "(624241, 1) (124848, 1) (499393, 1)\n"
     ]
    }
   ],
   "source": [
    "print(X.shape, X_train.shape, X_test.shape)"
   ]
  },
  {
   "cell_type": "code",
   "execution_count": 11,
   "metadata": {},
   "outputs": [
    {
     "name": "stdout",
     "output_type": "stream",
     "text": [
      "Requirement already satisfied: lightgbm in /Users/novay/miniconda/lib/python3.10/site-packages (3.3.5)\n",
      "Requirement already satisfied: scipy in /Users/novay/miniconda/lib/python3.10/site-packages (from lightgbm) (1.10.1)\n",
      "Requirement already satisfied: scikit-learn!=0.22.0 in /Users/novay/miniconda/lib/python3.10/site-packages (from lightgbm) (1.2.2)\n",
      "Requirement already satisfied: wheel in /Users/novay/miniconda/lib/python3.10/site-packages (from lightgbm) (0.37.1)\n",
      "Requirement already satisfied: numpy in /Users/novay/miniconda/lib/python3.10/site-packages (from lightgbm) (1.23.5)\n",
      "Requirement already satisfied: threadpoolctl>=2.0.0 in /Users/novay/miniconda/lib/python3.10/site-packages (from scikit-learn!=0.22.0->lightgbm) (3.1.0)\n",
      "Requirement already satisfied: joblib>=1.1.1 in /Users/novay/.local/lib/python3.10/site-packages (from scikit-learn!=0.22.0->lightgbm) (1.2.0)\n",
      "Note: you may need to restart the kernel to use updated packages.\n"
     ]
    }
   ],
   "source": [
    "%pip install lightgbm"
   ]
  },
  {
   "cell_type": "code",
   "execution_count": 17,
   "metadata": {},
   "outputs": [
    {
     "name": "stdout",
     "output_type": "stream",
     "text": [
      "SVM trained!\n",
      "MLP (Neural Network) trained!\n"
     ]
    }
   ],
   "source": [
    "from sklearn.linear_model import LogisticRegression, RidgeClassifier\n",
    "from sklearn.tree import DecisionTreeClassifier\n",
    "from sklearn.neural_network import MLPClassifier\n",
    "from sklearn.ensemble import RandomForestClassifier, AdaBoostClassifier, ExtraTreesClassifier, GradientBoostingClassifier\n",
    "from sklearn.naive_bayes import MultinomialNB, BernoulliNB, GaussianNB\n",
    "from sklearn.neighbors import KNeighborsClassifier\n",
    "from sklearn.discriminant_analysis import LinearDiscriminantAnalysis, QuadraticDiscriminantAnalysis\n",
    "import lightgbm as lgb\n",
    "from sklearn.svm import SVC\n",
    "\n",
    "models = {\n",
    "    # 'Logistic Regression' : LogisticRegression(),\n",
    "    # 'Ridge Regression' : RidgeClassifier(),\n",
    "    # 'Multinominal Naive Bayes' : MultinomialNB(), \n",
    "    # 'Bernoulli Naive Bayes' : BernoulliNB(), \n",
    "    # 'Gaussian Naive Bayes' : GaussianNB(), \n",
    "    # 'KNN' : KNeighborsClassifier(n_neighbors=100), \n",
    "    # 'Decision Tree' : DecisionTreeClassifier(),\n",
    "    # 'Random Forest' : RandomForestClassifier(),\n",
    "    # 'Extra Trees' : ExtraTreesClassifier(),\n",
    "    # 'Gradient Boost' : GradientBoostingClassifier(), \n",
    "    # 'Ada Boost' : AdaBoostClassifier(), \n",
    "    # 'LightGBM' : lgb.LGBMClassifier(), \n",
    "    # 'Linear Discriminant Analysis' : LinearDiscriminantAnalysis(), \n",
    "    # 'Quadratic Discriminant Analysis' : QuadraticDiscriminantAnalysis(), \n",
    "    'SVM': SVC(), \n",
    "    'MLP (Neural Network)' : MLPClassifier(),\n",
    "}\n",
    "\n",
    "for name, model in models.items():\n",
    "    model.fit(X_train, Y_train)\n",
    "    print(name + ' trained!')"
   ]
  },
  {
   "cell_type": "code",
   "execution_count": 18,
   "metadata": {},
   "outputs": [
    {
     "name": "stdout",
     "output_type": "stream",
     "text": [
      "Dataset Test\n",
      "Dataset Train\n",
      "              precision    recall  f1-score   support\n",
      "\n",
      "           f    0.54161   0.72582   0.62033    241329\n",
      "           m    0.62402   0.42555   0.50602    258064\n",
      "\n",
      "    accuracy                        0.57065    499393\n",
      "   macro avg    0.58282   0.57568   0.56317    499393\n",
      "weighted avg    0.58420   0.57065   0.56126    499393\n",
      "\n",
      "Dataset Train\n",
      "              precision    recall  f1-score   support\n",
      "\n",
      "           f    0.48403   0.99881   0.65207    241329\n",
      "           m    0.79558   0.00433   0.00861    258064\n",
      "\n",
      "    accuracy                        0.48491    499393\n",
      "   macro avg    0.63981   0.50157   0.33034    499393\n",
      "weighted avg    0.64503   0.48491   0.31956    499393\n",
      "\n"
     ]
    }
   ],
   "source": [
    "from sklearn import metrics\n",
    "\n",
    "print('Dataset Test')\n",
    "for name, model in models.items():\n",
    "    # score = model.score(X_test, Y_test)\n",
    "    # print(name + ' Accuracy is: {:.2f}%'.format(score * 100))\n",
    "    \n",
    "    Y_pred = model.predict(X_test)\n",
    "    print('Dataset Train')\n",
    "    print(metrics.classification_report(Y_test, Y_pred, digits=5, zero_division=1))\n",
    "\n",
    "# print('\\nDataset Train')\n",
    "# for name, model in models.items():\n",
    "#     score = model.score(X_test, Y_train)\n",
    "#     print(name + ' Accuracy is: {:.2f}%'.format(score * 100))\n",
    "    \n",
    "    # Y_pred = model.predict(X_train)\n",
    "    # print(metrics.classification_report(Y_train, Y_pred, digits=5))"
   ]
  }
 ],
 "metadata": {
  "kernelspec": {
   "display_name": "base",
   "language": "python",
   "name": "python3"
  },
  "language_info": {
   "codemirror_mode": {
    "name": "ipython",
    "version": 3
   },
   "file_extension": ".py",
   "mimetype": "text/x-python",
   "name": "python",
   "nbconvert_exporter": "python",
   "pygments_lexer": "ipython3",
   "version": "3.10.9"
  },
  "orig_nbformat": 4
 },
 "nbformat": 4,
 "nbformat_minor": 2
}
