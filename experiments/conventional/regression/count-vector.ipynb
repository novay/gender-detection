{
 "cells": [
  {
   "cell_type": "code",
   "execution_count": 1,
   "metadata": {},
   "outputs": [],
   "source": [
    "import pandas as pd \n",
    "from sklearn.model_selection import train_test_split\n",
    "from sklearn.feature_extraction.text import CountVectorizer\n",
    "from sklearn.linear_model import LogisticRegression\n",
    "from sklearn.metrics import confusion_matrix, accuracy_score, classification_report"
   ]
  },
  {
   "cell_type": "code",
   "execution_count": 2,
   "metadata": {},
   "outputs": [],
   "source": [
    "def count_vectorizer(X_train, X_test, y_train, y_test):\n",
    "    vectorizer = CountVectorizer(analyzer='char', ngram_range=(1, 5))\n",
    "    train_features = vectorizer.fit_transform(X_train)\n",
    "    test_features = vectorizer.transform(X_test)\n",
    "\n",
    "    model = LogisticRegression(max_iter=1000)\n",
    "    model.fit(train_features, y_train)\n",
    "\n",
    "    test_pred = model.predict(test_features)\n",
    "\n",
    "    print(confusion_matrix(y_test, test_pred))\n",
    "    return accuracy_score(y_test, test_pred)"
   ]
  },
  {
   "cell_type": "code",
   "execution_count": 3,
   "metadata": {},
   "outputs": [
    {
     "name": "stdout",
     "output_type": "stream",
     "text": [
      "[[87010  3643]\n",
      " [ 3112 93508]]\n"
     ]
    }
   ],
   "source": [
    "df = pd.read_csv('../../data/nama-gender-split.csv')\n",
    "X_train, X_test, y_train, y_test = train_test_split(df['nama'], df['gender'], test_size=0.3)\n",
    "cv_fml = count_vectorizer(X_train, X_test, y_train, y_test)"
   ]
  },
  {
   "cell_type": "code",
   "execution_count": 4,
   "metadata": {},
   "outputs": [
    {
     "name": "stdout",
     "output_type": "stream",
     "text": [
      "[[39001  3203]\n",
      " [ 2864 44738]]\n"
     ]
    }
   ],
   "source": [
    "df = pd.read_csv('../../data/nama-gender-split.csv')\n",
    "df = df.dropna()\n",
    "X_train, X_test, y_train, y_test = train_test_split(df['nama_awal'], df['gender'], test_size=0.3)\n",
    "cv_f = count_vectorizer(X_train, X_test, y_train, y_test)"
   ]
  },
  {
   "cell_type": "code",
   "execution_count": 5,
   "metadata": {},
   "outputs": [
    {
     "name": "stdout",
     "output_type": "stream",
     "text": [
      "[[37069  5073]\n",
      " [ 5373 42291]]\n"
     ]
    }
   ],
   "source": [
    "X_train, X_test, y_train, y_test = train_test_split(df['nama_tengah'], df['gender'], test_size=0.3)\n",
    "cv_m = count_vectorizer(X_train, X_test, y_train, y_test)"
   ]
  },
  {
   "cell_type": "code",
   "execution_count": 6,
   "metadata": {},
   "outputs": [
    {
     "name": "stdout",
     "output_type": "stream",
     "text": [
      "[[32588  9652]\n",
      " [ 4862 42704]]\n"
     ]
    }
   ],
   "source": [
    "X_train, X_test, y_train, y_test = train_test_split(df['nama_akhir'], df['gender'], test_size=0.3)\n",
    "cv_l = count_vectorizer(X_train, X_test, y_train, y_test)"
   ]
  },
  {
   "cell_type": "code",
   "execution_count": 7,
   "metadata": {},
   "outputs": [
    {
     "name": "stdout",
     "output_type": "stream",
     "text": [
      "[[40638  1654]\n",
      " [ 1494 46020]]\n"
     ]
    }
   ],
   "source": [
    "X_train, X_test, y_train, y_test = train_test_split(df['nama_awal'].str.cat(df['nama_tengah'], sep=' '), df['gender'], test_size=0.3)\n",
    "cv_fm = count_vectorizer(X_train, X_test, y_train, y_test)"
   ]
  },
  {
   "cell_type": "code",
   "execution_count": 8,
   "metadata": {},
   "outputs": [
    {
     "name": "stdout",
     "output_type": "stream",
     "text": [
      "[[40170  1869]\n",
      " [ 1656 46111]]\n"
     ]
    }
   ],
   "source": [
    "X_train, X_test, y_train, y_test = train_test_split(df['nama_awal'].str.cat(df['nama_akhir'], sep=' '), df['gender'], test_size=0.3)\n",
    "cv_fl = count_vectorizer(X_train, X_test, y_train, y_test)"
   ]
  },
  {
   "cell_type": "code",
   "execution_count": 9,
   "metadata": {},
   "outputs": [
    {
     "name": "stdout",
     "output_type": "stream",
     "text": [
      "[[38998  3083]\n",
      " [ 2544 45181]]\n"
     ]
    }
   ],
   "source": [
    "X_train, X_test, y_train, y_test = train_test_split(df['nama_tengah'].str.cat(df['nama_akhir'], sep=' '), df['gender'], test_size=0.3)\n",
    "cv_ml = count_vectorizer(X_train, X_test, y_train, y_test)"
   ]
  },
  {
   "cell_type": "code",
   "execution_count": 10,
   "metadata": {},
   "outputs": [
    {
     "name": "stdout",
     "output_type": "stream",
     "text": [
      "Name Components        Count Vectorizer\n",
      "-------------------  ------------------\n",
      "Full Name                      0.96393\n",
      "First Name                     0.932443\n",
      "Middle Name                    0.883683\n",
      "Last Name                      0.838385\n",
      "First & Middle Name            0.964947\n",
      "First & Last Name              0.960749\n",
      "Middle & Last Name             0.937343\n"
     ]
    }
   ],
   "source": [
    "from tabulate import tabulate\n",
    "\n",
    "data = [\n",
    "    ['Full Name', cv_fml],\n",
    "    ['First Name', cv_f],\n",
    "    ['Middle Name', cv_m],\n",
    "    ['Last Name', cv_l],\n",
    "    ['First & Middle Name', cv_fm],\n",
    "    ['First & Last Name', cv_fl],\n",
    "    ['Middle & Last Name', cv_ml],\n",
    "]\n",
    "\n",
    "headers = ['Name Components', 'Count Vectorizer']\n",
    "print(tabulate(data, headers=headers))"
   ]
  }
 ],
 "metadata": {
  "kernelspec": {
   "display_name": "base",
   "language": "python",
   "name": "python3"
  },
  "language_info": {
   "codemirror_mode": {
    "name": "ipython",
    "version": 3
   },
   "file_extension": ".py",
   "mimetype": "text/x-python",
   "name": "python",
   "nbconvert_exporter": "python",
   "pygments_lexer": "ipython3",
   "version": "3.10.9"
  },
  "orig_nbformat": 4
 },
 "nbformat": 4,
 "nbformat_minor": 2
}
