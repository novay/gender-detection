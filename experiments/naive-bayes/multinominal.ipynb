{
 "cells": [
  {
   "cell_type": "code",
   "execution_count": 1,
   "metadata": {},
   "outputs": [],
   "source": [
    "import pandas as pd \n",
    "from sklearn.model_selection import train_test_split\n",
    "from sklearn.feature_extraction.text import CountVectorizer, TfidfTransformer\n",
    "from sklearn.naive_bayes import MultinomialNB\n",
    "from sklearn.metrics import confusion_matrix, accuracy_score, classification_report\n",
    "from sklearn.pipeline import Pipeline"
   ]
  },
  {
   "cell_type": "code",
   "execution_count": 2,
   "metadata": {},
   "outputs": [],
   "source": [
    "def count_pipeline(X_train, X_test, y_train, y_test):\n",
    "    lr = Pipeline([('vect', CountVectorizer()),\n",
    "                    ('tfidf', TfidfTransformer()),\n",
    "                    ('clf', MultinomialNB()),\n",
    "                ]).fit(X_train, y_train)\n",
    "    \n",
    "    test_pred = lr.predict(X_test)\n",
    "\n",
    "    print(confusion_matrix(y_test, test_pred))\n",
    "    return accuracy_score(y_test, test_pred)"
   ]
  },
  {
   "cell_type": "code",
   "execution_count": 3,
   "metadata": {},
   "outputs": [
    {
     "name": "stdout",
     "output_type": "stream",
     "text": [
      "[[79211 11166]\n",
      " [ 3188 93708]]\n"
     ]
    }
   ],
   "source": [
    "df = pd.read_csv('../../data/nama-gender-split.csv')\n",
    "X_train, X_test, y_train, y_test = train_test_split(df['nama'], df['gender'], test_size=0.3)\n",
    "cv_fml = count_pipeline(X_train, X_test, y_train, y_test)"
   ]
  },
  {
   "cell_type": "code",
   "execution_count": 11,
   "metadata": {},
   "outputs": [
    {
     "name": "stdout",
     "output_type": "stream",
     "text": [
      "[[33987  8083]\n",
      " [ 1965 45771]]\n"
     ]
    }
   ],
   "source": [
    "df = pd.read_csv('../../data/nama-gender-split.csv')\n",
    "df = df.dropna()\n",
    "X_train, X_test, y_train, y_test = train_test_split(df['nama_awal'], df['gender'], test_size=0.3)\n",
    "cv_f = count_pipeline(X_train, X_test, y_train, y_test)"
   ]
  },
  {
   "cell_type": "code",
   "execution_count": 12,
   "metadata": {},
   "outputs": [
    {
     "name": "stdout",
     "output_type": "stream",
     "text": [
      "[[31682 10370]\n",
      " [ 3933 43821]]\n"
     ]
    }
   ],
   "source": [
    "X_train, X_test, y_train, y_test = train_test_split(df['nama_tengah'], df['gender'], test_size=0.3)\n",
    "cv_m = count_pipeline(X_train, X_test, y_train, y_test)"
   ]
  },
  {
   "cell_type": "code",
   "execution_count": 13,
   "metadata": {},
   "outputs": [
    {
     "name": "stdout",
     "output_type": "stream",
     "text": [
      "[[27982 13957]\n",
      " [ 3712 44155]]\n"
     ]
    }
   ],
   "source": [
    "X_train, X_test, y_train, y_test = train_test_split(df['nama_akhir'], df['gender'], test_size=0.3)\n",
    "cv_l = count_pipeline(X_train, X_test, y_train, y_test)"
   ]
  },
  {
   "cell_type": "code",
   "execution_count": 14,
   "metadata": {},
   "outputs": [
    {
     "name": "stdout",
     "output_type": "stream",
     "text": [
      "[[39274  2928]\n",
      " [ 1486 46118]]\n"
     ]
    }
   ],
   "source": [
    "X_train, X_test, y_train, y_test = train_test_split(df['nama_awal'].str.cat(df['nama_tengah'], sep=' '), df['gender'], test_size=0.3)\n",
    "cv_fm = count_pipeline(X_train, X_test, y_train, y_test)"
   ]
  },
  {
   "cell_type": "code",
   "execution_count": 15,
   "metadata": {},
   "outputs": [
    {
     "name": "stdout",
     "output_type": "stream",
     "text": [
      "[[38157  4032]\n",
      " [ 1569 46048]]\n"
     ]
    }
   ],
   "source": [
    "X_train, X_test, y_train, y_test = train_test_split(df['nama_awal'].str.cat(df['nama_akhir'], sep=' '), df['gender'], test_size=0.3)\n",
    "cv_fl = count_pipeline(X_train, X_test, y_train, y_test)"
   ]
  },
  {
   "cell_type": "code",
   "execution_count": 16,
   "metadata": {},
   "outputs": [
    {
     "name": "stdout",
     "output_type": "stream",
     "text": [
      "[[36917  5152]\n",
      " [ 2435 45302]]\n"
     ]
    }
   ],
   "source": [
    "X_train, X_test, y_train, y_test = train_test_split(df['nama_tengah'].str.cat(df['nama_akhir'], sep=' '), df['gender'], test_size=0.3)\n",
    "cv_ml = count_pipeline(X_train, X_test, y_train, y_test)"
   ]
  },
  {
   "cell_type": "code",
   "execution_count": 17,
   "metadata": {},
   "outputs": [
    {
     "name": "stdout",
     "output_type": "stream",
     "text": [
      "Name Components        Pipeline\n",
      "-------------------  ----------\n",
      "Full Name              0.923865\n",
      "First Name             0.888114\n",
      "Middle Name            0.840734\n",
      "Last Name              0.803254\n",
      "First & Middle Name    0.95085\n",
      "First & Last Name      0.937632\n",
      "Middle & Last Name     0.915518\n"
     ]
    }
   ],
   "source": [
    "from tabulate import tabulate\n",
    "\n",
    "data = [\n",
    "    ['Full Name', cv_fml],\n",
    "    ['First Name', cv_f],\n",
    "    ['Middle Name', cv_m],\n",
    "    ['Last Name', cv_l],\n",
    "    ['First & Middle Name', cv_fm],\n",
    "    ['First & Last Name', cv_fl],\n",
    "    ['Middle & Last Name', cv_ml],\n",
    "]\n",
    "\n",
    "headers = ['Name Components', 'Pipeline']\n",
    "print(tabulate(data, headers=headers))"
   ]
  }
 ],
 "metadata": {
  "kernelspec": {
   "display_name": "base",
   "language": "python",
   "name": "python3"
  },
  "language_info": {
   "codemirror_mode": {
    "name": "ipython",
    "version": 3
   },
   "file_extension": ".py",
   "mimetype": "text/x-python",
   "name": "python",
   "nbconvert_exporter": "python",
   "pygments_lexer": "ipython3",
   "version": "3.10.9"
  },
  "orig_nbformat": 4
 },
 "nbformat": 4,
 "nbformat_minor": 2
}
