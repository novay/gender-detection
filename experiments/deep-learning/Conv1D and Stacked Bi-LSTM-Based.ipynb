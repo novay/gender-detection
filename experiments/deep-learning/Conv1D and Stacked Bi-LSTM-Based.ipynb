{
 "cells": [
  {
   "cell_type": "code",
   "execution_count": 1,
   "metadata": {},
   "outputs": [],
   "source": [
    "import numpy as np\n",
    "import pandas as pd\n",
    "import tensorflow as tf\n",
    "\n",
    "data = pd.read_csv('../../data/nama-gender-titik.csv', sep=\";\")\n",
    "data['gender'] = data['gender'].apply(lambda x: 1 if x == 'f' else 0)\n",
    "names = data[['name', 'gender']].values.tolist()\n",
    "\n",
    "def name_to_sequence(name):\n",
    "    char_to_int = dict((c, i) for i, c in enumerate('abcdefghijklmnopqrstuvwxyz '))\n",
    "    sequence = [char_to_int[char.lower()] for char in name if char.lower() in char_to_int]\n",
    "    return sequence\n",
    "\n",
    "def name_to_vector(name):\n",
    "    sequence = name_to_sequence(name)\n",
    "    vector = tf.keras.preprocessing.sequence.pad_sequences([sequence], maxlen=29, padding='post')[0]\n",
    "    return vector"
   ]
  },
  {
   "cell_type": "code",
   "execution_count": 2,
   "metadata": {},
   "outputs": [],
   "source": [
    "x_train = np.array([name_to_vector(name[0]) for name in names])\n",
    "y_train = np.array([name[1] for name in names])"
   ]
  },
  {
   "cell_type": "code",
   "execution_count": 3,
   "metadata": {},
   "outputs": [
    {
     "name": "stdout",
     "output_type": "stream",
     "text": [
      "Metal device set to: Apple M1 Pro\n",
      "\n",
      "systemMemory: 16.00 GB\n",
      "maxCacheSize: 5.33 GB\n",
      "\n"
     ]
    }
   ],
   "source": [
    "# Defining the model architecture\n",
    "model = tf.keras.Sequential()\n",
    "model.add(tf.keras.layers.Input(shape=(29,))),\n",
    "model.add(tf.keras.layers.Embedding(input_dim=5000, output_dim=64, input_length=29)),\n",
    "model.add(tf.keras.layers.Conv1D(16, 3, activation='relu', padding='same')),\n",
    "model.add(tf.keras.layers.MaxPooling1D(pool_size=2)),\n",
    "model.add(tf.keras.layers.Conv1D(32, 3, activation='relu', padding='same')),\n",
    "model.add(tf.keras.layers.MaxPooling1D(pool_size=2)),\n",
    "model.add(tf.keras.layers.Conv1D(64, 3, activation='relu', padding='same')),\n",
    "model.add(tf.keras.layers.Bidirectional(tf.keras.layers.LSTM(64, return_sequences=True))),\n",
    "model.add(tf.keras.layers.Bidirectional(tf.keras.layers.LSTM(128, return_sequences=True))),\n",
    "model.add(tf.keras.layers.Bidirectional(tf.keras.layers.LSTM(256))),\n",
    "model.add(tf.keras.layers.Dense(128, activation='relu')),\n",
    "model.add(tf.keras.layers.Dropout(0.4)),\n",
    "model.add(tf.keras.layers.Dense(64, activation='relu')),\n",
    "model.add(tf.keras.layers.Dense(1, activation='sigmoid'))\n",
    "\n",
    "# Compiling the model\n",
    "model.compile(loss='binary_crossentropy', optimizer=tf.keras.optimizers.legacy.Adam(), metrics=['accuracy'])"
   ]
  },
  {
   "cell_type": "code",
   "execution_count": 4,
   "metadata": {},
   "outputs": [
    {
     "name": "stdout",
     "output_type": "stream",
     "text": [
      "Epoch 1/10\n"
     ]
    },
    {
     "name": "stderr",
     "output_type": "stream",
     "text": [
      "2023-04-24 05:42:54.982444: W tensorflow/tsl/platform/profile_utils/cpu_utils.cc:128] Failed to get CPU frequency: 0 Hz\n"
     ]
    },
    {
     "name": "stdout",
     "output_type": "stream",
     "text": [
      "19508/19508 [==============================] - 1372s 70ms/step - loss: 0.1923 - accuracy: 0.9214 - val_loss: 0.1560 - val_accuracy: 0.9367\n",
      "Epoch 2/10\n",
      "19508/19508 [==============================] - 1311s 67ms/step - loss: 0.1532 - accuracy: 0.9389 - val_loss: 0.1416 - val_accuracy: 0.9435\n",
      "Epoch 3/10\n",
      "19508/19508 [==============================] - 1321s 68ms/step - loss: 0.1437 - accuracy: 0.9428 - val_loss: 0.1397 - val_accuracy: 0.9454\n",
      "Epoch 4/10\n",
      "19508/19508 [==============================] - 1352s 69ms/step - loss: 0.1376 - accuracy: 0.9454 - val_loss: 0.1290 - val_accuracy: 0.9491\n",
      "Epoch 5/10\n",
      "19508/19508 [==============================] - 1346s 69ms/step - loss: 0.1335 - accuracy: 0.9470 - val_loss: 0.1257 - val_accuracy: 0.9501\n",
      "Epoch 6/10\n",
      "19508/19508 [==============================] - 1344s 69ms/step - loss: 0.1304 - accuracy: 0.9481 - val_loss: 0.1232 - val_accuracy: 0.9511\n",
      "Epoch 7/10\n",
      "19508/19508 [==============================] - 1275s 65ms/step - loss: 0.1283 - accuracy: 0.9492 - val_loss: 0.1228 - val_accuracy: 0.9518\n",
      "Epoch 8/10\n",
      "19508/19508 [==============================] - 1256s 64ms/step - loss: 0.1270 - accuracy: 0.9496 - val_loss: 0.1228 - val_accuracy: 0.9507\n",
      "Epoch 9/10\n",
      "19508/19508 [==============================] - 1282s 66ms/step - loss: 0.1261 - accuracy: 0.9501 - val_loss: 0.1238 - val_accuracy: 0.9516\n",
      "Epoch 10/10\n",
      "19508/19508 [==============================] - 1248s 64ms/step - loss: 0.1258 - accuracy: 0.9503 - val_loss: 0.1222 - val_accuracy: 0.9520\n"
     ]
    }
   ],
   "source": [
    "hist = model.fit(x_train, y_train, validation_data=(x_train, y_train), epochs=10)"
   ]
  },
  {
   "cell_type": "code",
   "execution_count": 12,
   "metadata": {},
   "outputs": [],
   "source": [
    "model.save('../../models/gender-mixed-base.h5')"
   ]
  },
  {
   "cell_type": "code",
   "execution_count": 13,
   "metadata": {},
   "outputs": [
    {
     "name": "stdout",
     "output_type": "stream",
     "text": [
      "Model: \"sequential\"\n",
      "_________________________________________________________________\n",
      " Layer (type)                Output Shape              Param #   \n",
      "=================================================================\n",
      " embedding (Embedding)       (None, 29, 64)            320000    \n",
      "                                                                 \n",
      " conv1d (Conv1D)             (None, 29, 16)            3088      \n",
      "                                                                 \n",
      " max_pooling1d (MaxPooling1D  (None, 14, 16)           0         \n",
      " )                                                               \n",
      "                                                                 \n",
      " conv1d_1 (Conv1D)           (None, 14, 32)            1568      \n",
      "                                                                 \n",
      " max_pooling1d_1 (MaxPooling  (None, 7, 32)            0         \n",
      " 1D)                                                             \n",
      "                                                                 \n",
      " conv1d_2 (Conv1D)           (None, 7, 64)             6208      \n",
      "                                                                 \n",
      " bidirectional (Bidirectiona  (None, 7, 128)           66048     \n",
      " l)                                                              \n",
      "                                                                 \n",
      " bidirectional_1 (Bidirectio  (None, 7, 256)           263168    \n",
      " nal)                                                            \n",
      "                                                                 \n",
      " bidirectional_2 (Bidirectio  (None, 512)              1050624   \n",
      " nal)                                                            \n",
      "                                                                 \n",
      " dense (Dense)               (None, 128)               65664     \n",
      "                                                                 \n",
      " dropout (Dropout)           (None, 128)               0         \n",
      "                                                                 \n",
      " dense_1 (Dense)             (None, 64)                8256      \n",
      "                                                                 \n",
      " dense_2 (Dense)             (None, 1)                 65        \n",
      "                                                                 \n",
      "=================================================================\n",
      "Total params: 1,784,689\n",
      "Trainable params: 1,784,689\n",
      "Non-trainable params: 0\n",
      "_________________________________________________________________\n"
     ]
    }
   ],
   "source": [
    "model.summary()"
   ]
  },
  {
   "cell_type": "code",
   "execution_count": 14,
   "metadata": {},
   "outputs": [
    {
     "name": "stdout",
     "output_type": "stream",
     "text": [
      "19508/19508 [==============================] - 471s 24ms/step - loss: 0.1222 - accuracy: 0.9520\n",
      "\n",
      "ACCURACY: 0.951997697353363\n",
      "LOSS: 0.12219194322824478\n"
     ]
    }
   ],
   "source": [
    "score = model.evaluate(x_train, y_train)\n",
    "print()\n",
    "print(\"ACCURACY:\",score[1])\n",
    "print(\"LOSS:\",score[0])"
   ]
  },
  {
   "cell_type": "code",
   "execution_count": 15,
   "metadata": {},
   "outputs": [
    {
     "data": {
      "image/png": "[encoded data removed]",
      "text/plain": [
       "<Figure size 640x480 with 1 Axes>"
      ]
     },
     "metadata": {},
     "output_type": "display_data"
    }
   ],
   "source": [
    "import matplotlib.pyplot as plt\n",
    "\n",
    "plt.plot(hist.history['accuracy'])\n",
    "plt.plot(hist.history['val_accuracy'])\n",
    "plt.title('Model Accuracy')\n",
    "plt.ylabel('Accuracy')\n",
    "plt.xlabel('Epoch')\n",
    "plt.legend(['Train', 'Validation'], loc='upper left')\n",
    "plt.show()"
   ]
  },
  {
   "cell_type": "code",
   "execution_count": 16,
   "metadata": {},
   "outputs": [
    {
     "data": {
      "image/png": "[encoded data removed]",
      "text/plain": [
       "<Figure size 640x480 with 1 Axes>"
      ]
     },
     "metadata": {},
     "output_type": "display_data"
    }
   ],
   "source": [
    "plt.plot(hist.history['loss'])\n",
    "plt.plot(hist.history['val_loss'])\n",
    "plt.title('Model Loss')\n",
    "plt.ylabel('Loss')\n",
    "plt.xlabel('Epoch')\n",
    "plt.legend(['Train', 'Test'], loc='upper left')\n",
    "plt.show()"
   ]
  },
  {
   "cell_type": "code",
   "execution_count": 17,
   "metadata": {},
   "outputs": [
    {
     "name": "stdout",
     "output_type": "stream",
     "text": [
      "19508/19508 [==============================] - 396s 20ms/step\n",
      "Accuracy: 95.20%\n"
     ]
    }
   ],
   "source": [
    "import numpy as np\n",
    "from sklearn.metrics import  classification_report, confusion_matrix, accuracy_score\n",
    "\n",
    "labels_pred = model.predict(x_train)\n",
    "labels_pred = np.round(labels_pred.flatten())\n",
    "accuracy = accuracy_score(y_train, labels_pred)\n",
    "print(\"Accuracy: %.2f%%\" % (accuracy*100))"
   ]
  },
  {
   "cell_type": "code",
   "execution_count": 18,
   "metadata": {},
   "outputs": [
    {
     "name": "stdout",
     "output_type": "stream",
     "text": [
      "              precision    recall  f1-score   support\n",
      "\n",
      "           0    0.95621   0.95063   0.95341    322538\n",
      "           1    0.94755   0.95346   0.95049    301703\n",
      "\n",
      "    accuracy                        0.95200    624241\n",
      "   macro avg    0.95188   0.95204   0.95195    624241\n",
      "weighted avg    0.95202   0.95200   0.95200    624241\n",
      "\n"
     ]
    }
   ],
   "source": [
    "print(classification_report(y_train, labels_pred, digits=5))"
   ]
  },
  {
   "cell_type": "code",
   "execution_count": 19,
   "metadata": {},
   "outputs": [
    {
     "name": "stdout",
     "output_type": "stream",
     "text": [
      "1/1 [==============================] - 1s 828ms/step\n",
      "Novi Gustiana = Female\n",
      "1/1 [==============================] - 0s 102ms/step\n",
      "Novia Kumala Sari = Female\n",
      "1/1 [==============================] - 0s 38ms/step\n",
      "Novianto Rahmadi = Male\n",
      "1/1 [==============================] - 0s 42ms/step\n",
      "Padli Nofrizal = Male\n",
      "1/1 [==============================] - 0s 38ms/step\n",
      "Putri Wahyuni = Female\n",
      "1/1 [==============================] - 0s 32ms/step\n",
      "Rahmat Hidayat = Male\n",
      "1/1 [==============================] - 0s 36ms/step\n",
      "Rahmi Andreni = Female\n",
      "1/1 [==============================] - 0s 83ms/step\n",
      "Rian Aries Fani = Male\n",
      "1/1 [==============================] - 0s 41ms/step\n",
      "Riandi Selvi = Male\n",
      "1/1 [==============================] - 0s 34ms/step\n",
      "Rianto = Male\n",
      "1/1 [==============================] - 0s 29ms/step\n",
      "Ridha Ulva = Female\n",
      "1/1 [==============================] - 0s 27ms/step\n",
      "Rizqi Wahyuningsih = Female\n",
      "1/1 [==============================] - 0s 29ms/step\n",
      "Ruwadi Saputra = Male\n",
      "1/1 [==============================] - 0s 31ms/step\n",
      "Sugeng Hermawan = Male\n",
      "1/1 [==============================] - 0s 29ms/step\n",
      "Suliatun = Female\n",
      "1/1 [==============================] - 0s 33ms/step\n",
      "Tomi Ismeidianto = Male\n",
      "1/1 [==============================] - 0s 38ms/step\n",
      "Usthalay Putra = Male\n",
      "1/1 [==============================] - 0s 32ms/step\n",
      "Winggo Aga Septian = Male\n",
      "1/1 [==============================] - 0s 33ms/step\n",
      "Yunaldi Rizki Putra = Male\n",
      "1/1 [==============================] - 0s 28ms/step\n",
      "Arif fasetyo = Male\n",
      "1/1 [==============================] - 0s 31ms/step\n",
      "Arie Rahman Satria = Male\n",
      "1/1 [==============================] - 0s 29ms/step\n",
      "Arinda Oktaviana = Female\n",
      "1/1 [==============================] - 0s 40ms/step\n",
      "Melani = Female\n",
      "1/1 [==============================] - 0s 46ms/step\n",
      "Malik = Female\n",
      "1/1 [==============================] - 0s 33ms/step\n",
      "Melani Malik = Female\n"
     ]
    }
   ],
   "source": [
    "\n",
    "def predict_gender(name):\n",
    "    name_vector = np.array(name_to_vector(name))\n",
    "    padded_name_vector = tf.keras.preprocessing.sequence.pad_sequences([name_vector], maxlen=29, padding='post', truncating='post')\n",
    "    prediction = model.predict(padded_name_vector)\n",
    "    \n",
    "    if prediction < 0.5:\n",
    "        return 'Male'\n",
    "    else:\n",
    "        return 'Female'\n",
    "\n",
    "nama = [\n",
    "  'Novi Gustiana', \n",
    "  'Novia Kumala Sari', \n",
    "  'Novianto Rahmadi', \n",
    "  'Padli Nofrizal', \n",
    "  'Putri Wahyuni', \n",
    "  'Rahmat Hidayat', \n",
    "  'Rahmi Andreni', \n",
    "  'Rian Aries Fani', \n",
    "  'Riandi Selvi', \n",
    "  'Rianto', \n",
    "  'Ridha Ulva', \n",
    "  'Rizqi Wahyuningsih', \n",
    "  'Ruwadi Saputra', \n",
    "  'Sugeng Hermawan', \n",
    "  'Suliatun', \n",
    "  'Tomi Ismeidianto', \n",
    "  'Usthalay Putra', \n",
    "  'Winggo Aga Septian', \n",
    "  'Yunaldi Rizki Putra', \n",
    "  'Arif fasetyo', \n",
    "  'Arie Rahman Satria', \n",
    "  'Arinda Oktaviana', \n",
    "  'Melani', \n",
    "  'Malik', \n",
    "  'Melani Malik'\n",
    "]\n",
    "\n",
    "for i in nama:\n",
    "    print(i + ' = ' + predict_gender(i))"
   ]
  }
 ],
 "metadata": {
  "kernelspec": {
   "display_name": "base",
   "language": "python",
   "name": "python3"
  },
  "language_info": {
   "codemirror_mode": {
    "name": "ipython",
    "version": 3
   },
   "file_extension": ".py",
   "mimetype": "text/x-python",
   "name": "python",
   "nbconvert_exporter": "python",
   "pygments_lexer": "ipython3",
   "version": "3.10.9"
  },
  "orig_nbformat": 4
 },
 "nbformat": 4,
 "nbformat_minor": 2
}
