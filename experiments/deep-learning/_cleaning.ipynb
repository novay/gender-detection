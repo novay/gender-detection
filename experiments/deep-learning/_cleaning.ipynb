{
 "cells": [
  {
   "cell_type": "code",
   "execution_count": 8,
   "metadata": {},
   "outputs": [],
   "source": [
    "import pandas as pd\n",
    "\n",
    "data = pd.read_csv('../../data/nama-gender-titik.csv', sep=\";\")\n",
    "data['gender'] = data['gender'].apply(lambda x: 1 if x == 'f' else 0)\n",
    "names = data[['nama', 'gender']].values.tolist()"
   ]
  },
  {
   "cell_type": "code",
   "execution_count": 9,
   "metadata": {},
   "outputs": [
    {
     "data": {
      "text/plain": [
       "gender\n",
       "0    322536\n",
       "1    301699\n",
       "Name: nama, dtype: int64"
      ]
     },
     "execution_count": 9,
     "metadata": {},
     "output_type": "execute_result"
    }
   ],
   "source": [
    "data.groupby('gender')['nama'].count()"
   ]
  },
  {
   "cell_type": "code",
   "execution_count": 10,
   "metadata": {},
   "outputs": [
    {
     "name": "stdout",
     "output_type": "stream",
     "text": [
      "{' ', 'l', 'i', 'u', 'w', '.', 'h', 'n', 'v', '0', 'b', \"'\", 'm', 'e', 'a', 'd', 'o', 's', 'q', 'f', 'END', 'g', 'z', 'k', 'p', 'j', '-', 'c', 'y', 'r', 't', 'x'}\n",
      "vocab length is  32\n",
      "length of input is  624235\n"
     ]
    }
   ],
   "source": [
    "names = data['nama']\n",
    "gender = data['gender']\n",
    "vocab = set(' '.join([str(i) for i in names]))\n",
    "vocab.add('END')\n",
    "len_vocab = len(vocab)\n",
    "\n",
    "print(vocab)\n",
    "print(\"vocab length is \",len_vocab)\n",
    "print (\"length of input is \",len(data))"
   ]
  },
  {
   "cell_type": "code",
   "execution_count": 12,
   "metadata": {},
   "outputs": [
    {
     "name": "stdout",
     "output_type": "stream",
     "text": [
      "{' ': 0, 'l': 1, 'i': 2, 'u': 3, 'w': 4, '.': 5, 'h': 6, 'n': 7, 'v': 8, '0': 9, 'b': 10, \"'\": 11, 'm': 12, 'e': 13, 'a': 14, 'd': 15, 'o': 16, 's': 17, 'q': 18, 'f': 19, 'END': 20, 'g': 21, 'z': 22, 'k': 23, 'p': 24, 'j': 25, '-': 26, 'c': 27, 'y': 28, 'r': 29, 't': 30, 'x': 31}\n"
     ]
    }
   ],
   "source": [
    "char_index = dict((c, i) for i, c in enumerate(vocab))\n",
    "print(char_index)"
   ]
  }
 ],
 "metadata": {
  "kernelspec": {
   "display_name": "base",
   "language": "python",
   "name": "python3"
  },
  "language_info": {
   "codemirror_mode": {
    "name": "ipython",
    "version": 3
   },
   "file_extension": ".py",
   "mimetype": "text/x-python",
   "name": "python",
   "nbconvert_exporter": "python",
   "pygments_lexer": "ipython3",
   "version": "3.10.9"
  },
  "orig_nbformat": 4
 },
 "nbformat": 4,
 "nbformat_minor": 2
}
