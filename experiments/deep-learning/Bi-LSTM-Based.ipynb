{
 "cells": [
  {
   "attachments": {},
   "cell_type": "markdown",
   "metadata": {},
   "source": [
    "# **[OK]**"
   ]
  },
  {
   "cell_type": "code",
   "execution_count": 26,
   "metadata": {},
   "outputs": [],
   "source": [
    "import numpy as np\n",
    "import pandas as pd\n",
    "import tensorflow as tf\n",
    "from tensorflow.keras.preprocessing.sequence import pad_sequences\n",
    "from tensorflow.keras.layers import Dense, LSTM, Embedding, Dropout\n",
    "from tensorflow.keras.models import Sequential\n",
    "\n",
    "data = pd.read_csv('../../data/nama-gender-titik.csv', sep=\";\")\n",
    "data['gender'] = data['gender'].apply(lambda x: 1 if x == 'f' else 0)\n",
    "names = data[['name', 'gender']].values.tolist()\n",
    "\n",
    "def name_to_sequence(name):\n",
    "    char_to_int = dict((c, i) for i, c in enumerate('abcdefghijklmnopqrstuvwxyz '))\n",
    "    sequence = [char_to_int[char.lower()] for char in name if char.lower() in char_to_int]\n",
    "    return sequence\n",
    "\n",
    "def name_to_vector(name):\n",
    "    sequence = name_to_sequence(name)\n",
    "    vector = pad_sequences([sequence], maxlen=29, padding='post')[0]\n",
    "    return vector"
   ]
  },
  {
   "cell_type": "code",
   "execution_count": 27,
   "metadata": {},
   "outputs": [],
   "source": [
    "x_train = np.array([name_to_vector(name[0]) for name in names])\n",
    "y_train = np.array([name[1] for name in names])"
   ]
  },
  {
   "cell_type": "code",
   "execution_count": 28,
   "metadata": {},
   "outputs": [
    {
     "name": "stdout",
     "output_type": "stream",
     "text": [
      "Metal device set to: Apple M1 Pro\n",
      "\n",
      "systemMemory: 16.00 GB\n",
      "maxCacheSize: 5.33 GB\n",
      "\n"
     ]
    }
   ],
   "source": [
    "model = Sequential()\n",
    "model.add(Embedding(input_dim=27, output_dim=64, input_length=29))\n",
    "model.add(tf.keras.layers.Bidirectional(tf.keras.layers.LSTM(64)))\n",
    "model.add(Dense(units=128, activation='relu'))\n",
    "model.add(Dropout(0.4))\n",
    "model.add(Dense(units=1, activation='sigmoid'))\n",
    "\n",
    "model.compile(optimizer='adam', loss='binary_crossentropy', metrics=['accuracy'])"
   ]
  },
  {
   "cell_type": "code",
   "execution_count": 29,
   "metadata": {},
   "outputs": [
    {
     "name": "stdout",
     "output_type": "stream",
     "text": [
      "Epoch 1/10\n"
     ]
    },
    {
     "name": "stderr",
     "output_type": "stream",
     "text": [
      "2023-04-24 05:53:51.341535: W tensorflow/tsl/platform/profile_utils/cpu_utils.cc:128] Failed to get CPU frequency: 0 Hz\n"
     ]
    },
    {
     "name": "stdout",
     "output_type": "stream",
     "text": [
      "19508/19508 [==============================] - 644s 33ms/step - loss: 0.1936 - accuracy: 0.9184 - val_loss: 0.1315 - val_accuracy: 0.9483\n",
      "Epoch 2/10\n",
      "19508/19508 [==============================] - 618s 32ms/step - loss: 0.1240 - accuracy: 0.9516 - val_loss: 0.1104 - val_accuracy: 0.9568\n",
      "Epoch 3/10\n",
      "19508/19508 [==============================] - 621s 32ms/step - loss: 0.1118 - accuracy: 0.9569 - val_loss: 0.1043 - val_accuracy: 0.9604\n",
      "Epoch 4/10\n",
      "19508/19508 [==============================] - 620s 32ms/step - loss: 0.1053 - accuracy: 0.9596 - val_loss: 0.0982 - val_accuracy: 0.9622\n",
      "Epoch 5/10\n",
      "19508/19508 [==============================] - 621s 32ms/step - loss: 0.1010 - accuracy: 0.9614 - val_loss: 0.0999 - val_accuracy: 0.9616\n",
      "Epoch 6/10\n",
      "19508/19508 [==============================] - 646s 33ms/step - loss: 0.0980 - accuracy: 0.9626 - val_loss: 0.0912 - val_accuracy: 0.9657\n",
      "Epoch 7/10\n",
      "19508/19508 [==============================] - 648s 33ms/step - loss: 0.0953 - accuracy: 0.9636 - val_loss: 0.0897 - val_accuracy: 0.9665\n",
      "Epoch 8/10\n",
      "19508/19508 [==============================] - 646s 33ms/step - loss: 0.0933 - accuracy: 0.9643 - val_loss: 0.0872 - val_accuracy: 0.9668\n",
      "Epoch 9/10\n",
      "19508/19508 [==============================] - 646s 33ms/step - loss: 0.0913 - accuracy: 0.9651 - val_loss: 0.0847 - val_accuracy: 0.9680\n",
      "Epoch 10/10\n",
      "19508/19508 [==============================] - 659s 34ms/step - loss: 0.0895 - accuracy: 0.9659 - val_loss: 0.0836 - val_accuracy: 0.9688\n"
     ]
    }
   ],
   "source": [
    "hist = model.fit(x_train, y_train, validation_data=(x_train, y_train), epochs=10)"
   ]
  },
  {
   "cell_type": "code",
   "execution_count": 30,
   "metadata": {},
   "outputs": [],
   "source": [
    "model.save('../../models/gender-bi-lstm-base.h5')"
   ]
  },
  {
   "cell_type": "code",
   "execution_count": 32,
   "metadata": {},
   "outputs": [
    {
     "name": "stdout",
     "output_type": "stream",
     "text": [
      "Model: \"sequential\"\n",
      "_________________________________________________________________\n",
      " Layer (type)                Output Shape              Param #   \n",
      "=================================================================\n",
      " embedding (Embedding)       (None, 29, 64)            1728      \n",
      "                                                                 \n",
      " bidirectional (Bidirectiona  (None, 128)              66048     \n",
      " l)                                                              \n",
      "                                                                 \n",
      " dense (Dense)               (None, 128)               16512     \n",
      "                                                                 \n",
      " dropout (Dropout)           (None, 128)               0         \n",
      "                                                                 \n",
      " dense_1 (Dense)             (None, 1)                 129       \n",
      "                                                                 \n",
      "=================================================================\n",
      "Total params: 84,417\n",
      "Trainable params: 84,417\n",
      "Non-trainable params: 0\n",
      "_________________________________________________________________\n"
     ]
    }
   ],
   "source": [
    "model.summary()"
   ]
  },
  {
   "cell_type": "code",
   "execution_count": 50,
   "metadata": {},
   "outputs": [
    {
     "name": "stdout",
     "output_type": "stream",
     "text": [
      "9754/9754 [==============================] - 110s 11ms/step - loss: 0.0835 - accuracy: 0.9682\n",
      "\n",
      "ACCURACY: 0.9681805968284607\n",
      "LOSS: 0.08352895081043243\n"
     ]
    }
   ],
   "source": [
    "score = model.evaluate(x_train, y_train, batch_size=64)\n",
    "print()\n",
    "print(\"ACCURACY:\",score[1])\n",
    "print(\"LOSS:\",score[0])"
   ]
  },
  {
   "cell_type": "code",
   "execution_count": 33,
   "metadata": {},
   "outputs": [
    {
     "data": {
      "image/png": "[encoded data removed]",
      "text/plain": [
       "<Figure size 640x480 with 1 Axes>"
      ]
     },
     "metadata": {},
     "output_type": "display_data"
    }
   ],
   "source": [
    "import matplotlib.pyplot as plt\n",
    "\n",
    "plt.plot(hist.history['accuracy'])\n",
    "plt.plot(hist.history['val_accuracy'])\n",
    "plt.title('model accuracy')\n",
    "plt.ylabel('accuracy')\n",
    "plt.xlabel('epoch')\n",
    "plt.legend(['train', 'validation'], loc='upper left')\n",
    "plt.show()"
   ]
  },
  {
   "cell_type": "code",
   "execution_count": 34,
   "metadata": {},
   "outputs": [
    {
     "data": {
      "image/png": "[encoded data removed]",
      "text/plain": [
       "<Figure size 640x480 with 1 Axes>"
      ]
     },
     "metadata": {},
     "output_type": "display_data"
    }
   ],
   "source": [
    "plt.plot(hist.history['loss'])\n",
    "plt.plot(hist.history['val_loss'])\n",
    "plt.title('model loss')\n",
    "plt.ylabel('loss')\n",
    "plt.xlabel('epoch')\n",
    "plt.legend(['train', 'test'], loc='upper left')\n",
    "plt.show()"
   ]
  },
  {
   "cell_type": "code",
   "execution_count": 37,
   "metadata": {},
   "outputs": [
    {
     "name": "stdout",
     "output_type": "stream",
     "text": [
      "19508/19508 [==============================] - 141s 7ms/step\n",
      "Accuracy: 96.88%\n"
     ]
    }
   ],
   "source": [
    "import numpy as np\n",
    "from sklearn.metrics import  classification_report, confusion_matrix, accuracy_score\n",
    "\n",
    "labels_pred = model.predict(x_train)\n",
    "labels_pred = np.round(labels_pred.flatten())\n",
    "accuracy = accuracy_score(y_train, labels_pred)\n",
    "print(\"Accuracy: %.2f%%\" % (accuracy*100))"
   ]
  },
  {
   "cell_type": "code",
   "execution_count": 38,
   "metadata": {},
   "outputs": [
    {
     "name": "stdout",
     "output_type": "stream",
     "text": [
      "              precision    recall  f1-score   support\n",
      "\n",
      "           0    0.96810   0.97160   0.96985    322538\n",
      "           1    0.96952   0.96578   0.96765    301703\n",
      "\n",
      "    accuracy                        0.96879    624241\n",
      "   macro avg    0.96881   0.96869   0.96875    624241\n",
      "weighted avg    0.96879   0.96879   0.96878    624241\n",
      "\n"
     ]
    }
   ],
   "source": [
    "print(classification_report(y_train, labels_pred, digits=5))"
   ]
  },
  {
   "cell_type": "code",
   "execution_count": 39,
   "metadata": {},
   "outputs": [
    {
     "name": "stdout",
     "output_type": "stream",
     "text": [
      "1/1 [==============================] - 1s 1s/step\n",
      "Novi Gustiana = Female\n",
      "1/1 [==============================] - 0s 26ms/step\n",
      "Novia Kumala Sari = Female\n",
      "1/1 [==============================] - 0s 26ms/step\n",
      "Novianto Rahmadi = Male\n",
      "1/1 [==============================] - 0s 27ms/step\n",
      "Padli Nofrizal = Male\n",
      "1/1 [==============================] - 0s 20ms/step\n",
      "Putri Wahyuni = Female\n",
      "1/1 [==============================] - 0s 19ms/step\n",
      "Rahmat Hidayat = Male\n",
      "1/1 [==============================] - 0s 22ms/step\n",
      "Rahmi Andreni = Female\n",
      "1/1 [==============================] - 0s 19ms/step\n",
      "Rian Aries Fani = Male\n",
      "1/1 [==============================] - 0s 20ms/step\n",
      "Riandi Selvi = Female\n",
      "1/1 [==============================] - 0s 19ms/step\n",
      "Rianto = Male\n",
      "1/1 [==============================] - 0s 19ms/step\n",
      "Ridha Ulva = Female\n",
      "1/1 [==============================] - 0s 20ms/step\n",
      "Rizqi Wahyuningsih = Female\n",
      "1/1 [==============================] - 0s 21ms/step\n",
      "Ruwadi Saputra = Male\n",
      "1/1 [==============================] - 0s 22ms/step\n",
      "Sugeng Hermawan = Male\n",
      "1/1 [==============================] - 0s 19ms/step\n",
      "Suliatun = Female\n",
      "1/1 [==============================] - 0s 18ms/step\n",
      "Tomi Ismeidianto = Male\n",
      "1/1 [==============================] - 0s 22ms/step\n",
      "Usthalay Putra = Male\n",
      "1/1 [==============================] - 0s 22ms/step\n",
      "Winggo Aga Septian = Male\n",
      "1/1 [==============================] - 0s 25ms/step\n",
      "Yunaldi Rizki Putra = Male\n",
      "1/1 [==============================] - 0s 25ms/step\n",
      "Arif fasetyo = Male\n",
      "1/1 [==============================] - 0s 22ms/step\n",
      "Arie Rahman Satria = Male\n",
      "1/1 [==============================] - 0s 28ms/step\n",
      "Arinda Oktaviana = Female\n",
      "1/1 [==============================] - 0s 20ms/step\n",
      "Melani = Female\n",
      "1/1 [==============================] - 0s 22ms/step\n",
      "Malik = Male\n",
      "1/1 [==============================] - 0s 22ms/step\n",
      "Melani Malik = Female\n"
     ]
    }
   ],
   "source": [
    "import tensorflow as tf\n",
    "import numpy as np\n",
    "    \n",
    "model = tf.keras.models.load_model('../../models/gender-bi-lstm-base.h5')\n",
    "\n",
    "def name_to_vector(name):\n",
    "    sequence = name_to_sequence(name)\n",
    "    vector = tf.keras.preprocessing.sequence.pad_sequences([sequence], maxlen=29, padding='post')[0]\n",
    "    return vector\n",
    "\n",
    "def name_to_sequence(name):\n",
    "    char_to_int = dict((c, i) for i, c in enumerate('abcdefghijklmnopqrstuvwxyz '))\n",
    "    sequence = [char_to_int[char.lower()] for char in name if char.lower() in char_to_int]\n",
    "    return sequence\n",
    "    \n",
    "def predict_gender(name):\n",
    "    name_vector = np.array(name_to_vector(name))\n",
    "    padded_name_vector = tf.keras.preprocessing.sequence.pad_sequences([name_vector], maxlen=29, padding='post', truncating='post')\n",
    "    prediction = model.predict(padded_name_vector)\n",
    "    \n",
    "    if prediction < 0.5:\n",
    "        return 'Male'\n",
    "    else:\n",
    "        return 'Female'\n",
    "\n",
    "nama = [\n",
    "  'Novi Gustiana', \n",
    "  'Novia Kumala Sari', \n",
    "  'Novianto Rahmadi', \n",
    "  'Padli Nofrizal', \n",
    "  'Putri Wahyuni', \n",
    "  'Rahmat Hidayat', \n",
    "  'Rahmi Andreni', \n",
    "  'Rian Aries Fani', \n",
    "  'Riandi Selvi', \n",
    "  'Rianto', \n",
    "  'Ridha Ulva', \n",
    "  'Rizqi Wahyuningsih', \n",
    "  'Ruwadi Saputra', \n",
    "  'Sugeng Hermawan', \n",
    "  'Suliatun', \n",
    "  'Tomi Ismeidianto', \n",
    "  'Usthalay Putra', \n",
    "  'Winggo Aga Septian', \n",
    "  'Yunaldi Rizki Putra', \n",
    "  'Arif fasetyo', \n",
    "  'Arie Rahman Satria', \n",
    "  'Arinda Oktaviana', \n",
    "  'Melani', \n",
    "  'Malik', \n",
    "  'Melani Malik'\n",
    "]\n",
    "\n",
    "for i in nama:\n",
    "    print(i + ' = ' + predict_gender(i))"
   ]
  }
 ],
 "metadata": {
  "kernelspec": {
   "display_name": "base",
   "language": "python",
   "name": "python3"
  },
  "language_info": {
   "codemirror_mode": {
    "name": "ipython",
    "version": 3
   },
   "file_extension": ".py",
   "mimetype": "text/x-python",
   "name": "python",
   "nbconvert_exporter": "python",
   "pygments_lexer": "ipython3",
   "version": "3.10.9"
  },
  "orig_nbformat": 4
 },
 "nbformat": 4,
 "nbformat_minor": 2
}
