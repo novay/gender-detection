{
 "cells": [
  {
   "cell_type": "code",
   "execution_count": 1,
   "metadata": {},
   "outputs": [],
   "source": [
    "import numpy as np \n",
    "import pandas as pd \n",
    "\n",
    "from sklearn.preprocessing import LabelEncoder\n",
    "from sklearn.model_selection import train_test_split\n",
    "\n",
    "from sklearn import preprocessing"
   ]
  },
  {
   "cell_type": "code",
   "execution_count": 2,
   "metadata": {},
   "outputs": [
    {
     "data": {
      "text/html": [
       "<div>\n",
       "<style scoped>\n",
       "    .dataframe tbody tr th:only-of-type {\n",
       "        vertical-align: middle;\n",
       "    }\n",
       "\n",
       "    .dataframe tbody tr th {\n",
       "        vertical-align: top;\n",
       "    }\n",
       "\n",
       "    .dataframe thead th {\n",
       "        text-align: right;\n",
       "    }\n",
       "</style>\n",
       "<table border=\"1\" class=\"dataframe\">\n",
       "  <thead>\n",
       "    <tr style=\"text-align: right;\">\n",
       "      <th></th>\n",
       "      <th>name</th>\n",
       "      <th>gender</th>\n",
       "    </tr>\n",
       "  </thead>\n",
       "  <tbody>\n",
       "    <tr>\n",
       "      <th>7825</th>\n",
       "      <td>rifa'i mustofa</td>\n",
       "      <td>m</td>\n",
       "    </tr>\n",
       "    <tr>\n",
       "      <th>164676</th>\n",
       "      <td>dwi juliyanto pamungkas</td>\n",
       "      <td>m</td>\n",
       "    </tr>\n",
       "    <tr>\n",
       "      <th>536848</th>\n",
       "      <td>siti aisyah aziz</td>\n",
       "      <td>f</td>\n",
       "    </tr>\n",
       "    <tr>\n",
       "      <th>508049</th>\n",
       "      <td>rusma y fhalena</td>\n",
       "      <td>f</td>\n",
       "    </tr>\n",
       "    <tr>\n",
       "      <th>365022</th>\n",
       "      <td>muhammad erlangga jossi</td>\n",
       "      <td>m</td>\n",
       "    </tr>\n",
       "  </tbody>\n",
       "</table>\n",
       "</div>"
      ],
      "text/plain": [
       "                           name gender\n",
       "7825             rifa'i mustofa      m\n",
       "164676  dwi juliyanto pamungkas      m\n",
       "536848         siti aisyah aziz      f\n",
       "508049          rusma y fhalena      f\n",
       "365022  muhammad erlangga jossi      m"
      ]
     },
     "execution_count": 2,
     "metadata": {},
     "output_type": "execute_result"
    }
   ],
   "source": [
    "data = pd.read_csv('../../data/contoh.csv', encoding = 'unicode_escape')\n",
    "data.sample(5)"
   ]
  },
  {
   "cell_type": "code",
   "execution_count": 3,
   "metadata": {},
   "outputs": [
    {
     "data": {
      "text/plain": [
       "name      0\n",
       "gender    0\n",
       "dtype: int64"
      ]
     },
     "execution_count": 3,
     "metadata": {},
     "output_type": "execute_result"
    }
   ],
   "source": [
    "data.isna().sum()"
   ]
  },
  {
   "cell_type": "code",
   "execution_count": 4,
   "metadata": {},
   "outputs": [
    {
     "data": {
      "text/plain": [
       "gender\n",
       "m    322538\n",
       "f    301703\n",
       "Name: count, dtype: int64"
      ]
     },
     "execution_count": 4,
     "metadata": {},
     "output_type": "execute_result"
    }
   ],
   "source": [
    "data['gender'].value_counts()"
   ]
  },
  {
   "cell_type": "code",
   "execution_count": 5,
   "metadata": {},
   "outputs": [
    {
     "data": {
      "text/html": [
       "<div>\n",
       "<style scoped>\n",
       "    .dataframe tbody tr th:only-of-type {\n",
       "        vertical-align: middle;\n",
       "    }\n",
       "\n",
       "    .dataframe tbody tr th {\n",
       "        vertical-align: top;\n",
       "    }\n",
       "\n",
       "    .dataframe thead th {\n",
       "        text-align: right;\n",
       "    }\n",
       "</style>\n",
       "<table border=\"1\" class=\"dataframe\">\n",
       "  <thead>\n",
       "    <tr style=\"text-align: right;\">\n",
       "      <th></th>\n",
       "      <th>name</th>\n",
       "      <th>gender</th>\n",
       "    </tr>\n",
       "  </thead>\n",
       "  <tbody>\n",
       "    <tr>\n",
       "      <th>82223</th>\n",
       "      <td>72962</td>\n",
       "      <td>f</td>\n",
       "    </tr>\n",
       "    <tr>\n",
       "      <th>516774</th>\n",
       "      <td>512902</td>\n",
       "      <td>m</td>\n",
       "    </tr>\n",
       "    <tr>\n",
       "      <th>11398</th>\n",
       "      <td>1251</td>\n",
       "      <td>m</td>\n",
       "    </tr>\n",
       "    <tr>\n",
       "      <th>189792</th>\n",
       "      <td>181399</td>\n",
       "      <td>m</td>\n",
       "    </tr>\n",
       "    <tr>\n",
       "      <th>421459</th>\n",
       "      <td>416598</td>\n",
       "      <td>f</td>\n",
       "    </tr>\n",
       "  </tbody>\n",
       "</table>\n",
       "</div>"
      ],
      "text/plain": [
       "          name gender\n",
       "82223    72962      f\n",
       "516774  512902      m\n",
       "11398     1251      m\n",
       "189792  181399      m\n",
       "421459  416598      f"
      ]
     },
     "execution_count": 5,
     "metadata": {},
     "output_type": "execute_result"
    }
   ],
   "source": [
    "data['gender'] = data['gender'].replace({'M' : 1, 'F' : 0})\n",
    "\n",
    "encoder = preprocessing.LabelEncoder()\n",
    "encoder.fit(data['name'])\n",
    "data['name'] = pd.DataFrame(encoder.transform(data['name']))\n",
    "data.sample(5)"
   ]
  },
  {
   "cell_type": "code",
   "execution_count": 6,
   "metadata": {},
   "outputs": [],
   "source": [
    "X = data.drop('gender', axis = 1)\n",
    "Y = data['gender']"
   ]
  },
  {
   "cell_type": "code",
   "execution_count": 7,
   "metadata": {},
   "outputs": [
    {
     "data": {
      "text/html": [
       "<div>\n",
       "<style scoped>\n",
       "    .dataframe tbody tr th:only-of-type {\n",
       "        vertical-align: middle;\n",
       "    }\n",
       "\n",
       "    .dataframe tbody tr th {\n",
       "        vertical-align: top;\n",
       "    }\n",
       "\n",
       "    .dataframe thead th {\n",
       "        text-align: right;\n",
       "    }\n",
       "</style>\n",
       "<table border=\"1\" class=\"dataframe\">\n",
       "  <thead>\n",
       "    <tr style=\"text-align: right;\">\n",
       "      <th></th>\n",
       "      <th>name</th>\n",
       "    </tr>\n",
       "  </thead>\n",
       "  <tbody>\n",
       "    <tr>\n",
       "      <th>0</th>\n",
       "      <td>250</td>\n",
       "    </tr>\n",
       "    <tr>\n",
       "      <th>1</th>\n",
       "      <td>251</td>\n",
       "    </tr>\n",
       "    <tr>\n",
       "      <th>2</th>\n",
       "      <td>252</td>\n",
       "    </tr>\n",
       "    <tr>\n",
       "      <th>3</th>\n",
       "      <td>253</td>\n",
       "    </tr>\n",
       "    <tr>\n",
       "      <th>4</th>\n",
       "      <td>254</td>\n",
       "    </tr>\n",
       "    <tr>\n",
       "      <th>...</th>\n",
       "      <td>...</td>\n",
       "    </tr>\n",
       "    <tr>\n",
       "      <th>624236</th>\n",
       "      <td>621530</td>\n",
       "    </tr>\n",
       "    <tr>\n",
       "      <th>624237</th>\n",
       "      <td>621531</td>\n",
       "    </tr>\n",
       "    <tr>\n",
       "      <th>624238</th>\n",
       "      <td>621532</td>\n",
       "    </tr>\n",
       "    <tr>\n",
       "      <th>624239</th>\n",
       "      <td>621533</td>\n",
       "    </tr>\n",
       "    <tr>\n",
       "      <th>624240</th>\n",
       "      <td>621534</td>\n",
       "    </tr>\n",
       "  </tbody>\n",
       "</table>\n",
       "<p>624241 rows × 1 columns</p>\n",
       "</div>"
      ],
      "text/plain": [
       "          name\n",
       "0          250\n",
       "1          251\n",
       "2          252\n",
       "3          253\n",
       "4          254\n",
       "...        ...\n",
       "624236  621530\n",
       "624237  621531\n",
       "624238  621532\n",
       "624239  621533\n",
       "624240  621534\n",
       "\n",
       "[624241 rows x 1 columns]"
      ]
     },
     "execution_count": 7,
     "metadata": {},
     "output_type": "execute_result"
    }
   ],
   "source": [
    "X"
   ]
  },
  {
   "cell_type": "code",
   "execution_count": 8,
   "metadata": {},
   "outputs": [
    {
     "data": {
      "text/plain": [
       "0         f\n",
       "1         f\n",
       "2         f\n",
       "3         m\n",
       "4         m\n",
       "         ..\n",
       "624236    f\n",
       "624237    f\n",
       "624238    f\n",
       "624239    f\n",
       "624240    f\n",
       "Name: gender, Length: 624241, dtype: object"
      ]
     },
     "execution_count": 8,
     "metadata": {},
     "output_type": "execute_result"
    }
   ],
   "source": [
    "Y"
   ]
  },
  {
   "cell_type": "code",
   "execution_count": 9,
   "metadata": {},
   "outputs": [],
   "source": [
    "X_train, X_test, Y_train, Y_test = train_test_split(X, Y, train_size = 0.2, random_state = 0)"
   ]
  },
  {
   "cell_type": "code",
   "execution_count": 10,
   "metadata": {},
   "outputs": [
    {
     "name": "stdout",
     "output_type": "stream",
     "text": [
      "(624241, 1) (124848, 1) (499393, 1)\n"
     ]
    }
   ],
   "source": [
    "print(X.shape, X_train.shape, X_test.shape)"
   ]
  },
  {
   "cell_type": "code",
   "execution_count": null,
   "metadata": {},
   "outputs": [],
   "source": [
    "%pip install lightgbm"
   ]
  },
  {
   "cell_type": "code",
   "execution_count": 18,
   "metadata": {},
   "outputs": [
    {
     "name": "stdout",
     "output_type": "stream",
     "text": [
      "Logistic Regression trained!\n",
      "Ridge Regression trained!\n",
      "Multinominal Naive Bayes trained!\n",
      "Bernoulli Naive Bayes trained!\n",
      "Gaussian Naive Bayes trained!\n",
      "KNN trained!\n",
      "Decision Tree trained!\n",
      "Random Forest trained!\n",
      "Extra Trees trained!\n",
      "Gradient Boost trained!\n",
      "Ada Boost trained!\n",
      "LightGBM trained!\n",
      "Linear Discriminant Analysis trained!\n",
      "Quadratic Discriminant Analysis trained!\n"
     ]
    }
   ],
   "source": [
    "from sklearn.linear_model import LogisticRegression, RidgeClassifier\n",
    "from sklearn.tree import DecisionTreeClassifier\n",
    "from sklearn.neural_network import MLPClassifier\n",
    "from sklearn.ensemble import RandomForestClassifier, AdaBoostClassifier, ExtraTreesClassifier, GradientBoostingClassifier\n",
    "from sklearn.naive_bayes import MultinomialNB, BernoulliNB, GaussianNB\n",
    "from sklearn.neighbors import KNeighborsClassifier\n",
    "from sklearn.discriminant_analysis import LinearDiscriminantAnalysis, QuadraticDiscriminantAnalysis\n",
    "import lightgbm as lgb\n",
    "\n",
    "models = {\n",
    "    'Logistic Regression' : LogisticRegression(),\n",
    "    'Ridge Regression' : RidgeClassifier(),\n",
    "    'Multinominal Naive Bayes' : MultinomialNB(), \n",
    "    'Bernoulli Naive Bayes' : BernoulliNB(), \n",
    "    'Gaussian Naive Bayes' : GaussianNB(), \n",
    "    'KNN' : KNeighborsClassifier(n_neighbors=100), \n",
    "    'Decision Tree' : DecisionTreeClassifier(),\n",
    "    'Random Forest' : RandomForestClassifier(),\n",
    "    'Extra Trees' : ExtraTreesClassifier(),\n",
    "    'Gradient Boost' : GradientBoostingClassifier(), \n",
    "    'Ada Boost' : AdaBoostClassifier(), \n",
    "    'LightGBM' : lgb.LGBMClassifier(), \n",
    "    'Linear Discriminant Analysis' : LinearDiscriminantAnalysis(), \n",
    "    'Quadratic Discriminant Analysis' : QuadraticDiscriminantAnalysis(), \n",
    "    'MLP (Neural Network)' : MLPClassifier(),\n",
    "}\n",
    "\n",
    "for name, model in models.items():\n",
    "    model.fit(X_train, Y_train)\n",
    "    print(name + ' trained!')"
   ]
  },
  {
   "cell_type": "code",
   "execution_count": 45,
   "metadata": {},
   "outputs": [
    {
     "name": "stdout",
     "output_type": "stream",
     "text": [
      "Logistic Regression Accuracy is: 48.32%\n",
      "Decision Tree Accuracy is: 84.39%\n",
      "Random Forest Accuracy is: 84.41%\n",
      "Neural Network Accuracy is: 51.68%\n",
      "Ada Boost Accuracy is: 63.58%\n"
     ]
    }
   ],
   "source": [
    "from sklearn import metrics\n",
    "\n",
    "for name, model in models.items():\n",
    "    score = model.score(X_test, Y_test)\n",
    "    print(name + ' Accuracy is: {:.2f}%'.format(score * 100))\n",
    "    print(metrics.classification_report(Y_test, X_test, digits=5, labels=[1,0]))"
   ]
  }
 ],
 "metadata": {
  "kernelspec": {
   "display_name": "base",
   "language": "python",
   "name": "python3"
  },
  "language_info": {
   "codemirror_mode": {
    "name": "ipython",
    "version": 3
   },
   "file_extension": ".py",
   "mimetype": "text/x-python",
   "name": "python",
   "nbconvert_exporter": "python",
   "pygments_lexer": "ipython3",
   "version": "3.10.9"
  },
  "orig_nbformat": 4
 },
 "nbformat": 4,
 "nbformat_minor": 2
}
