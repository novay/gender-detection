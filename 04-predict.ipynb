{
 "cells": [
  {
   "cell_type": "code",
   "execution_count": 1,
   "metadata": {},
   "outputs": [],
   "source": [
    "import pickle\n",
    "import numpy as np"
   ]
  },
  {
   "cell_type": "code",
   "execution_count": 3,
   "metadata": {},
   "outputs": [],
   "source": [
    "# Logistic Regression\n",
    "with open('./models/lr-cv-models.pkl', 'rb') as f:\n",
    "    lr_model = pickle.load(f)\n",
    "    \n",
    "# Ridge Regression\n",
    "with open('./models/ridge-tfidf-models.pkl', 'rb') as f:\n",
    "    ridge_model = pickle.load(f)"
   ]
  },
  {
   "cell_type": "code",
   "execution_count": 4,
   "metadata": {},
   "outputs": [],
   "source": [
    "# Multinominal Naive Bayes\n",
    "with open('./models/nbm-cv-models.pkl', 'rb') as f:\n",
    "    nbm_model = pickle.load(f)\n",
    "\n",
    "# Bernoulli Naive Bayes\n",
    "with open('./models/nbb-cv-models.pkl', 'rb') as f:\n",
    "    nbb_model = pickle.load(f)"
   ]
  },
  {
   "cell_type": "code",
   "execution_count": 5,
   "metadata": {},
   "outputs": [],
   "source": [
    "# Random Forest\n",
    "with open('./models/rf-cv-models.pkl', 'rb') as f:\n",
    "    rf_model = pickle.load(f)"
   ]
  },
  {
   "cell_type": "code",
   "execution_count": 6,
   "metadata": {},
   "outputs": [],
   "source": [
    "# KNN\n",
    "with open('./models/knn-models.pkl', 'rb') as f:\n",
    "    knn_model = pickle.load(f)"
   ]
  },
  {
   "cell_type": "code",
   "execution_count": null,
   "metadata": {},
   "outputs": [],
   "source": [
    "import pandas as pd\n",
    "\n",
    "def prediksi(prediction):\n",
    "    return 'Laki-Laki' if prediction == 1 else 'Perempuan'\n",
    "\n",
    "#@title Prediksi Gender\n",
    "nama = [\"Putri\"] #@param {type:\"string\"}\n",
    "\n",
    "data = {\"Metode\": [\n",
    "            \"Logistic Regression\", \n",
    "            \"Ridge Regression\", \n",
    "            \"Multinominal Naïve Bayes\", \n",
    "            \"Bernoulli Naïve Bayes\", \n",
    "            \"KNN\", \n",
    "            \"Random Forest\", \n",
    "        ], \n",
    "        \"Hasil\": [\n",
    "            prediksi(lr_model.predict([nama])[0]),\n",
    "            prediksi(ridge_model.predict([nama])[0]), \n",
    "            prediksi(nbm_model.predict([nama])[0]), \n",
    "            prediksi(nbb_model.predict([nama])[0]), \n",
    "            prediksi(rf_model.predict([nama])[0]), \n",
    "            prediksi(knn_model.predict([nama])[0])\n",
    "          ], \n",
    "        \"Akurasi\": [\n",
    "            0.00, \n",
    "            0.00, \n",
    "            0.00, \n",
    "            0.00, \n",
    "            0.00, \n",
    "            0.00, \n",
    "          ]}\n",
    "\n",
    "df = pd.DataFrame(data)\n",
    "display(df)"
   ]
  },
  {
   "cell_type": "code",
   "execution_count": 20,
   "metadata": {},
   "outputs": [
    {
     "ename": "NotFittedError",
     "evalue": "The TF-IDF vectorizer is not fitted",
     "output_type": "error",
     "traceback": [
      "\u001b[0;31m---------------------------------------------------------------------------\u001b[0m",
      "\u001b[0;31mNotFittedError\u001b[0m                            Traceback (most recent call last)",
      "Cell \u001b[0;32mIn[20], line 38\u001b[0m\n\u001b[1;32m      9\u001b[0m nama \u001b[39m=\u001b[39m [\n\u001b[1;32m     10\u001b[0m   \u001b[39m'\u001b[39m\u001b[39mNovi Gustiana\u001b[39m\u001b[39m'\u001b[39m, \n\u001b[1;32m     11\u001b[0m   \u001b[39m'\u001b[39m\u001b[39mNovia Kumala Sari\u001b[39m\u001b[39m'\u001b[39m, \n\u001b[0;32m   (...)\u001b[0m\n\u001b[1;32m     34\u001b[0m   \u001b[39m'\u001b[39m\u001b[39mMelani Malik\u001b[39m\u001b[39m'\u001b[39m\n\u001b[1;32m     35\u001b[0m ]\n\u001b[1;32m     37\u001b[0m vectorizer \u001b[39m=\u001b[39m TfidfVectorizer(analyzer\u001b[39m=\u001b[39m\u001b[39m'\u001b[39m\u001b[39mchar_wb\u001b[39m\u001b[39m'\u001b[39m, ngram_range\u001b[39m=\u001b[39m(\u001b[39m2\u001b[39m,\u001b[39m6\u001b[39m))\n\u001b[0;32m---> 38\u001b[0m inputan \u001b[39m=\u001b[39m vectorizer\u001b[39m.\u001b[39;49mtransform(nama)\n\u001b[1;32m     40\u001b[0m \u001b[39mfor\u001b[39;00m i \u001b[39min\u001b[39;00m \u001b[39mrange\u001b[39m(\u001b[39mlen\u001b[39m(nama)):\n\u001b[1;32m     41\u001b[0m     prediction \u001b[39m=\u001b[39m rf_model\u001b[39m.\u001b[39mpredict(inputan[i])[\u001b[39m0\u001b[39m]\n",
      "File \u001b[0;32m~/miniconda/lib/python3.10/site-packages/sklearn/feature_extraction/text.py:2155\u001b[0m, in \u001b[0;36mTfidfVectorizer.transform\u001b[0;34m(self, raw_documents)\u001b[0m\n\u001b[1;32m   2139\u001b[0m \u001b[39mdef\u001b[39;00m \u001b[39mtransform\u001b[39m(\u001b[39mself\u001b[39m, raw_documents):\n\u001b[1;32m   2140\u001b[0m \u001b[39m    \u001b[39m\u001b[39m\"\"\"Transform documents to document-term matrix.\u001b[39;00m\n\u001b[1;32m   2141\u001b[0m \n\u001b[1;32m   2142\u001b[0m \u001b[39m    Uses the vocabulary and document frequencies (df) learned by fit (or\u001b[39;00m\n\u001b[0;32m   (...)\u001b[0m\n\u001b[1;32m   2153\u001b[0m \u001b[39m        Tf-idf-weighted document-term matrix.\u001b[39;00m\n\u001b[1;32m   2154\u001b[0m \u001b[39m    \"\"\"\u001b[39;00m\n\u001b[0;32m-> 2155\u001b[0m     check_is_fitted(\u001b[39mself\u001b[39;49m, msg\u001b[39m=\u001b[39;49m\u001b[39m\"\u001b[39;49m\u001b[39mThe TF-IDF vectorizer is not fitted\u001b[39;49m\u001b[39m\"\u001b[39;49m)\n\u001b[1;32m   2157\u001b[0m     X \u001b[39m=\u001b[39m \u001b[39msuper\u001b[39m()\u001b[39m.\u001b[39mtransform(raw_documents)\n\u001b[1;32m   2158\u001b[0m     \u001b[39mreturn\u001b[39;00m \u001b[39mself\u001b[39m\u001b[39m.\u001b[39m_tfidf\u001b[39m.\u001b[39mtransform(X, copy\u001b[39m=\u001b[39m\u001b[39mFalse\u001b[39;00m)\n",
      "File \u001b[0;32m~/miniconda/lib/python3.10/site-packages/sklearn/utils/validation.py:1390\u001b[0m, in \u001b[0;36mcheck_is_fitted\u001b[0;34m(estimator, attributes, msg, all_or_any)\u001b[0m\n\u001b[1;32m   1385\u001b[0m     fitted \u001b[39m=\u001b[39m [\n\u001b[1;32m   1386\u001b[0m         v \u001b[39mfor\u001b[39;00m v \u001b[39min\u001b[39;00m \u001b[39mvars\u001b[39m(estimator) \u001b[39mif\u001b[39;00m v\u001b[39m.\u001b[39mendswith(\u001b[39m\"\u001b[39m\u001b[39m_\u001b[39m\u001b[39m\"\u001b[39m) \u001b[39mand\u001b[39;00m \u001b[39mnot\u001b[39;00m v\u001b[39m.\u001b[39mstartswith(\u001b[39m\"\u001b[39m\u001b[39m__\u001b[39m\u001b[39m\"\u001b[39m)\n\u001b[1;32m   1387\u001b[0m     ]\n\u001b[1;32m   1389\u001b[0m \u001b[39mif\u001b[39;00m \u001b[39mnot\u001b[39;00m fitted:\n\u001b[0;32m-> 1390\u001b[0m     \u001b[39mraise\u001b[39;00m NotFittedError(msg \u001b[39m%\u001b[39m {\u001b[39m\"\u001b[39m\u001b[39mname\u001b[39m\u001b[39m\"\u001b[39m: \u001b[39mtype\u001b[39m(estimator)\u001b[39m.\u001b[39m\u001b[39m__name__\u001b[39m})\n",
      "\u001b[0;31mNotFittedError\u001b[0m: The TF-IDF vectorizer is not fitted"
     ]
    }
   ],
   "source": [
    "# from sklearn.feature_extraction.text import TfidfVectorizer\n",
    "\n",
    "with open('./models/et-tfidf-models.pkl', 'rb') as f:\n",
    "    rf_model = pickle.load(f)\n",
    "\n",
    "def prediksi(prediction):\n",
    "    return 'Laki-Laki' if prediction == 1 else 'Perempuan'\n",
    "\n",
    "nama = [\n",
    "  'Novi Gustiana', \n",
    "  'Novia Kumala Sari', \n",
    "  'Novianto Rahmadi', \n",
    "  'Padli Nofrizal', \n",
    "  'Putri Wahyuni', \n",
    "  'Rahmat Hidayat', \n",
    "  'Rahmi Andreni', \n",
    "  'Rian Aries Fani', \n",
    "  'Riandi Selvi', \n",
    "  'Rianto', \n",
    "  'Ridha Ulva', \n",
    "  'Rizqi Wahyuningsih', \n",
    "  'Ruwadi Saputra', \n",
    "  'Sugeng Hermawan', \n",
    "  'Suliatun', \n",
    "  'Tomi Ismeidianto', \n",
    "  'Usthalay Putra', \n",
    "  'Winggo Aga Septian', \n",
    "  'Yunaldi Rizki Putra', \n",
    "  'Arif fasetyo', \n",
    "  'Arie Rahman Satria', \n",
    "  'Arinda Oktaviana', \n",
    "  'Melani', \n",
    "  'Malik', \n",
    "  'Melani Malik'\n",
    "]\n",
    "\n",
    "vectorizer = TfidfVectorizer(analyzer='char_wb', ngram_range=(2,6))\n",
    "inputan = vectorizer.transform(nama)\n",
    "\n",
    "for i in range(len(nama)):\n",
    "    prediction = rf_model.predict(inputan[i])[0]\n",
    "    print(f\"Nama: {nama[i]}, Prediksi: {prediksi(prediction)}\")\n",
    "\n",
    "# # Lakukan prediksi pada setiap inputan\n",
    "# for nama in inputan:\n",
    "#     prediction = rf_model.predict([nama])[0]\n",
    "#     print(f\"Nama '{nama}' diprediksi sebagai {prediksi}.\")\n",
    "#     print(f\"Hasil prediksi: {prediksi(prediction)}\\n\")"
   ]
  }
 ],
 "metadata": {
  "kernelspec": {
   "display_name": "base",
   "language": "python",
   "name": "python3"
  },
  "language_info": {
   "codemirror_mode": {
    "name": "ipython",
    "version": 3
   },
   "file_extension": ".py",
   "mimetype": "text/x-python",
   "name": "python",
   "nbconvert_exporter": "python",
   "pygments_lexer": "ipython3",
   "version": "3.10.9"
  },
  "orig_nbformat": 4
 },
 "nbformat": 4,
 "nbformat_minor": 2
}
