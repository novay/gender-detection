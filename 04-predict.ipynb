{
 "cells": [
  {
   "cell_type": "code",
   "execution_count": 14,
   "metadata": {},
   "outputs": [],
   "source": [
    "import pickle\n",
    "import numpy as np"
   ]
  },
  {
   "cell_type": "code",
   "execution_count": 16,
   "metadata": {},
   "outputs": [],
   "source": [
    "# Logistic Regression\n",
    "with open('./models/lr-cv-models.pkl', 'rb') as f:\n",
    "    lr_model = pickle.load(f)\n",
    "    \n",
    "# Ridge Regression\n",
    "with open('./models/ridge-tfidf-models.pkl', 'rb') as f:\n",
    "    ridge_model = pickle.load(f)"
   ]
  },
  {
   "cell_type": "code",
   "execution_count": 17,
   "metadata": {},
   "outputs": [],
   "source": [
    "# Multinominal Naive Bayes\n",
    "with open('./models/nbm-cv-models.pkl', 'rb') as f:\n",
    "    nbm_model = pickle.load(f)\n",
    "\n",
    "# Bernoulli Naive Bayes\n",
    "with open('./models/nbb-cv-models.pkl', 'rb') as f:\n",
    "    nbb_model = pickle.load(f)"
   ]
  },
  {
   "cell_type": "code",
   "execution_count": 18,
   "metadata": {},
   "outputs": [],
   "source": [
    "# Random Forest\n",
    "with open('./models/rf-cv-models.pkl', 'rb') as f:\n",
    "    rf_model = pickle.load(f)"
   ]
  },
  {
   "cell_type": "code",
   "execution_count": 19,
   "metadata": {},
   "outputs": [],
   "source": [
    "# KNN\n",
    "with open('./models/knn-models.pkl', 'rb') as f:\n",
    "    knn_model = pickle.load(f)"
   ]
  },
  {
   "cell_type": "code",
   "execution_count": 37,
   "metadata": {},
   "outputs": [
    {
     "ename": "ValueError",
     "evalue": "Expected 2D array, got 1D array instead:\narray=['Putri'].\nReshape your data either using array.reshape(-1, 1) if your data has a single feature or array.reshape(1, -1) if it contains a single sample.",
     "output_type": "error",
     "traceback": [
      "\u001b[0;31m---------------------------------------------------------------------------\u001b[0m",
      "\u001b[0;31mValueError\u001b[0m                                Traceback (most recent call last)",
      "Cell \u001b[0;32mIn[37], line 31\u001b[0m\n\u001b[1;32m      6\u001b[0m \u001b[39m# Contoh inputan manual\u001b[39;00m\n\u001b[1;32m      7\u001b[0m \u001b[39m# inputan = ['Novianto Rahmadi']\u001b[39;00m\n\u001b[1;32m      8\u001b[0m \n\u001b[0;32m   (...)\u001b[0m\n\u001b[1;32m     18\u001b[0m \n\u001b[1;32m     19\u001b[0m \u001b[39m#@title Prediksi Gender\u001b[39;00m\n\u001b[1;32m     20\u001b[0m nama \u001b[39m=\u001b[39m \u001b[39m\"\u001b[39m\u001b[39mPutri\u001b[39m\u001b[39m\"\u001b[39m \u001b[39m#@param {type:\"string\"}\u001b[39;00m\n\u001b[1;32m     22\u001b[0m data \u001b[39m=\u001b[39m {\u001b[39m\"\u001b[39m\u001b[39mMetode\u001b[39m\u001b[39m\"\u001b[39m: [\n\u001b[1;32m     23\u001b[0m             \u001b[39m\"\u001b[39m\u001b[39mLogistic Regression\u001b[39m\u001b[39m\"\u001b[39m, \n\u001b[1;32m     24\u001b[0m             \u001b[39m\"\u001b[39m\u001b[39mRidge Regression\u001b[39m\u001b[39m\"\u001b[39m, \n\u001b[1;32m     25\u001b[0m             \u001b[39m\"\u001b[39m\u001b[39mMultinominal Naïve Bayes\u001b[39m\u001b[39m\"\u001b[39m, \n\u001b[1;32m     26\u001b[0m             \u001b[39m\"\u001b[39m\u001b[39mBernoulli Naïve Bayes\u001b[39m\u001b[39m\"\u001b[39m, \n\u001b[1;32m     27\u001b[0m             \u001b[39m\"\u001b[39m\u001b[39mKNN\u001b[39m\u001b[39m\"\u001b[39m, \n\u001b[1;32m     28\u001b[0m             \u001b[39m\"\u001b[39m\u001b[39mRandom Forest\u001b[39m\u001b[39m\"\u001b[39m, \n\u001b[1;32m     29\u001b[0m         ], \n\u001b[1;32m     30\u001b[0m         \u001b[39m\"\u001b[39m\u001b[39mHasil\u001b[39m\u001b[39m\"\u001b[39m: [\n\u001b[0;32m---> 31\u001b[0m             prediksi(lr_model\u001b[39m.\u001b[39;49mpredict([nama])[\u001b[39m0\u001b[39m]),\n\u001b[1;32m     32\u001b[0m             prediksi(ridge_model\u001b[39m.\u001b[39mpredict([nama])[\u001b[39m0\u001b[39m]), \n\u001b[1;32m     33\u001b[0m             prediksi(nbm_model\u001b[39m.\u001b[39mpredict([nama])[\u001b[39m0\u001b[39m]), \n\u001b[1;32m     34\u001b[0m             prediksi(nbb_model\u001b[39m.\u001b[39mpredict([nama])[\u001b[39m0\u001b[39m]), \n\u001b[1;32m     35\u001b[0m             prediksi(rf_model\u001b[39m.\u001b[39mpredict([nama])[\u001b[39m0\u001b[39m]), \n\u001b[1;32m     36\u001b[0m             prediksi(knn_model\u001b[39m.\u001b[39mpredict([nama])[\u001b[39m0\u001b[39m])\n\u001b[1;32m     37\u001b[0m           ], \n\u001b[1;32m     38\u001b[0m         \u001b[39m\"\u001b[39m\u001b[39mAkurasi\u001b[39m\u001b[39m\"\u001b[39m: [\n\u001b[1;32m     39\u001b[0m             \u001b[39m0.00\u001b[39m, \n\u001b[1;32m     40\u001b[0m             \u001b[39m0.00\u001b[39m, \n\u001b[1;32m     41\u001b[0m             \u001b[39m0.00\u001b[39m, \n\u001b[1;32m     42\u001b[0m             \u001b[39m0.00\u001b[39m, \n\u001b[1;32m     43\u001b[0m             \u001b[39m0.00\u001b[39m, \n\u001b[1;32m     44\u001b[0m             \u001b[39m0.00\u001b[39m, \n\u001b[1;32m     45\u001b[0m           ]}\n\u001b[1;32m     47\u001b[0m df \u001b[39m=\u001b[39m pd\u001b[39m.\u001b[39mDataFrame(data)\n\u001b[1;32m     48\u001b[0m display(df)\n",
      "File \u001b[0;32m~/miniconda/lib/python3.10/site-packages/sklearn/linear_model/_base.py:419\u001b[0m, in \u001b[0;36mLinearClassifierMixin.predict\u001b[0;34m(self, X)\u001b[0m\n\u001b[1;32m    405\u001b[0m \u001b[39m\u001b[39m\u001b[39m\"\"\"\u001b[39;00m\n\u001b[1;32m    406\u001b[0m \u001b[39mPredict class labels for samples in X.\u001b[39;00m\n\u001b[1;32m    407\u001b[0m \n\u001b[0;32m   (...)\u001b[0m\n\u001b[1;32m    416\u001b[0m \u001b[39m    Vector containing the class labels for each sample.\u001b[39;00m\n\u001b[1;32m    417\u001b[0m \u001b[39m\"\"\"\u001b[39;00m\n\u001b[1;32m    418\u001b[0m xp, _ \u001b[39m=\u001b[39m get_namespace(X)\n\u001b[0;32m--> 419\u001b[0m scores \u001b[39m=\u001b[39m \u001b[39mself\u001b[39;49m\u001b[39m.\u001b[39;49mdecision_function(X)\n\u001b[1;32m    420\u001b[0m \u001b[39mif\u001b[39;00m \u001b[39mlen\u001b[39m(scores\u001b[39m.\u001b[39mshape) \u001b[39m==\u001b[39m \u001b[39m1\u001b[39m:\n\u001b[1;32m    421\u001b[0m     indices \u001b[39m=\u001b[39m xp\u001b[39m.\u001b[39mastype(scores \u001b[39m>\u001b[39m \u001b[39m0\u001b[39m, \u001b[39mint\u001b[39m)\n",
      "File \u001b[0;32m~/miniconda/lib/python3.10/site-packages/sklearn/linear_model/_base.py:400\u001b[0m, in \u001b[0;36mLinearClassifierMixin.decision_function\u001b[0;34m(self, X)\u001b[0m\n\u001b[1;32m    397\u001b[0m check_is_fitted(\u001b[39mself\u001b[39m)\n\u001b[1;32m    398\u001b[0m xp, _ \u001b[39m=\u001b[39m get_namespace(X)\n\u001b[0;32m--> 400\u001b[0m X \u001b[39m=\u001b[39m \u001b[39mself\u001b[39;49m\u001b[39m.\u001b[39;49m_validate_data(X, accept_sparse\u001b[39m=\u001b[39;49m\u001b[39m\"\u001b[39;49m\u001b[39mcsr\u001b[39;49m\u001b[39m\"\u001b[39;49m, reset\u001b[39m=\u001b[39;49m\u001b[39mFalse\u001b[39;49;00m)\n\u001b[1;32m    401\u001b[0m scores \u001b[39m=\u001b[39m safe_sparse_dot(X, \u001b[39mself\u001b[39m\u001b[39m.\u001b[39mcoef_\u001b[39m.\u001b[39mT, dense_output\u001b[39m=\u001b[39m\u001b[39mTrue\u001b[39;00m) \u001b[39m+\u001b[39m \u001b[39mself\u001b[39m\u001b[39m.\u001b[39mintercept_\n\u001b[1;32m    402\u001b[0m \u001b[39mreturn\u001b[39;00m xp\u001b[39m.\u001b[39mreshape(scores, \u001b[39m-\u001b[39m\u001b[39m1\u001b[39m) \u001b[39mif\u001b[39;00m scores\u001b[39m.\u001b[39mshape[\u001b[39m1\u001b[39m] \u001b[39m==\u001b[39m \u001b[39m1\u001b[39m \u001b[39melse\u001b[39;00m scores\n",
      "File \u001b[0;32m~/miniconda/lib/python3.10/site-packages/sklearn/base.py:565\u001b[0m, in \u001b[0;36mBaseEstimator._validate_data\u001b[0;34m(self, X, y, reset, validate_separately, **check_params)\u001b[0m\n\u001b[1;32m    563\u001b[0m     \u001b[39mraise\u001b[39;00m \u001b[39mValueError\u001b[39;00m(\u001b[39m\"\u001b[39m\u001b[39mValidation should be done on X, y or both.\u001b[39m\u001b[39m\"\u001b[39m)\n\u001b[1;32m    564\u001b[0m \u001b[39melif\u001b[39;00m \u001b[39mnot\u001b[39;00m no_val_X \u001b[39mand\u001b[39;00m no_val_y:\n\u001b[0;32m--> 565\u001b[0m     X \u001b[39m=\u001b[39m check_array(X, input_name\u001b[39m=\u001b[39;49m\u001b[39m\"\u001b[39;49m\u001b[39mX\u001b[39;49m\u001b[39m\"\u001b[39;49m, \u001b[39m*\u001b[39;49m\u001b[39m*\u001b[39;49mcheck_params)\n\u001b[1;32m    566\u001b[0m     out \u001b[39m=\u001b[39m X\n\u001b[1;32m    567\u001b[0m \u001b[39melif\u001b[39;00m no_val_X \u001b[39mand\u001b[39;00m \u001b[39mnot\u001b[39;00m no_val_y:\n",
      "File \u001b[0;32m~/miniconda/lib/python3.10/site-packages/sklearn/utils/validation.py:902\u001b[0m, in \u001b[0;36mcheck_array\u001b[0;34m(array, accept_sparse, accept_large_sparse, dtype, order, copy, force_all_finite, ensure_2d, allow_nd, ensure_min_samples, ensure_min_features, estimator, input_name)\u001b[0m\n\u001b[1;32m    900\u001b[0m     \u001b[39m# If input is 1D raise error\u001b[39;00m\n\u001b[1;32m    901\u001b[0m     \u001b[39mif\u001b[39;00m array\u001b[39m.\u001b[39mndim \u001b[39m==\u001b[39m \u001b[39m1\u001b[39m:\n\u001b[0;32m--> 902\u001b[0m         \u001b[39mraise\u001b[39;00m \u001b[39mValueError\u001b[39;00m(\n\u001b[1;32m    903\u001b[0m             \u001b[39m\"\u001b[39m\u001b[39mExpected 2D array, got 1D array instead:\u001b[39m\u001b[39m\\n\u001b[39;00m\u001b[39marray=\u001b[39m\u001b[39m{}\u001b[39;00m\u001b[39m.\u001b[39m\u001b[39m\\n\u001b[39;00m\u001b[39m\"\u001b[39m\n\u001b[1;32m    904\u001b[0m             \u001b[39m\"\u001b[39m\u001b[39mReshape your data either using array.reshape(-1, 1) if \u001b[39m\u001b[39m\"\u001b[39m\n\u001b[1;32m    905\u001b[0m             \u001b[39m\"\u001b[39m\u001b[39myour data has a single feature or array.reshape(1, -1) \u001b[39m\u001b[39m\"\u001b[39m\n\u001b[1;32m    906\u001b[0m             \u001b[39m\"\u001b[39m\u001b[39mif it contains a single sample.\u001b[39m\u001b[39m\"\u001b[39m\u001b[39m.\u001b[39mformat(array)\n\u001b[1;32m    907\u001b[0m         )\n\u001b[1;32m    909\u001b[0m \u001b[39mif\u001b[39;00m dtype_numeric \u001b[39mand\u001b[39;00m array\u001b[39m.\u001b[39mdtype\u001b[39m.\u001b[39mkind \u001b[39min\u001b[39;00m \u001b[39m\"\u001b[39m\u001b[39mUSV\u001b[39m\u001b[39m\"\u001b[39m:\n\u001b[1;32m    910\u001b[0m     \u001b[39mraise\u001b[39;00m \u001b[39mValueError\u001b[39;00m(\n\u001b[1;32m    911\u001b[0m         \u001b[39m\"\u001b[39m\u001b[39mdtype=\u001b[39m\u001b[39m'\u001b[39m\u001b[39mnumeric\u001b[39m\u001b[39m'\u001b[39m\u001b[39m is not compatible with arrays of bytes/strings.\u001b[39m\u001b[39m\"\u001b[39m\n\u001b[1;32m    912\u001b[0m         \u001b[39m\"\u001b[39m\u001b[39mConvert your data to numeric values explicitly instead.\u001b[39m\u001b[39m\"\u001b[39m\n\u001b[1;32m    913\u001b[0m     )\n",
      "\u001b[0;31mValueError\u001b[0m: Expected 2D array, got 1D array instead:\narray=['Putri'].\nReshape your data either using array.reshape(-1, 1) if your data has a single feature or array.reshape(1, -1) if it contains a single sample."
     ]
    }
   ],
   "source": [
    "import pandas as pd\n",
    "\n",
    "def prediksi(prediction):\n",
    "    return 'Laki-Laki' if prediction == 1 else 'Perempuan'\n",
    "\n",
    "# Contoh inputan manual\n",
    "# inputan = ['Novianto Rahmadi']\n",
    "\n",
    "# # Lakukan prediksi pada setiap inputan\n",
    "# for nama in inputan:\n",
    "#     prediction = rf_model.predict([nama])[0]\n",
    "#     print(f\"Nama '{nama}' diprediksi sebagai {prediksi}.\")\n",
    "#     print(f\"Hasil prediksi: {prediksi(prediction)}\\n\")\n",
    "    \n",
    "    \n",
    "\n",
    "\n",
    "\n",
    "#@title Prediksi Gender\n",
    "nama = \"Putri\" #@param {type:\"string\"}\n",
    "\n",
    "data = {\"Metode\": [\n",
    "            \"Logistic Regression\", \n",
    "            \"Ridge Regression\", \n",
    "            \"Multinominal Naïve Bayes\", \n",
    "            \"Bernoulli Naïve Bayes\", \n",
    "            \"KNN\", \n",
    "            \"Random Forest\", \n",
    "        ], \n",
    "        \"Hasil\": [\n",
    "            prediksi(lr_model.predict([nama])[0]),\n",
    "            prediksi(ridge_model.predict([nama])[0]), \n",
    "            prediksi(nbm_model.predict([nama])[0]), \n",
    "            prediksi(nbb_model.predict([nama])[0]), \n",
    "            prediksi(rf_model.predict([nama])[0]), \n",
    "            prediksi(knn_model.predict([nama])[0])\n",
    "          ], \n",
    "        \"Akurasi\": [\n",
    "            0.00, \n",
    "            0.00, \n",
    "            0.00, \n",
    "            0.00, \n",
    "            0.00, \n",
    "            0.00, \n",
    "          ]}\n",
    "\n",
    "df = pd.DataFrame(data)\n",
    "display(df)"
   ]
  },
  {
   "cell_type": "code",
   "execution_count": 38,
   "metadata": {},
   "outputs": [
    {
     "name": "stdout",
     "output_type": "stream",
     "text": [
      "Nama 'Anisa' diprediksi sebagai <function prediksi at 0x176009480>.\n",
      "Hasil prediksi: Perempuan\n",
      "\n",
      "Nama 'Budi' diprediksi sebagai <function prediksi at 0x176009480>.\n",
      "Hasil prediksi: Laki-Laki\n",
      "\n",
      "Nama 'Citra' diprediksi sebagai <function prediksi at 0x176009480>.\n",
      "Hasil prediksi: Perempuan\n",
      "\n",
      "Nama 'Dodi' diprediksi sebagai <function prediksi at 0x176009480>.\n",
      "Hasil prediksi: Laki-Laki\n",
      "\n"
     ]
    }
   ],
   "source": [
    "from sklearn.feature_extraction.text import TfidfVectorizer\n",
    "\n",
    "with open('./models/rf-models.pkl', 'rb') as f:\n",
    "    rf_model = pickle.load(f)\n",
    "\n",
    "def prediksi(prediction):\n",
    "    return 'Laki-Laki' if prediction == 1 else 'Perempuan'\n",
    "\n",
    "nama = [\n",
    "  'Novi Gustiana', \n",
    "  'Novia Kumala Sari', \n",
    "  'Novianto Rahmadi', \n",
    "  'Padli Nofrizal', \n",
    "  'Putri Wahyuni', \n",
    "  'Rahmat Hidayat', \n",
    "  'Rahmi Andreni', \n",
    "  'Rian Aries Fani', \n",
    "  'Riandi Selvi', \n",
    "  'Rianto', \n",
    "  'Ridha Ulva', \n",
    "  'Rizqi Wahyuningsih', \n",
    "  'Ruwadi Saputra', \n",
    "  'Sugeng Hermawan', \n",
    "  'Suliatun', \n",
    "  'Tomi Ismeidianto', \n",
    "  'Usthalay Putra', \n",
    "  'Winggo Aga Septian', \n",
    "  'Yunaldi Rizki Putra', \n",
    "  'Arif fasetyo', \n",
    "  'Arie Rahman Satria', \n",
    "  'Arinda Oktaviana', \n",
    "  'Melani', \n",
    "  'Malik', \n",
    "  'Melani Malik'\n",
    "]\n",
    "\n",
    "vectorizer_tfidf = TfidfVectorizer(analyzer='char_wb', ngram_range=(2,6))\n",
    "inputan = vectorizer_tfidf.transform(nama)\n",
    "\n",
    "for i in range(len(nama)):\n",
    "    prediction = clf.predict(inputan[i])[0]\n",
    "    print(f\"Nama: {nama[i]}, Prediksi: {prediksi(prediction)}\")\n",
    "\n",
    "# # Lakukan prediksi pada setiap inputan\n",
    "# for nama in inputan:\n",
    "#     prediction = rf_model.predict([nama])[0]\n",
    "#     print(f\"Nama '{nama}' diprediksi sebagai {prediksi}.\")\n",
    "#     print(f\"Hasil prediksi: {prediksi(prediction)}\\n\")"
   ]
  }
 ],
 "metadata": {
  "kernelspec": {
   "display_name": "base",
   "language": "python",
   "name": "python3"
  },
  "language_info": {
   "codemirror_mode": {
    "name": "ipython",
    "version": 3
   },
   "file_extension": ".py",
   "mimetype": "text/x-python",
   "name": "python",
   "nbconvert_exporter": "python",
   "pygments_lexer": "ipython3",
   "version": "3.10.9"
  },
  "orig_nbformat": 4
 },
 "nbformat": 4,
 "nbformat_minor": 2
}
