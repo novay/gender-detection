{
 "cells": [
  {
   "attachments": {},
   "cell_type": "markdown",
   "metadata": {},
   "source": [
    "- CNN\n",
    "- BiLSTM\n",
    "- RNN\n",
    "- MLP\n",
    "- GRU"
   ]
  },
  {
   "attachments": {},
   "cell_type": "markdown",
   "metadata": {},
   "source": [
    "CNN"
   ]
  },
  {
   "cell_type": "code",
   "execution_count": null,
   "metadata": {},
   "outputs": [],
   "source": [
    "import tensorflow as tf\n",
    "from tensorflow.keras.layers import Conv1D, MaxPooling1D, Flatten, Dense, Dropout\n",
    "from tensorflow.keras.models import Sequential\n",
    "\n",
    "# Membuat Model\n",
    "model = Sequential()\n",
    "model.add(Conv1D(20, 32, activation='relu', input_shape=(input_shape, 1)))\n",
    "model.add(Conv1D(64, 1, activation='relu'))\n",
    "model.add(MaxPooling1D())\n",
    "model.add(Dropout(0.25))\n",
    "model.add(Flatten())\n",
    "model.add(Dense(128, activation='relu'))\n",
    "model.add(Dropout(0.1))\n",
    "model.add(Dense(1, activation='sigmoid'))\n",
    "\n",
    "# Mengompilasi Model\n",
    "model.compile(optimizer='adam', loss='binary_crossentropy', metrics=['accuracy'])\n",
    "\n",
    "# Pelatihan Model\n",
    "model.fit(X_train, y_train, epochs=10, batch_size=16, validation_data=(X_val, y_val))\n"
   ]
  },
  {
   "attachments": {},
   "cell_type": "markdown",
   "metadata": {},
   "source": [
    "RNN"
   ]
  },
  {
   "cell_type": "code",
   "execution_count": null,
   "metadata": {},
   "outputs": [],
   "source": [
    "import tensorflow as tf\n",
    "from tensorflow.keras.layers import SimpleRNN, Dense\n",
    "from tensorflow.keras.models import Sequential\n",
    "\n",
    "# Membuat Model\n",
    "model = Sequential()\n",
    "model.add(SimpleRNN(32, activation='sigmoid', input_shape=(maxlen, len(chars))))\n",
    "model.add(Dense(1, activation='sigmoid'))\n",
    "\n",
    "# Mengompilasi Model\n",
    "model.compile(optimizer='adam', loss='binary_crossentropy', metrics=['accuracy'])\n",
    "\n",
    "# Pelatihan Model\n",
    "model.fit(X_train, y_train, epochs=10, batch_size=16, validation_data=(X_val, y_val))\n"
   ]
  },
  {
   "attachments": {},
   "cell_type": "markdown",
   "metadata": {},
   "source": [
    "BiLSTM"
   ]
  },
  {
   "cell_type": "code",
   "execution_count": null,
   "metadata": {},
   "outputs": [],
   "source": [
    "import tensorflow as tf\n",
    "from tensorflow.keras.layers import Bidirectional, LSTM, Dense, Dropout\n",
    "from tensorflow.keras import regularizers\n",
    "from tensorflow.keras.models import Sequential\n",
    "\n",
    "# Membuat Model\n",
    "model = Sequential()\n",
    "model.add(Bidirectional(LSTM(64, return_sequences=False), input_shape=(maxlen, len(chars))))\n",
    "model.add(Dropout(0.2))\n",
    "model.add(Dense(1, activation='sigmoid', kernel_regularizer=regularizers.l2(0.002)))\n",
    "\n",
    "# Mengompilasi Model\n",
    "model.compile(optimizer='adam', loss='binary_crossentropy', metrics=['accuracy'])\n",
    "\n",
    "# Pelatihan Model\n",
    "model.fit(X_train, y_train, epochs=10, batch_size=16, validation_data=(X_val, y_val))\n"
   ]
  },
  {
   "attachments": {},
   "cell_type": "markdown",
   "metadata": {},
   "source": [
    "GRU"
   ]
  },
  {
   "cell_type": "code",
   "execution_count": null,
   "metadata": {},
   "outputs": [],
   "source": [
    "import tensorflow as tf\n",
    "from tensorflow.keras.layers import GRU, Dense\n",
    "from tensorflow.keras.models import Sequential\n",
    "\n",
    "# Membuat Model\n",
    "model = Sequential()\n",
    "model.add(GRU(32, input_shape=(maxlen, len(chars))))\n",
    "model.add(Dense(1, activation='sigmoid'))\n",
    "\n",
    "# Mengompilasi Model\n",
    "model.compile(optimizer='adam', loss='binary_crossentropy', metrics=['accuracy'])\n",
    "\n",
    "# Pelatihan Model\n",
    "model.fit(X_train, y_train, epochs=10, batch_size=16, validation_data=(X_val, y_val))\n"
   ]
  },
  {
   "cell_type": "code",
   "execution_count": 23,
   "metadata": {},
   "outputs": [],
   "source": [
    "import pandas as pd\n",
    "import tensorflow as tf\n",
    "from tensorflow.keras.layers import Embedding, GRU, Dropout, Dense\n",
    "from tensorflow.keras.models import Sequential\n",
    "\n",
    "# Persiapan Data\n",
    "data = pd.read_csv('./data/sample.csv')\n",
    "data[\"gender\"] = data[\"gender\"].map({\"m\" : 1, \"f\" : 0})\n",
    "\n",
    "# Membuat Dictionary untuk Karakter\n",
    "char_to_int = {char: i+1 for i, char in enumerate(set(''.join(data['nama'])))}\n",
    "\n",
    "# Persiapan Data\n",
    "max_length = max([len(name) for name in data['nama']])\n",
    "X = [[char_to_int[char] for char in name] + [0] * (max_length - len(name)) for name in data['nama']]\n",
    "y = tf.keras.utils.to_categorical(data['gender'])\n",
    "\n",
    "# Ubah data latih dan data validasi menjadi Tensor\n",
    "X = tf.convert_to_tensor(X)\n",
    "y = tf.convert_to_tensor(y)\n",
    "\n",
    "# Membuat Model\n",
    "model = Sequential()\n",
    "model.add(Embedding(len(char_to_int)+1, 32, input_length=max_length))\n",
    "model.add(GRU(64, return_sequences=True))\n",
    "model.add(Dropout(0.2))\n",
    "model.add(GRU(64))\n",
    "model.add(Dropout(0.2))\n",
    "model.add(Dense(2, activation='softmax'))\n",
    "\n",
    "# Pelatihan Model\n",
    "model.compile(loss='categorical_crossentropy', optimizer='adam', metrics=['accuracy'])"
   ]
  },
  {
   "cell_type": "code",
   "execution_count": null,
   "metadata": {},
   "outputs": [],
   "source": []
  },
  {
   "cell_type": "code",
   "execution_count": 26,
   "metadata": {},
   "outputs": [
    {
     "name": "stdout",
     "output_type": "stream",
     "text": [
      "Epoch 1/10\n",
      "13/13 [==============================] - 5s 286ms/step - loss: 0.4482 - accuracy: 0.7841 - val_loss: 0.4811 - val_accuracy: 0.7430\n",
      "Epoch 2/10\n",
      "13/13 [==============================] - 3s 222ms/step - loss: 0.5318 - accuracy: 0.7217 - val_loss: 0.6128 - val_accuracy: 0.6565\n",
      "Epoch 3/10\n",
      "13/13 [==============================] - 3s 237ms/step - loss: 0.6185 - accuracy: 0.6879 - val_loss: 0.5808 - val_accuracy: 0.7303\n",
      "Epoch 4/10\n",
      "13/13 [==============================] - 3s 219ms/step - loss: 0.6046 - accuracy: 0.6866 - val_loss: 0.5447 - val_accuracy: 0.7201\n",
      "Epoch 5/10\n",
      "13/13 [==============================] - 3s 224ms/step - loss: 0.5947 - accuracy: 0.6866 - val_loss: 0.5310 - val_accuracy: 0.7226\n",
      "Epoch 6/10\n",
      "13/13 [==============================] - 3s 234ms/step - loss: 0.5847 - accuracy: 0.6911 - val_loss: 0.5283 - val_accuracy: 0.7354\n",
      "Epoch 7/10\n",
      "13/13 [==============================] - 3s 255ms/step - loss: 0.5798 - accuracy: 0.6911 - val_loss: 0.5305 - val_accuracy: 0.7252\n",
      "Epoch 8/10\n",
      "13/13 [==============================] - 3s 242ms/step - loss: 0.5666 - accuracy: 0.7089 - val_loss: 0.5121 - val_accuracy: 0.7379\n",
      "Epoch 9/10\n",
      "13/13 [==============================] - 3s 244ms/step - loss: 0.5753 - accuracy: 0.7057 - val_loss: 0.5145 - val_accuracy: 0.7226\n",
      "Epoch 10/10\n",
      "13/13 [==============================] - 3s 235ms/step - loss: 0.5797 - accuracy: 0.6987 - val_loss: 0.5060 - val_accuracy: 0.7430\n"
     ]
    },
    {
     "data": {
      "text/plain": [
       "<keras.callbacks.History at 0x2e93f2350>"
      ]
     },
     "execution_count": 26,
     "metadata": {},
     "output_type": "execute_result"
    }
   ],
   "source": [
    "model.fit(X, y, epochs=10, batch_size=128, validation_split=0.2)"
   ]
  },
  {
   "cell_type": "code",
   "execution_count": 16,
   "metadata": {},
   "outputs": [
    {
     "name": "stdout",
     "output_type": "stream",
     "text": [
      "1/1 [==============================] - 0s 18ms/step\n",
      "Perempuan\n"
     ]
    }
   ],
   "source": [
    "import numpy as np\n",
    "\n",
    "name = 'Moviano'\n",
    "name = [char_to_int[char] for char in name] + [0] * (max_length - len(name))\n",
    "name = np.array(name).reshape((1, -1))\n",
    "prob = model.predict(name)[0]\n",
    "if prob[0] > prob[1]:\n",
    "    print('Laki-laki')\n",
    "else:\n",
    "    print('Perempuan')\n"
   ]
  },
  {
   "attachments": {},
   "cell_type": "markdown",
   "metadata": {},
   "source": [
    "MLP"
   ]
  },
  {
   "cell_type": "code",
   "execution_count": null,
   "metadata": {},
   "outputs": [],
   "source": [
    "import tensorflow as tf\n",
    "from tensorflow.keras.layers import Dense\n",
    "from tensorflow.keras.models import Sequential\n",
    "\n",
    "# Membuat Model\n",
    "model = Sequential()\n",
    "model.add(Dense(64, input_shape=(input_shape,), activation='relu'))\n",
    "model.add(Dense(128, activation='softplus'))\n",
    "model.add(Dense(1, activation='sigmoid'))\n",
    "\n",
    "# Mengompilasi Model\n",
    "model.compile(optimizer='adam', loss='binary_crossentropy', metrics=['accuracy'])\n",
    "\n",
    "# Pelatihan Model\n",
    "model.fit(X_train, y_train, epochs=10, batch_size=16, validation_data=(X_val, y_val))"
   ]
  },
  {
   "cell_type": "code",
   "execution_count": 27,
   "metadata": {},
   "outputs": [
    {
     "name": "stdout",
     "output_type": "stream",
     "text": [
      "Epoch 1/10\n"
     ]
    },
    {
     "ename": "ValueError",
     "evalue": "in user code:\n\n    File \"/Users/novay/miniconda/lib/python3.10/site-packages/keras/engine/training.py\", line 1284, in train_function  *\n        return step_function(self, iterator)\n    File \"/Users/novay/miniconda/lib/python3.10/site-packages/keras/engine/training.py\", line 1268, in step_function  **\n        outputs = model.distribute_strategy.run(run_step, args=(data,))\n    File \"/Users/novay/miniconda/lib/python3.10/site-packages/keras/engine/training.py\", line 1249, in run_step  **\n        outputs = model.train_step(data)\n    File \"/Users/novay/miniconda/lib/python3.10/site-packages/keras/engine/training.py\", line 1051, in train_step\n        loss = self.compute_loss(x, y, y_pred, sample_weight)\n    File \"/Users/novay/miniconda/lib/python3.10/site-packages/keras/engine/training.py\", line 1109, in compute_loss\n        return self.compiled_loss(\n    File \"/Users/novay/miniconda/lib/python3.10/site-packages/keras/engine/compile_utils.py\", line 265, in __call__\n        loss_value = loss_obj(y_t, y_p, sample_weight=sw)\n    File \"/Users/novay/miniconda/lib/python3.10/site-packages/keras/losses.py\", line 142, in __call__\n        losses = call_fn(y_true, y_pred)\n    File \"/Users/novay/miniconda/lib/python3.10/site-packages/keras/losses.py\", line 268, in call  **\n        return ag_fn(y_true, y_pred, **self._fn_kwargs)\n    File \"/Users/novay/miniconda/lib/python3.10/site-packages/keras/losses.py\", line 2156, in binary_crossentropy\n        backend.binary_crossentropy(y_true, y_pred, from_logits=from_logits),\n    File \"/Users/novay/miniconda/lib/python3.10/site-packages/keras/backend.py\", line 5707, in binary_crossentropy\n        return tf.nn.sigmoid_cross_entropy_with_logits(\n\n    ValueError: `logits` and `labels` must have the same shape, received ((None, 8, 1) vs (None,)).\n",
     "output_type": "error",
     "traceback": [
      "\u001b[0;31m---------------------------------------------------------------------------\u001b[0m",
      "\u001b[0;31mValueError\u001b[0m                                Traceback (most recent call last)",
      "Cell \u001b[0;32mIn[27], line 43\u001b[0m\n\u001b[1;32m     36\u001b[0m lr_schedule \u001b[39m=\u001b[39m tf\u001b[39m.\u001b[39mkeras\u001b[39m.\u001b[39moptimizers\u001b[39m.\u001b[39mschedules\u001b[39m.\u001b[39mExponentialDecay(\n\u001b[1;32m     37\u001b[0m     initial_learning_rate\u001b[39m=\u001b[39minitial_lr,\n\u001b[1;32m     38\u001b[0m     decay_steps\u001b[39m=\u001b[39msteps_per_epoch,\n\u001b[1;32m     39\u001b[0m     decay_rate\u001b[39m=\u001b[39m\u001b[39m0.9\u001b[39m,\n\u001b[1;32m     40\u001b[0m     staircase\u001b[39m=\u001b[39m\u001b[39mTrue\u001b[39;00m)\n\u001b[1;32m     42\u001b[0m \u001b[39m# fit model to training data with validation\u001b[39;00m\n\u001b[0;32m---> 43\u001b[0m history \u001b[39m=\u001b[39m model\u001b[39m.\u001b[39;49mfit(X_train, y_train, batch_size\u001b[39m=\u001b[39;49mbatch_size, epochs\u001b[39m=\u001b[39;49mepochs, validation_data\u001b[39m=\u001b[39;49m(X_val, y_val), callbacks\u001b[39m=\u001b[39;49m[tf\u001b[39m.\u001b[39;49mkeras\u001b[39m.\u001b[39;49mcallbacks\u001b[39m.\u001b[39;49mLearningRateScheduler(lr_schedule)])\n\u001b[1;32m     45\u001b[0m \u001b[39m# evaluate model on test data\u001b[39;00m\n\u001b[1;32m     46\u001b[0m loss, accuracy \u001b[39m=\u001b[39m model\u001b[39m.\u001b[39mevaluate(X_test, y_test)\n",
      "File \u001b[0;32m~/miniconda/lib/python3.10/site-packages/keras/utils/traceback_utils.py:70\u001b[0m, in \u001b[0;36mfilter_traceback.<locals>.error_handler\u001b[0;34m(*args, **kwargs)\u001b[0m\n\u001b[1;32m     67\u001b[0m     filtered_tb \u001b[39m=\u001b[39m _process_traceback_frames(e\u001b[39m.\u001b[39m__traceback__)\n\u001b[1;32m     68\u001b[0m     \u001b[39m# To get the full stack trace, call:\u001b[39;00m\n\u001b[1;32m     69\u001b[0m     \u001b[39m# `tf.debugging.disable_traceback_filtering()`\u001b[39;00m\n\u001b[0;32m---> 70\u001b[0m     \u001b[39mraise\u001b[39;00m e\u001b[39m.\u001b[39mwith_traceback(filtered_tb) \u001b[39mfrom\u001b[39;00m \u001b[39mNone\u001b[39;00m\n\u001b[1;32m     71\u001b[0m \u001b[39mfinally\u001b[39;00m:\n\u001b[1;32m     72\u001b[0m     \u001b[39mdel\u001b[39;00m filtered_tb\n",
      "File \u001b[0;32m/var/folders/_w/v4htfwfd40ggzfmlgw22dk2m0000gn/T/__autograph_generated_filedhc__3jp.py:15\u001b[0m, in \u001b[0;36mouter_factory.<locals>.inner_factory.<locals>.tf__train_function\u001b[0;34m(iterator)\u001b[0m\n\u001b[1;32m     13\u001b[0m \u001b[39mtry\u001b[39;00m:\n\u001b[1;32m     14\u001b[0m     do_return \u001b[39m=\u001b[39m \u001b[39mTrue\u001b[39;00m\n\u001b[0;32m---> 15\u001b[0m     retval_ \u001b[39m=\u001b[39m ag__\u001b[39m.\u001b[39mconverted_call(ag__\u001b[39m.\u001b[39mld(step_function), (ag__\u001b[39m.\u001b[39mld(\u001b[39mself\u001b[39m), ag__\u001b[39m.\u001b[39mld(iterator)), \u001b[39mNone\u001b[39;00m, fscope)\n\u001b[1;32m     16\u001b[0m \u001b[39mexcept\u001b[39;00m:\n\u001b[1;32m     17\u001b[0m     do_return \u001b[39m=\u001b[39m \u001b[39mFalse\u001b[39;00m\n",
      "\u001b[0;31mValueError\u001b[0m: in user code:\n\n    File \"/Users/novay/miniconda/lib/python3.10/site-packages/keras/engine/training.py\", line 1284, in train_function  *\n        return step_function(self, iterator)\n    File \"/Users/novay/miniconda/lib/python3.10/site-packages/keras/engine/training.py\", line 1268, in step_function  **\n        outputs = model.distribute_strategy.run(run_step, args=(data,))\n    File \"/Users/novay/miniconda/lib/python3.10/site-packages/keras/engine/training.py\", line 1249, in run_step  **\n        outputs = model.train_step(data)\n    File \"/Users/novay/miniconda/lib/python3.10/site-packages/keras/engine/training.py\", line 1051, in train_step\n        loss = self.compute_loss(x, y, y_pred, sample_weight)\n    File \"/Users/novay/miniconda/lib/python3.10/site-packages/keras/engine/training.py\", line 1109, in compute_loss\n        return self.compiled_loss(\n    File \"/Users/novay/miniconda/lib/python3.10/site-packages/keras/engine/compile_utils.py\", line 265, in __call__\n        loss_value = loss_obj(y_t, y_p, sample_weight=sw)\n    File \"/Users/novay/miniconda/lib/python3.10/site-packages/keras/losses.py\", line 142, in __call__\n        losses = call_fn(y_true, y_pred)\n    File \"/Users/novay/miniconda/lib/python3.10/site-packages/keras/losses.py\", line 268, in call  **\n        return ag_fn(y_true, y_pred, **self._fn_kwargs)\n    File \"/Users/novay/miniconda/lib/python3.10/site-packages/keras/losses.py\", line 2156, in binary_crossentropy\n        backend.binary_crossentropy(y_true, y_pred, from_logits=from_logits),\n    File \"/Users/novay/miniconda/lib/python3.10/site-packages/keras/backend.py\", line 5707, in binary_crossentropy\n        return tf.nn.sigmoid_cross_entropy_with_logits(\n\n    ValueError: `logits` and `labels` must have the same shape, received ((None, 8, 1) vs (None,)).\n"
     ]
    }
   ],
   "source": [
    "import numpy as np\n",
    "from sklearn.model_selection import train_test_split\n",
    "from tensorflow.keras.models import Sequential\n",
    "from tensorflow.keras.layers import Dense\n",
    "\n",
    "# generate sample data\n",
    "names = np.array(['John', 'Jane', 'Adam', 'Eve', 'Sara', 'Daniel', 'Rachel', 'David', 'Emily', 'Oliver', 'Sophie', 'Harry', 'Isabella', 'William', 'Mia'])\n",
    "labels = np.array([1, 0, 1, 0, 0, 1, 0, 1, 0, 1, 0, 1, 0, 1, 0]) # 1: Laki-laki, 0: Perempuan\n",
    "\n",
    "# convert names to one-hot encoding\n",
    "max_len = len(max(names, key=len))\n",
    "char_to_int = dict((c, i) for i, c in enumerate(sorted(set(' '.join(names)))))\n",
    "X = np.zeros((len(names), max_len, len(char_to_int)))\n",
    "for i, name in enumerate(names):\n",
    "    for j, char in enumerate(name):\n",
    "        X[i, j, char_to_int[char]] = 1\n",
    "\n",
    "# split data into train, validation, test sets\n",
    "X_train, X_test, y_train, y_test = train_test_split(X, labels, test_size=0.2, random_state=42)\n",
    "X_train, X_val, y_train, y_val = train_test_split(X_train, y_train, test_size=0.25, random_state=42)\n",
    "\n",
    "# define model architecture\n",
    "model = Sequential()\n",
    "model.add(Dense(64, activation='relu', input_shape=(max_len, len(char_to_int))))\n",
    "model.add(Dense(128, activation='softplus'))\n",
    "model.add(Dense(1, activation='sigmoid'))\n",
    "\n",
    "# compile model\n",
    "model.compile(optimizer='adam', loss='binary_crossentropy', metrics=['accuracy'])\n",
    "\n",
    "# set up learning rate schedule\n",
    "initial_lr = 0.01\n",
    "batch_size = 128\n",
    "epochs = 10\n",
    "steps_per_epoch = len(X_train) // batch_size\n",
    "lr_schedule = tf.keras.optimizers.schedules.ExponentialDecay(\n",
    "    initial_learning_rate=initial_lr,\n",
    "    decay_steps=steps_per_epoch,\n",
    "    decay_rate=0.9,\n",
    "    staircase=True)\n",
    "\n",
    "# fit model to training data with validation\n",
    "history = model.fit(X_train, y_train, batch_size=batch_size, epochs=epochs, validation_data=(X_val, y_val), callbacks=[tf.keras.callbacks.LearningRateScheduler(lr_schedule)])\n",
    "\n",
    "# evaluate model on test data\n",
    "loss, accuracy = model.evaluate(X_test, y_test)\n",
    "print(f'Test loss: {loss}, Test accuracy: {accuracy}')\n",
    "\n",
    "# make predictions on new data\n",
    "new_names = np.array(['Tom', 'Linda', 'Peter', 'Emma'])\n",
    "new_X = np.zeros((len(new_names), max_len, len(char_to_int)))\n",
    "for i, name in enumerate(new_names):\n",
    "    for j, char in enumerate(name):\n",
    "        new_X[i, j, char_to_int[char]] = 1\n",
    "predictions = model.predict(new_X)\n",
    "for i, name in enumerate(new_names):\n",
    "    print(f'{name} is predicted to be {\"male\" if predictions[i] > 0.5 else \"female\"}')"
   ]
  }
 ],
 "metadata": {
  "kernelspec": {
   "display_name": "base",
   "language": "python",
   "name": "python3"
  },
  "language_info": {
   "codemirror_mode": {
    "name": "ipython",
    "version": 3
   },
   "file_extension": ".py",
   "mimetype": "text/x-python",
   "name": "python",
   "nbconvert_exporter": "python",
   "pygments_lexer": "ipython3",
   "version": "3.10.9"
  },
  "orig_nbformat": 4
 },
 "nbformat": 4,
 "nbformat_minor": 2
}
